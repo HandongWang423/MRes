{
 "cells": [
  {
   "cell_type": "code",
   "execution_count": 1,
   "metadata": {},
   "outputs": [],
   "source": [
    "import pandas as pd\n",
    "import numpy as np\n",
    "import matplotlib.pyplot as plt\n",
    "import torch"
   ]
  },
  {
   "cell_type": "code",
   "execution_count": 4,
   "metadata": {},
   "outputs": [],
   "source": [
    "from sklearn.model_selection import train_test_split\n",
    "torch.set_default_dtype(torch.float64)"
   ]
  },
  {
   "cell_type": "code",
   "execution_count": 5,
   "metadata": {},
   "outputs": [],
   "source": [
    "def create_balanced_batches(x, y,w, batch_size = None):\n",
    "    x = torch.tensor(x)\n",
    "    y = torch.tensor(y)\n",
    "    w = torch.tensor(w)\n",
    "    unique_classes = dfy.unique()\n",
    "    batches = torch.tensor([])\n",
    "    for cls in unique_classes:\n",
    "        cls_indices = dfy[dfy == cls].nonzero()\n",
    "        cls_dfx = x[cls_indices]\n",
    "        cls_dfy = y[cls_indices]\n",
    "        cls_dfw = w[cls_indices]\n",
    "        cls_data = list(zip(cls_dfx, cls_dfy, cls_dfw))\n",
    "        np.random.shuffle(cls_data)\n",
    "        cls_batches = torch.tensor([cls_data[i:i + batch_size // len(unique_classes)] for i in range(0, len(cls_data), batch_size // len(unique_classes))])\n",
    "        torch.cat([batches,cls_batches])\n",
    "    np.random.shuffle(batches)\n",
    "    return batches"
   ]
  },
  {
   "cell_type": "code",
   "execution_count": 11,
   "metadata": {},
   "outputs": [],
   "source": [
    "x = X_train\n",
    "y = y_train\n",
    "w = w_train"
   ]
  },
  {
   "cell_type": "code",
   "execution_count": 17,
   "metadata": {},
   "outputs": [],
   "source": [
    "x = torch.tensor(np.array(x))\n",
    "y = torch.tensor(np.array(y),dtype = torch.float32)\n",
    "w = torch.tensor(np.array(w))\n",
    "batches = torch.tensor([])"
   ]
  },
  {
   "cell_type": "code",
   "execution_count": null,
   "metadata": {},
   "outputs": [],
   "source": []
  },
  {
   "cell_type": "code",
   "execution_count": 90,
   "metadata": {},
   "outputs": [
    {
     "ename": "TypeError",
     "evalue": "only integer tensors of a single element can be converted to an index",
     "output_type": "error",
     "traceback": [
      "\u001b[0;31m---------------------------------------------------------------------------\u001b[0m",
      "\u001b[0;31mTypeError\u001b[0m                                 Traceback (most recent call last)",
      "Cell \u001b[0;32mIn[90], line 1\u001b[0m\n\u001b[0;32m----> 1\u001b[0m \u001b[38;5;28;43menumerate\u001b[39;49m\u001b[43m(\u001b[49m\u001b[43mx\u001b[49m\u001b[43m,\u001b[49m\u001b[43my\u001b[49m\u001b[43m)\u001b[49m\n",
      "\u001b[0;31mTypeError\u001b[0m: only integer tensors of a single element can be converted to an index"
     ]
    }
   ],
   "source": []
  },
  {
   "cell_type": "code",
   "execution_count": null,
   "metadata": {},
   "outputs": [
    {
     "ename": "SyntaxError",
     "evalue": "expected ':' (1762461581.py, line 2)",
     "output_type": "error",
     "traceback": [
      "\u001b[0;36m  Cell \u001b[0;32mIn[274], line 2\u001b[0;36m\u001b[0m\n\u001b[0;31m    def get_balanced_batch(x,y,w,bathchsize)\u001b[0m\n\u001b[0m                                            ^\u001b[0m\n\u001b[0;31mSyntaxError\u001b[0m\u001b[0;31m:\u001b[0m expected ':'\n"
     ]
    }
   ],
   "source": [
    "batchsize=1000\n",
    "def get_balanced_batch(x,y,w,bathchsize)\n",
    "    batch = []\n",
    "    dim = y.size()[1]\n",
    "    size = y.size()[0]\n",
    "    num  = size // batchsize\n",
    "    for i in range(dim):\n",
    "        filted = x.T*y.T[i]\n",
    "        msk = (filted).mean(dim=0)!=0\n",
    "        btx = filted[:,msk.view(-1)].T\n",
    "        filted = y.T*y.T[i]\n",
    "        msk = (filted).mean(dim=0)!=0\n",
    "        bty = filted[:,msk.view(-1)].T\n",
    "        filted = w.T*y.T[i]\n",
    "        msk = filted!=0\n",
    "        btw = (filted[msk.view(-1)].T).view(-1,1)\n",
    "        bt = [btx,bty,btw]\n",
    "        batch.append(bt)\n",
    "\n",
    "    batches = []\n",
    "    for n in range(num):\n",
    "        id = n*batchsize\n",
    "        x_b=torch.tensor([])\n",
    "        y_b=torch.tensor([])\n",
    "        w_b=torch.tensor([])\n",
    "        for i in range(dim):\n",
    "            x_b= torch.cat([x_b,batch[i][0][id:id+batchsize]])\n",
    "            y_b= torch.cat([y_b,batch[i][1][id:id+batchsize]])\n",
    "            w_b= torch.cat([w_b,batch[i][2][id:id+batchsize]])\n",
    "        batches.append([x_b,y_b,w_b])\n",
    "    return batches\n",
    "        \n"
   ]
  },
  {
   "cell_type": "code",
   "execution_count": 302,
   "metadata": {},
   "outputs": [
    {
     "ename": "RuntimeError",
     "evalue": "a Tensor with 7 elements cannot be converted to Scalar",
     "output_type": "error",
     "traceback": [
      "\u001b[0;31m---------------------------------------------------------------------------\u001b[0m",
      "\u001b[0;31mRuntimeError\u001b[0m                              Traceback (most recent call last)",
      "Cell \u001b[0;32mIn[302], line 1\u001b[0m\n\u001b[0;32m----> 1\u001b[0m \u001b[43m(\u001b[49m\u001b[43my\u001b[49m\u001b[38;5;241;43m.\u001b[39;49m\u001b[43msum\u001b[49m\u001b[43m(\u001b[49m\u001b[43mdim\u001b[49m\u001b[38;5;241;43m=\u001b[39;49m\u001b[38;5;241;43m0\u001b[39;49m\u001b[43m)\u001b[49m\u001b[38;5;241;43m/\u001b[39;49m\u001b[43my\u001b[49m\u001b[38;5;241;43m.\u001b[39;49m\u001b[43msum\u001b[49m\u001b[43m(\u001b[49m\u001b[43m)\u001b[49m\u001b[38;5;241;43m*\u001b[39;49m\u001b[43mbatchsize\u001b[49m\u001b[43m)\u001b[49m\u001b[38;5;241;43m.\u001b[39;49m\u001b[43mitem\u001b[49m\u001b[43m(\u001b[49m\u001b[43m)\u001b[49m\n",
      "\u001b[0;31mRuntimeError\u001b[0m: a Tensor with 7 elements cannot be converted to Scalar"
     ]
    }
   ],
   "source": [
    "(y.sum(dim=0)/y.sum()*batchsize).item()"
   ]
  },
  {
   "cell_type": "code",
   "execution_count": 280,
   "metadata": {},
   "outputs": [
    {
     "name": "stdout",
     "output_type": "stream",
     "text": [
      "torch.Size([7000, 7])\n",
      "torch.Size([7000, 7])\n",
      "torch.Size([7000, 7])\n",
      "torch.Size([7000, 7])\n",
      "torch.Size([7000, 7])\n",
      "torch.Size([7000, 7])\n",
      "torch.Size([7000, 7])\n",
      "torch.Size([7000, 7])\n",
      "torch.Size([7000, 7])\n",
      "torch.Size([7000, 7])\n"
     ]
    }
   ],
   "source": [
    "for BX,BY,BW in batches[:10]:\n",
    "    print(BY.size())"
   ]
  },
  {
   "cell_type": "code",
   "execution_count": 258,
   "metadata": {},
   "outputs": [
    {
     "data": {
      "text/plain": [
       "tensor([[9.4112e-02, 8.6659e-01, 3.6283e-02,  ..., 9.4449e-04, 3.9948e-05,\n",
       "         9.1545e-04],\n",
       "        [1.9582e-01, 1.5962e-01, 2.6510e-01,  ..., 7.2050e-04, 4.1710e-02,\n",
       "         3.3465e-01],\n",
       "        [5.5543e-02, 8.9861e-01, 4.3566e-02,  ..., 8.8505e-04, 2.7090e-05,\n",
       "         5.6236e-04],\n",
       "        ...,\n",
       "        [2.3576e-01, 5.5713e-02, 4.7241e-01,  ..., 1.0165e-03, 2.3923e-03,\n",
       "         2.2994e-01],\n",
       "        [2.9131e-02, 4.2706e-01, 4.9737e-01,  ..., 1.6510e-03, 3.5151e-04,\n",
       "         4.2112e-02],\n",
       "        [1.9602e-01, 2.3108e-01, 3.1793e-01,  ..., 1.7122e-03, 4.9433e-03,\n",
       "         2.4585e-01]], dtype=torch.float32)"
      ]
     },
     "execution_count": 258,
     "metadata": {},
     "output_type": "execute_result"
    }
   ],
   "source": [
    "batch[0][0][0:1000]"
   ]
  },
  {
   "cell_type": "code",
   "execution_count": 198,
   "metadata": {},
   "outputs": [
    {
     "data": {
      "text/plain": [
       "tensor([[[4.8447e-02, 1.1093e-02, 4.7640e-02,  ..., 7.3550e-04,\n",
       "          4.0461e-01, 4.8260e-01],\n",
       "         [5.3815e-04, 8.7645e-04, 3.2505e-03,  ..., 2.0515e-05,\n",
       "          1.4548e-01, 8.4982e-01],\n",
       "         [5.6603e-03, 8.4991e-03, 9.2135e-03,  ..., 7.8373e-03,\n",
       "          1.2666e-01, 8.1915e-01],\n",
       "         ...,\n",
       "         [7.1522e-06, 6.5898e-06, 1.0951e-05,  ..., 9.0639e-05,\n",
       "          5.1322e-03, 9.9447e-01],\n",
       "         [1.6767e-03, 4.3159e-03, 1.2776e-02,  ..., 6.7657e-05,\n",
       "          1.8397e-02, 9.6270e-01],\n",
       "         [9.6690e-03, 1.8396e-01, 1.0170e-01,  ..., 4.4483e-04,\n",
       "          2.0049e-03, 7.0087e-01]],\n",
       "\n",
       "        [[0.0000e+00, 0.0000e+00, 0.0000e+00,  ..., 0.0000e+00,\n",
       "          0.0000e+00, 1.0000e+00],\n",
       "         [0.0000e+00, 0.0000e+00, 0.0000e+00,  ..., 0.0000e+00,\n",
       "          0.0000e+00, 1.0000e+00],\n",
       "         [0.0000e+00, 0.0000e+00, 0.0000e+00,  ..., 0.0000e+00,\n",
       "          0.0000e+00, 1.0000e+00],\n",
       "         ...,\n",
       "         [0.0000e+00, 0.0000e+00, 0.0000e+00,  ..., 0.0000e+00,\n",
       "          0.0000e+00, 1.0000e+00],\n",
       "         [0.0000e+00, 0.0000e+00, 0.0000e+00,  ..., 0.0000e+00,\n",
       "          0.0000e+00, 1.0000e+00],\n",
       "         [0.0000e+00, 0.0000e+00, 0.0000e+00,  ..., 0.0000e+00,\n",
       "          0.0000e+00, 1.0000e+00]]], dtype=torch.float32)"
      ]
     },
     "execution_count": 198,
     "metadata": {},
     "output_type": "execute_result"
    }
   ],
   "source": [
    "xy = torch.cat([btx,bty])\n",
    "xy.view(2,-1,7)"
   ]
  },
  {
   "cell_type": "code",
   "execution_count": 197,
   "metadata": {},
   "outputs": [
    {
     "data": {
      "text/plain": [
       "tensor([[4.8447e-02, 1.1093e-02, 4.7640e-02,  ..., 7.3550e-04, 4.0461e-01,\n",
       "         4.8260e-01],\n",
       "        [5.3815e-04, 8.7645e-04, 3.2505e-03,  ..., 2.0515e-05, 1.4548e-01,\n",
       "         8.4982e-01],\n",
       "        [5.6603e-03, 8.4991e-03, 9.2135e-03,  ..., 7.8373e-03, 1.2666e-01,\n",
       "         8.1915e-01],\n",
       "        ...,\n",
       "        [7.1522e-06, 6.5898e-06, 1.0951e-05,  ..., 9.0639e-05, 5.1322e-03,\n",
       "         9.9447e-01],\n",
       "        [1.6767e-03, 4.3159e-03, 1.2776e-02,  ..., 6.7657e-05, 1.8397e-02,\n",
       "         9.6270e-01],\n",
       "        [9.6690e-03, 1.8396e-01, 1.0170e-01,  ..., 4.4483e-04, 2.0049e-03,\n",
       "         7.0087e-01]], dtype=torch.float32)"
      ]
     },
     "execution_count": 197,
     "metadata": {},
     "output_type": "execute_result"
    }
   ],
   "source": [
    "btx"
   ]
  },
  {
   "cell_type": "code",
   "execution_count": null,
   "metadata": {},
   "outputs": [
    {
     "ename": "ValueError",
     "evalue": "only one element tensors can be converted to Python scalars",
     "output_type": "error",
     "traceback": [
      "\u001b[0;31m---------------------------------------------------------------------------\u001b[0m",
      "\u001b[0;31mValueError\u001b[0m                                Traceback (most recent call last)",
      "Cell \u001b[0;32mIn[66], line 1\u001b[0m\n\u001b[0;32m----> 1\u001b[0m \u001b[43mtorch\u001b[49m\u001b[38;5;241;43m.\u001b[39;49m\u001b[43mtensor\u001b[49m\u001b[43m(\u001b[49m\u001b[43m[\u001b[49m\u001b[43mx\u001b[49m\u001b[43m]\u001b[49m\u001b[43m)\u001b[49m\n",
      "\u001b[0;31mValueError\u001b[0m: only one element tensors can be converted to Python scalars"
     ]
    }
   ],
   "source": [
    "M = torch.einsum('kn,nm->knm', y.T, x)"
   ]
  },
  {
   "cell_type": "code",
   "execution_count": null,
   "metadata": {},
   "outputs": [],
   "source": [
    "for cls in unique_classes:\n",
    "    cls_indices = dfy[dfy == cls].nonzero()\n",
    "    cls_dfx = x[cls_indices]\n",
    "    cls_dfy = y[cls_indices]\n",
    "    cls_dfw = w[cls_indices]\n",
    "    cls_data = list(zip(cls_dfx, cls_dfy, cls_dfw))\n",
    "    np.random.shuffle(cls_data)\n",
    "    cls_batches = torch.tensor([cls_data[i:i + batch_size // len(unique_classes)] for i in range(0, len(cls_data), batch_size // len(unique_classes))])\n",
    "    torch.cat([batches,cls_batches])\n",
    "np.random.shuffle(batches)"
   ]
  },
  {
   "cell_type": "code",
   "execution_count": 7,
   "metadata": {},
   "outputs": [],
   "source": [
    "\n",
    "# filecode = 'x10x40'\n",
    "filecode = 'InfA_xgb_AJF'\n",
    "savecode = 'x14x2'\n",
    "train_hp = {\n",
    "    \"lr\":3e-5,\n",
    "    \"batch_size\":1000,\n",
    "    \"N_epochs\":400,\n",
    "    \"seed\":0,\n",
    "\n",
    "}\n",
    "\n",
    "oc = np.load(f'/vols/cms/hw423/Data/Week14/octest_{filecode}.npy')\n",
    "df = pd.DataFrame(oc)\n",
    "dfx = df\n",
    "\n",
    "label = pd.read_pickle('/vols/cms/hw423/Data/Week14/Label.pkl')\n",
    "dfy = pd.get_dummies(label)\n",
    "dfw = pd.read_pickle('/vols/cms/hw423/Data/Week14/weight.pkl')\n",
    "\n",
    "\n",
    "\n",
    "X_train, X_test, y_train, y_test, w_train, w_test = train_test_split(dfx, dfy,dfw, test_size=0.2, random_state=42)\n"
   ]
  },
  {
   "cell_type": "code",
   "execution_count": 22,
   "metadata": {},
   "outputs": [],
   "source": [
    "\n",
    "# optimiser = torch.optim.SGD(model.parameters(), lr=0.01)\n",
    "X_train =X_train.to_numpy()\n",
    "X_test = X_test.to_numpy()\n",
    "y_train = y_train.to_numpy()\n",
    "y_test = y_test.to_numpy()\n",
    "w_train = w_train.to_numpy()\n",
    "w_test = w_test.to_numpy()\n",
    "\n",
    "train_loss, test_loss = [], []\n",
    "mu_ini = torch.ones(6)\n",
    "ia_loss = lambda x,y,w,m: InfAwareLoss(x,y,w,m,mu_ini)"
   ]
  },
  {
   "cell_type": "code",
   "execution_count": 23,
   "metadata": {},
   "outputs": [
    {
     "ename": "KeyboardInterrupt",
     "evalue": "",
     "output_type": "error",
     "traceback": [
      "\u001b[0;31m---------------------------------------------------------------------------\u001b[0m",
      "\u001b[0;31mValueError\u001b[0m                                Traceback (most recent call last)",
      "    \u001b[0;31m[... skipping hidden 1 frame]\u001b[0m\n",
      "Cell \u001b[0;32mIn[23], line 1\u001b[0m\n\u001b[0;32m----> 1\u001b[0m batch_gen \u001b[38;5;241m=\u001b[39m \u001b[43mcreate_balanced_batches\u001b[49m\u001b[43m(\u001b[49m\u001b[43mX_train\u001b[49m\u001b[43m,\u001b[49m\u001b[43m \u001b[49m\u001b[43my_train\u001b[49m\u001b[43m,\u001b[49m\u001b[43m \u001b[49m\u001b[43mw_train\u001b[49m\u001b[43m,\u001b[49m\u001b[43m \u001b[49m\u001b[43mbatch_size\u001b[49m\u001b[43m \u001b[49m\u001b[38;5;241;43m=\u001b[39;49m\u001b[43m \u001b[49m\u001b[43mtrain_hp\u001b[49m\u001b[43m[\u001b[49m\u001b[38;5;124;43m'\u001b[39;49m\u001b[38;5;124;43mbatch_size\u001b[39;49m\u001b[38;5;124;43m'\u001b[39;49m\u001b[43m]\u001b[49m\u001b[43m)\u001b[49m\n\u001b[1;32m      2\u001b[0m \u001b[38;5;66;03m# for batch in batch_gen:\u001b[39;00m\n\u001b[1;32m      3\u001b[0m \u001b[38;5;66;03m#     batch = torch.tensor(np.array(batch)).T\u001b[39;00m\n\u001b[1;32m      4\u001b[0m \u001b[38;5;66;03m#     print(batch.size())\u001b[39;00m\n\u001b[1;32m      5\u001b[0m \u001b[38;5;66;03m#     X_tensor, y_tensor, w_tensor = batch\u001b[39;00m\n",
      "Cell \u001b[0;32mIn[20], line 14\u001b[0m, in \u001b[0;36mcreate_balanced_batches\u001b[0;34m(dfx, dfy, dfw, batch_size)\u001b[0m\n\u001b[1;32m     13\u001b[0m np\u001b[38;5;241m.\u001b[39mrandom\u001b[38;5;241m.\u001b[39mshuffle(cls_data)\n\u001b[0;32m---> 14\u001b[0m cls_batches \u001b[38;5;241m=\u001b[39m \u001b[43mtorch\u001b[49m\u001b[38;5;241;43m.\u001b[39;49m\u001b[43mtensor\u001b[49m\u001b[43m(\u001b[49m\u001b[43m[\u001b[49m\u001b[43mcls_data\u001b[49m\u001b[43m[\u001b[49m\u001b[43mi\u001b[49m\u001b[43m:\u001b[49m\u001b[43mi\u001b[49m\u001b[43m \u001b[49m\u001b[38;5;241;43m+\u001b[39;49m\u001b[43m \u001b[49m\u001b[43mbatch_size\u001b[49m\u001b[43m \u001b[49m\u001b[38;5;241;43m/\u001b[39;49m\u001b[38;5;241;43m/\u001b[39;49m\u001b[43m \u001b[49m\u001b[38;5;28;43mlen\u001b[39;49m\u001b[43m(\u001b[49m\u001b[43munique_classes\u001b[49m\u001b[43m)\u001b[49m\u001b[43m]\u001b[49m\u001b[43m \u001b[49m\u001b[38;5;28;43;01mfor\u001b[39;49;00m\u001b[43m \u001b[49m\u001b[43mi\u001b[49m\u001b[43m \u001b[49m\u001b[38;5;129;43;01min\u001b[39;49;00m\u001b[43m \u001b[49m\u001b[38;5;28;43mrange\u001b[39;49m\u001b[43m(\u001b[49m\u001b[38;5;241;43m0\u001b[39;49m\u001b[43m,\u001b[49m\u001b[43m \u001b[49m\u001b[38;5;28;43mlen\u001b[39;49m\u001b[43m(\u001b[49m\u001b[43mcls_data\u001b[49m\u001b[43m)\u001b[49m\u001b[43m,\u001b[49m\u001b[43m \u001b[49m\u001b[43mbatch_size\u001b[49m\u001b[43m \u001b[49m\u001b[38;5;241;43m/\u001b[39;49m\u001b[38;5;241;43m/\u001b[39;49m\u001b[43m \u001b[49m\u001b[38;5;28;43mlen\u001b[39;49m\u001b[43m(\u001b[49m\u001b[43munique_classes\u001b[49m\u001b[43m)\u001b[49m\u001b[43m)\u001b[49m\u001b[43m]\u001b[49m\u001b[43m)\u001b[49m\n\u001b[1;32m     15\u001b[0m torch\u001b[38;5;241m.\u001b[39mcat([batches,cls_batches])\n",
      "\u001b[0;31mValueError\u001b[0m: only one element tensors can be converted to Python scalars",
      "\nDuring handling of the above exception, another exception occurred:\n",
      "\u001b[0;31mKeyboardInterrupt\u001b[0m                         Traceback (most recent call last)",
      "File \u001b[0;32m/vols/cms/hw423/env/envs/env/lib/python3.11/site-packages/IPython/core/interactiveshell.py:3571\u001b[0m, in \u001b[0;36mInteractiveShell.run_code\u001b[0;34m(self, code_obj, result, async_)\u001b[0m\n\u001b[1;32m   3569\u001b[0m \u001b[38;5;28;01mexcept\u001b[39;00m:\n\u001b[1;32m   3570\u001b[0m     \u001b[38;5;28;01mif\u001b[39;00m result \u001b[38;5;129;01mis\u001b[39;00m \u001b[38;5;129;01mnot\u001b[39;00m \u001b[38;5;28;01mNone\u001b[39;00m:\n\u001b[0;32m-> 3571\u001b[0m         result\u001b[38;5;241m.\u001b[39merror_in_exec \u001b[38;5;241m=\u001b[39m \u001b[43msys\u001b[49m\u001b[38;5;241;43m.\u001b[39;49m\u001b[43mexc_info\u001b[49m\u001b[43m(\u001b[49m\u001b[43m)\u001b[49m[\u001b[38;5;241m1\u001b[39m]\n\u001b[1;32m   3572\u001b[0m     \u001b[38;5;28mself\u001b[39m\u001b[38;5;241m.\u001b[39mshowtraceback(running_compiled_code\u001b[38;5;241m=\u001b[39m\u001b[38;5;28;01mTrue\u001b[39;00m)\n\u001b[1;32m   3573\u001b[0m \u001b[38;5;28;01melse\u001b[39;00m:\n",
      "\u001b[0;31mKeyboardInterrupt\u001b[0m: "
     ]
    }
   ],
   "source": [
    "batch_gen = create_balanced_batches(X_train, y_train, w_train, batch_size = train_hp['batch_size'])\n",
    "# for batch in batch_gen:\n",
    "#     batch = torch.tensor(np.array(batch)).T\n",
    "#     print(batch.size())\n",
    "#     X_tensor, y_tensor, w_tensor = batch\n"
   ]
  },
  {
   "cell_type": "code",
   "execution_count": 16,
   "metadata": {},
   "outputs": [
    {
     "ename": "ValueError",
     "evalue": "only one element tensors can be converted to Python scalars",
     "output_type": "error",
     "traceback": [
      "\u001b[0;31m---------------------------------------------------------------------------\u001b[0m",
      "\u001b[0;31mValueError\u001b[0m                                Traceback (most recent call last)",
      "Cell \u001b[0;32mIn[16], line 1\u001b[0m\n\u001b[0;32m----> 1\u001b[0m \u001b[43mtorch\u001b[49m\u001b[38;5;241;43m.\u001b[39;49m\u001b[43mtensor\u001b[49m\u001b[43m(\u001b[49m\u001b[43mbatch_gen\u001b[49m\u001b[43m)\u001b[49m\n",
      "\u001b[0;31mValueError\u001b[0m: only one element tensors can be converted to Python scalars"
     ]
    }
   ],
   "source": [
    "torch.tensor(batch_gen)"
   ]
  },
  {
   "cell_type": "code",
   "execution_count": null,
   "metadata": {},
   "outputs": [],
   "source": []
  },
  {
   "cell_type": "code",
   "execution_count": 3,
   "metadata": {},
   "outputs": [],
   "source": [
    "df_sample = df.sample(n=1000)"
   ]
  },
  {
   "cell_type": "code",
   "execution_count": 8,
   "metadata": {},
   "outputs": [
    {
     "data": {
      "text/plain": [
       "41187      1.926653\n",
       "2794036   -0.574445\n",
       "2442116    0.632852\n",
       "2458252   -0.352543\n",
       "274446    -0.491701\n",
       "             ...   \n",
       "870664    -0.533073\n",
       "2748466   -0.164490\n",
       "1653439   -0.469135\n",
       "2130389   -0.668471\n",
       "894239     1.024001\n",
       "Name: subleadPhotonSigmaE, Length: 1000, dtype: float32"
      ]
     },
     "execution_count": 8,
     "metadata": {},
     "output_type": "execute_result"
    }
   ],
   "source": [
    "df_sample['subleadPhotonSigmaE']"
   ]
  },
  {
   "cell_type": "code",
   "execution_count": 17,
   "metadata": {},
   "outputs": [
    {
     "data": {
      "text/plain": [
       "(array([578., 228., 106.,  51.,  19.,   8.,   4.,   3.,   2.,   1.]),\n",
       " array([-1.00466573, -0.18641947,  0.63182676,  1.450073  ,  2.26831937,\n",
       "         3.08656549,  3.90481186,  4.72305822,  5.54130411,  6.35955048,\n",
       "         7.17779684]),\n",
       " <BarContainer object of 10 artists>)"
      ]
     },
     "execution_count": 17,
     "metadata": {},
     "output_type": "execute_result"
    },
    {
     "data": {
      "image/png": "[encoded data removed]",
      "text/plain": [
       "<Figure size 640x480 with 1 Axes>"
      ]
     },
     "metadata": {},
     "output_type": "display_data"
    }
   ],
   "source": [
    "plt.hist(df_sample['subleadPhotonEn'])"
   ]
  }
 ],
 "metadata": {
  "kernelspec": {
   "display_name": "Python 3",
   "language": "python",
   "name": "python3"
  },
  "language_info": {
   "codemirror_mode": {
    "name": "ipython",
    "version": 3
   },
   "file_extension": ".py",
   "mimetype": "text/x-python",
   "name": "python",
   "nbconvert_exporter": "python",
   "pygments_lexer": "ipython3",
   "version": "3.11.5"
  }
 },
 "nbformat": 4,
 "nbformat_minor": 2
}
