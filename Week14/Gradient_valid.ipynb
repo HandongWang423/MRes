{
 "cells": [
  {
   "cell_type": "code",
   "execution_count": 1,
   "metadata": {},
   "outputs": [],
   "source": [
    "import pandas as pd\n",
    "import numpy as np\n",
    "import torch\n",
    "import torch.nn as nn\n",
    "import torch.nn.functional as F\n",
    "from sklearn.model_selection import train_test_split\n",
    "\n",
    "def hess_to_tensor(H):\n",
    "    hess_elements = []\n",
    "    for i in range(len(H)):\n",
    "        for j in range(len(H)):\n",
    "            hess_elements.append(H[i][j].reshape(1))\n",
    "    return torch.cat(hess_elements).reshape(len(H),len(H))\n",
    "\n",
    "class Net(nn.Module):\n",
    "    def __init__(self, n_features=7, nodes=[7], output_nodes=7,temp=0.0001):\n",
    "        super(Net, self).__init__()\n",
    "        self.temperature = temp\n",
    "        # Build network\n",
    "        n_nodes = [n_features] + nodes + [output_nodes]\n",
    "        self.layers = nn.ModuleList()\n",
    "        for i in range(len(n_nodes) - 1):\n",
    "            linear_layer = nn.Linear(n_nodes[i], n_nodes[i+1])\n",
    "\n",
    "            with torch.no_grad():\n",
    "                linear_layer.weight.copy_(torch.eye(n_nodes[i+1], n_nodes[i]))\n",
    "            with torch.no_grad():\n",
    "                linear_layer.bias.zero_()\n",
    "            self.layers.append(linear_layer)\n",
    "            \n",
    "            self.layers.append(nn.ReLU())\n",
    "        \n",
    "        \n",
    "    # def _init_weights(self, module):\n",
    "    #     if isinstance(module, nn.Linear):\n",
    "    #         module.weight.data.copy_(torch.eye(7))\n",
    "    #         if module.bias is not None:\n",
    "    #             module.bias.data.zero_()\n",
    "    #     print('INITIALED')\n",
    "\n",
    "\n",
    "    def forward(self, x):\n",
    "        out = self.layers[0](x)\n",
    "        for layer in self.layers[1:]:\n",
    "            out = layer(out)\n",
    "        return out\n",
    "        # out = out / self.temperature\n",
    "        # return torch.softmax(out, dim=1)\n",
    "        \n",
    "    def set_temperature(self, temp):\n",
    "        self.temperature = temp\n",
    "\n"
   ]
  },
  {
   "cell_type": "code",
   "execution_count": 2,
   "metadata": {},
   "outputs": [],
   "source": [
    "filecode = 'InfA_RD_DPrmvd'\n",
    "oc = np.load(f'/vols/cms/hw423/Data/Week14/octest_{filecode}.npy')\n",
    "Lb = pd.read_pickle('/vols/cms/hw423/Data/Week14/Label.pkl')\n",
    "dfy = pd.get_dummies(Lb)\n",
    "dfw = pd.read_pickle('/vols/cms/hw423/Data/Week14/weight.pkl')\n",
    "true = torch.tensor(np.array(dfy).astype(int))\n",
    "\n",
    "labels = torch.tensor(np.array(Lb))\n",
    "OC = torch.tensor(oc)\n",
    "weight = torch.tensor(np.array(dfw))*138000\n",
    "label = torch.tensor(np.array(dfy),dtype = torch.float32)\n",
    "\n",
    "\n",
    "model = Net()"
   ]
  },
  {
   "cell_type": "code",
   "execution_count": 38,
   "metadata": {},
   "outputs": [],
   "source": [
    "def smooth_argmax(tensor, dim=-1, temperature=1.0):\n",
    "    softmax_tensor =F.softmax(tensor / temperature, dim=dim)\n",
    "    return softmax_tensor\n",
    "def confusion_matrix(OC,label,weight,model):\n",
    "    label_w = weight.unsqueeze(1)*label\n",
    "    pred_matrix = smooth_argmax(model(OC),temperature=.01,dim=1)\n",
    "    confusion_matrix = torch.matmul(pred_matrix.t(),label_w)[1:,:]\n",
    "    return confusion_matrix\n",
    "def nll(theta1,OC,label,weight,model):\n",
    "    cm = confusion_matrix(OC,label,weight,model)\n",
    "    O = torch.sum(cm,dim=1)\n",
    "    theta0 = torch.ones(1)\n",
    "    theta = torch.cat([theta0,theta1])\n",
    "    return -(O@(torch.log(cm@theta))-torch.sum((cm@theta)))\n",
    "def InfAwareLoss(input,label,weight,theta_init,model):\n",
    "    theta = torch.tensor(theta_init)\n",
    "    hess = torch.func.hessian(nll,0)(theta,input,label,weight,model)\n",
    "    H = hess_to_tensor(hess)\n",
    "    I = torch.inverse(H)\n",
    "    return torch.trace(I)**0.5"
   ]
  },
  {
   "cell_type": "code",
   "execution_count": 34,
   "metadata": {},
   "outputs": [],
   "source": [
    "def tloss(out,label,weight,theta,model):\n",
    "    theta1 = torch.ones(6)\n",
    "    nlls = nll(theta1,OC,label,weight,model)\n",
    "    hess = torch.func.hessian(nll,0)(theta,out,label,weight,model)\n",
    "    H = hess_to_tensor(hess)\n",
    "    I = torch.inverse(H)\n",
    "    return torch.trace(I)**0.5"
   ]
  },
  {
   "cell_type": "code",
   "execution_count": 7,
   "metadata": {},
   "outputs": [],
   "source": [
    "model = Net()\n",
    "theta = torch.ones(6)\n",
    "out = model(OC)"
   ]
  },
  {
   "cell_type": "code",
   "execution_count": 31,
   "metadata": {},
   "outputs": [
    {
     "name": "stdout",
     "output_type": "stream",
     "text": [
      "tensor(384.9692, grad_fn=<TraceBackward0>)\n"
     ]
    }
   ],
   "source": [
    "l = tloss(out,label,weight,theta,model)\n",
    "print(l)"
   ]
  },
  {
   "cell_type": "code",
   "execution_count": 68,
   "metadata": {},
   "outputs": [
    {
     "data": {
      "text/plain": [
       "tensor([[-5.6578e-03,  1.9097e-02, -1.7581e-02,  1.9246e-01, -7.3483e-04,\n",
       "          7.4694e-03],\n",
       "        [ 1.9097e-02, -2.2473e-01, -9.3603e-03,  2.7169e-01, -2.0733e-01,\n",
       "          2.7118e+00],\n",
       "        [-1.7581e-02, -9.3602e-03, -5.1238e+00,  1.0091e+01, -7.9550e-01,\n",
       "          9.2549e+00],\n",
       "        [ 1.9246e-01,  2.7169e-01,  1.0091e+01, -7.7378e+01,  1.2011e+00,\n",
       "         -6.5414e+00],\n",
       "        [-7.3483e-04, -2.0733e-01, -7.9550e-01,  1.2011e+00, -5.1286e+00,\n",
       "          3.1129e+01],\n",
       "        [ 7.4694e-03,  2.7118e+00,  9.2549e+00, -6.5414e+00,  3.1129e+01,\n",
       "         -2.9711e+02]], grad_fn=<NegBackward0>)"
      ]
     },
     "execution_count": 68,
     "metadata": {},
     "output_type": "execute_result"
    }
   ],
   "source": [
    "# nll(theta,OC,label,weight,model)\n",
    "theta = torch.ones(6)\n",
    "hess = torch.func.hessian(nll,0)(theta,OC,label,weight,model)\n",
    "H = hess_to_tensor(hess)\n",
    "I = -torch.inverse(H)\n",
    "I"
   ]
  },
  {
   "cell_type": "code",
   "execution_count": 39,
   "metadata": {},
   "outputs": [
    {
     "name": "stderr",
     "output_type": "stream",
     "text": [
      "/tmp/ipykernel_2442879/2139371248.py:16: UserWarning: To copy construct from a tensor, it is recommended to use sourceTensor.clone().detach() or sourceTensor.clone().detach().requires_grad_(True), rather than torch.tensor(sourceTensor).\n",
      "  theta = torch.tensor(theta_init)\n"
     ]
    },
    {
     "data": {
      "text/plain": [
       "tensor(19.6206, grad_fn=<PowBackward0>)"
      ]
     },
     "execution_count": 39,
     "metadata": {},
     "output_type": "execute_result"
    }
   ],
   "source": [
    "model = Net()\n",
    "theta = torch.ones(6)\n",
    "model.train()\n",
    "out = model(OC)\n",
    "optimiser = torch.optim.Adam(model.parameters(), lr=0.001)\n",
    "optimiser.zero_grad()\n",
    "loss = InfAwareLoss(out,label,weight,theta,model)\n",
    "# loss = tloss(out,label,weight,theta,model)\n",
    "loss"
   ]
  },
  {
   "cell_type": "code",
   "execution_count": 40,
   "metadata": {},
   "outputs": [
    {
     "name": "stdout",
     "output_type": "stream",
     "text": [
      "Gradient layers.0.weight: tensor([[-2.1199e-12, -2.8906e-11, -3.5646e-11, -3.6202e-12, -2.3931e-11,\n",
      "         -3.5365e-11, -3.7856e-11],\n",
      "        [-2.6858e-02, -4.6698e+00, -9.6111e-01, -1.3058e+00, -4.4255e+00,\n",
      "         -8.9785e-02, -1.2818e-01],\n",
      "        [-1.2794e-01, -1.3121e+00, -4.8906e+00, -2.3892e-01, -1.0260e+00,\n",
      "         -2.1419e+00, -4.6623e+00],\n",
      "        [-4.0741e-04, -8.8537e-02, -2.7076e-02,  6.0592e-04, -9.8041e-02,\n",
      "          1.9141e-02,  9.5398e-02],\n",
      "        [ 3.2064e-02,  4.6911e+00,  1.1659e+00,  1.5116e+00,  4.9557e+00,\n",
      "          4.2863e-02,  8.9755e-02],\n",
      "        [-6.4443e-02, -6.8549e-01, -1.6112e+00,  1.0240e-01, -3.5463e-01,\n",
      "          1.7911e+00,  1.7993e+00],\n",
      "        [ 1.8758e-01,  2.0647e+00,  6.3240e+00, -6.9922e-02,  9.4841e-01,\n",
      "          3.7849e-01,  2.8061e+00]])\n",
      "Gradient layers.0.bias: tensor([-1.6744e-10, -1.1607e+01, -1.4400e+01, -9.8918e-02,  1.2489e+01,\n",
      "         9.7706e-01,  1.2639e+01])\n",
      "Gradient layers.2.weight: tensor([[-2.1199e-12, -2.8906e-11, -3.5646e-11, -3.6202e-12, -2.3931e-11,\n",
      "         -3.5365e-11, -3.7856e-11],\n",
      "        [-2.6858e-02, -4.6698e+00, -9.6111e-01, -1.3058e+00, -4.4255e+00,\n",
      "         -8.9785e-02, -1.2818e-01],\n",
      "        [-1.2794e-01, -1.3121e+00, -4.8906e+00, -2.3892e-01, -1.0260e+00,\n",
      "         -2.1419e+00, -4.6623e+00],\n",
      "        [-4.0741e-04, -8.8537e-02, -2.7076e-02,  6.0592e-04, -9.8041e-02,\n",
      "          1.9141e-02,  9.5398e-02],\n",
      "        [ 3.2064e-02,  4.6911e+00,  1.1659e+00,  1.5116e+00,  4.9557e+00,\n",
      "          4.2863e-02,  8.9755e-02],\n",
      "        [-6.4443e-02, -6.8549e-01, -1.6112e+00,  1.0240e-01, -3.5463e-01,\n",
      "          1.7911e+00,  1.7993e+00],\n",
      "        [ 1.8758e-01,  2.0647e+00,  6.3240e+00, -6.9922e-02,  9.4841e-01,\n",
      "          3.7849e-01,  2.8061e+00]])\n",
      "Gradient layers.2.bias: tensor([-1.6744e-10, -1.1607e+01, -1.4400e+01, -9.8918e-02,  1.2489e+01,\n",
      "         9.7706e-01,  1.2639e+01])\n"
     ]
    }
   ],
   "source": [
    "loss.backward()\n",
    "for name, param in model.named_parameters():\n",
    "    print(f\"Gradient {name}: {param.grad}\")"
   ]
  },
  {
   "cell_type": "code",
   "execution_count": null,
   "metadata": {},
   "outputs": [],
   "source": []
  }
 ],
 "metadata": {
  "kernelspec": {
   "display_name": "Python 3",
   "language": "python",
   "name": "python3"
  },
  "language_info": {
   "codemirror_mode": {
    "name": "ipython",
    "version": 3
   },
   "file_extension": ".py",
   "mimetype": "text/x-python",
   "name": "python",
   "nbconvert_exporter": "python",
   "pygments_lexer": "ipython3",
   "version": "3.11.5"
  }
 },
 "nbformat": 4,
 "nbformat_minor": 2
}
