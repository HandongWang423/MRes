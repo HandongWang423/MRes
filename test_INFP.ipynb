{
 "cells": [
  {
   "cell_type": "code",
   "execution_count": 190,
   "metadata": {},
   "outputs": [],
   "source": [
    "import pandas as pd\n",
    "import numpy as np\n",
    "# import mplhep as hep\n",
    "from tqdm import tqdm\n",
    "import warnings\n",
    "warnings.simplefilter(action='ignore', category=FutureWarning)\n",
    "\n",
    "pd.set_option('display.max_columns', 150)\n",
    "\n",
    "import torch\n",
    "import torch.nn as nn\n",
    "from sklearn.model_selection import train_test_split\n",
    "# pd.set_option('display.max_columns', 150)\n",
    "\n",
    "\n",
    "\n",
    "filecode = 'InfA_RD_DPrmvd'\n",
    "# filecode = parquetcode\n",
    "\n",
    "\n",
    "train_hp = {\n",
    "    \"lr\":0.01,\n",
    "    \"batch_size\":100000,\n",
    "    \"N_epochs\":15,\n",
    "    \"seed\":0,\n",
    "}\n",
    "nodes = [7]\n",
    "\n",
    "\n",
    "def set_seed(seed):\n",
    "    torch.manual_seed(seed)\n",
    "    np.random.seed(seed)\n",
    "set_seed(train_hp['seed'])\n",
    "\n",
    "def hess_to_tensor(H):\n",
    "    hess_elements = []\n",
    "    for i in range(len(H)):\n",
    "        for j in range(len(H)):\n",
    "            hess_elements.append(H[i][j].reshape(1))\n",
    "    return torch.cat(hess_elements).reshape(len(H),len(H))\n",
    "\n",
    "\n",
    "#Define the Net\n",
    "class Net(nn.Module):\n",
    "    def __init__(self, n_features=7, nodes=[7,7], output_nodes=7):\n",
    "        super(Net, self).__init__()\n",
    "        # Build network\n",
    "        n_nodes = [n_features] + nodes + [output_nodes]\n",
    "        self.layers = nn.ModuleList()\n",
    "        for i in range(len(n_nodes)-1):\n",
    "            l = nn.Linear(n_nodes[i], n_nodes[i+1])\n",
    "            self.layers.append(l)\n",
    "        self._initialize_weights()\n",
    "    def _initialize_weights(self):\n",
    "        with torch.no_grad():\n",
    "            for l in self.layers:\n",
    "                l.weight.data.copy_(torch.eye(7))\n",
    "                l.bias.data.fill_(0)\n",
    "\n",
    "    def forward(self, x):\n",
    "        out = torch.tensor(self.layers[0](x),dtype=x.dtype)\n",
    "        for layer in self.layers[1:]:\n",
    "            out = nn.ReLU()(layer(out))\n",
    "            print(out)\n",
    "        return out\n",
    "        # return torch.softmax(out, dim=0)\n",
    "\n",
    "\n",
    "\n",
    "class InfAwareLoss(nn.Module):\n",
    "    def __init__(self):\n",
    "        super(InfAwareLoss, self).__init__()\n",
    "\n",
    "    \n",
    "    def forward(self,input,target,weight):\n",
    "    \n",
    "        # Input = torch.tensor(input)\n",
    "        # Target = torch.tensor(target,dtype=torch.int8)\n",
    "        \n",
    "        label = torch.argmax(target,dim=1)\n",
    "        pred = torch.argmax(input,dim=1)\n",
    "        cm = torch.zeros(7,7)\n",
    "        up = pred.unique()\n",
    "        ul = label.unique()\n",
    "        for p in up:\n",
    "            for l in ul:\n",
    "                cm[p,l] = weight[pred==p][label[pred==p]==l].sum()\n",
    "        print(cm)\n",
    "        cm =cm[1:, :]\n",
    "        O = cm.sum(dim=1)\n",
    "        def NLL(mu):\n",
    "            mu0 =torch.tensor([1.0])\n",
    "            theta = torch.cat((mu0,mu))\n",
    "            return -(O@(torch.log(cm@theta))-(cm@theta).sum())\n",
    "        mu = torch.tensor([1.0,1.0,1.0,1.0,1.0,1.0])\n",
    "        hess = torch.func.hessian(NLL)(mu)\n",
    "        I = torch.inverse(hess_to_tensor(hess))\n",
    "        loss = torch.trace(I)**0.5/1000\n",
    "        return loss.clone().detach().requires_grad_(True)\n",
    "        \n",
    "\n",
    "#Define the trainning function\n",
    "from NNfunctions import get_batches, get_total_loss,get_total_lossW\n",
    "def train_network_cross_entropy(model, X_train,X_test,y_train,y_test,w_train,w_test, train_hp={}):\n",
    "    # optimiser = torch.optim.Adam(model.parameters(), lr=train_hp[\"lr\"])\n",
    "    optimiser = torch.optim.SGD(model.parameters(), lr=0.01)\n",
    "    X_train =X_train.to_numpy()\n",
    "    X_test = X_test.to_numpy()\n",
    "    y_train = y_train.to_numpy()\n",
    "    y_test = y_test.to_numpy()\n",
    "    w_train = w_train.to_numpy()\n",
    "    w_test = w_test.to_numpy()\n",
    "    \n",
    "    \n",
    "    train_loss, test_loss = [], []\n",
    "    ia_loss = InfAwareLoss()\n",
    "\n",
    "    print(\">> Training...\")\n",
    "    with tqdm(range(train_hp[\"N_epochs\"])) as t:\n",
    "        for i_epoch in t:\n",
    "            model.train()\n",
    "            # print(i)\n",
    "            # \"get_batches\": function defined in statml_tools.py to separate the training data into batches\n",
    "            batch_gen = get_batches([X_train, y_train, w_train], batch_size=train_hp['batch_size'],\n",
    "                                    randomise=True, include_remainder=False\n",
    "                                )\n",
    "            \n",
    "            for X_tensor, y_tensor, w_tensor in batch_gen:\n",
    "                optimiser.zero_grad()\n",
    "                print(X_tensor)\n",
    "                output = model(X_tensor)\n",
    "                print(output)\n",
    "                # print(output)\n",
    "                loss = ia_loss(output, y_tensor, w_tensor)\n",
    "                if torch.isnan(loss):\n",
    "                    raise ValueError(\"Loss is NaN, terminating training\")\n",
    "\n",
    "                loss.backward()\n",
    "                optimiser.step()\n",
    "                \n",
    "\n",
    "            model.eval()\n",
    "            \n",
    "            Loss = ia_loss\n",
    "            train_loss.append(get_total_lossW(model, Loss, X_train, y_train,w_train))\n",
    "            test_loss.append(get_total_lossW(model, Loss, X_test, y_test,w_test))\n",
    "            \n",
    "            # \"get_total_loss\": function defined in statml_tools.py to evaluate the network in batches (useful for large datasets)\n",
    "            \n",
    "            t.set_postfix(train_loss=train_loss[-1], test_loss=test_loss[-1])\n",
    "\n",
    "\n",
    "    print(\">> Training finished\")\n",
    "    model.eval()\n",
    "\n",
    "    return model, train_loss, test_loss\n",
    "# mi_series = pd.read_csv('/vols/cms/hw423/Week6/MI_balanced.csv')\n",
    "# MIcol = mi_series.head(140)['Features']\n",
    "\n",
    "\n",
    "# oc = np.load(f'/vols/cms/hw423/Data/Week14/octest_{filecode}.npy')\n",
    "# df = pd.DataFrame(oc)\n",
    "# dfx = df\n",
    "# # mi_series = pd.read_csv('/vols/cms/hw423/Week6/MI_balanced.csv')\n",
    "# # df = pd.read_parquet('/vols/cms/hw423/Data/Week14/df_InfA_RD_DPrmvd.parquet')\n",
    "\n",
    "# # dfx=df[MIcol]\n",
    "# label = pd.read_pickle('/vols/cms/hw423/Data/Week14/Label.pkl')\n",
    "# dfy = pd.get_dummies(label)\n",
    "# dfw = pd.read_pickle('/vols/cms/hw423/Data/Week14/weight.pkl')\n",
    "\n",
    "# model_ia = Net(n_features=140, nodes=nodes, output_nodes=7)\n",
    "# model_ia.load_state_dict(torch.load(f'/vols/cms/hw423/Data/Week14/model_b_u_x30x20_DPrmvd_100.pth'))\n",
    "\n"
   ]
  },
  {
   "cell_type": "code",
   "execution_count": 192,
   "metadata": {},
   "outputs": [],
   "source": [
    "model_ia = Net(n_features=7, nodes=[7,7,7,7,7], output_nodes=7)"
   ]
  },
  {
   "cell_type": "code",
   "execution_count": 191,
   "metadata": {},
   "outputs": [
    {
     "data": {
      "text/plain": [
       "tensor([9.2121e-08, 9.3106e-01, 9.2121e-08, 5.8412e-03, 6.3094e-02, 9.2121e-08,\n",
       "        9.2121e-08])"
      ]
     },
     "execution_count": 191,
     "metadata": {},
     "output_type": "execute_result"
    }
   ],
   "source": [
    "a = torch.tensor(np.load('/vols/cms/hw423/Data/Week14/octest_InfAwar_test.npy'))\n",
    "a[0]"
   ]
  },
  {
   "cell_type": "code",
   "execution_count": null,
   "metadata": {},
   "outputs": [],
   "source": []
  },
  {
   "cell_type": "code",
   "execution_count": 193,
   "metadata": {},
   "outputs": [
    {
     "name": "stdout",
     "output_type": "stream",
     "text": [
      "tensor([0.0013, 0.3522, 0.1162, 0.0351, 0.2609, 0.0424, 0.1918],\n",
      "       grad_fn=<ReluBackward0>)\n",
      "tensor([0.0013, 0.3522, 0.1162, 0.0351, 0.2609, 0.0424, 0.1918],\n",
      "       grad_fn=<ReluBackward0>)\n",
      "tensor([0.0013, 0.3522, 0.1162, 0.0351, 0.2609, 0.0424, 0.1918],\n",
      "       grad_fn=<ReluBackward0>)\n",
      "tensor([0.0013, 0.3522, 0.1162, 0.0351, 0.2609, 0.0424, 0.1918],\n",
      "       grad_fn=<ReluBackward0>)\n",
      "tensor([0.0013, 0.3522, 0.1162, 0.0351, 0.2609, 0.0424, 0.1918],\n",
      "       grad_fn=<ReluBackward0>)\n"
     ]
    },
    {
     "name": "stderr",
     "output_type": "stream",
     "text": [
      "/tmp/ipykernel_3768072/109648630.py:61: UserWarning: To copy construct from a tensor, it is recommended to use sourceTensor.clone().detach() or sourceTensor.clone().detach().requires_grad_(True), rather than torch.tensor(sourceTensor).\n",
      "  out = torch.tensor(self.layers[0](x),dtype=x.dtype)\n"
     ]
    },
    {
     "data": {
      "text/plain": [
       "tensor([0.1231, 0.1748, 0.1381, 0.1273, 0.1596, 0.1282, 0.1489],\n",
       "       grad_fn=<SoftmaxBackward0>)"
      ]
     },
     "execution_count": 193,
     "metadata": {},
     "output_type": "execute_result"
    }
   ],
   "source": [
    "torch.softmax(model_ia(a[1]),dim=0)"
   ]
  },
  {
   "cell_type": "code",
   "execution_count": null,
   "metadata": {},
   "outputs": [],
   "source": []
  },
  {
   "cell_type": "code",
   "execution_count": 194,
   "metadata": {},
   "outputs": [
    {
     "name": "stdout",
     "output_type": "stream",
     "text": [
      "tensor([[1., 0., 0., 0., 0., 0., 0.],\n",
      "        [0., 1., 0., 0., 0., 0., 0.],\n",
      "        [0., 0., 1., 0., 0., 0., 0.],\n",
      "        [0., 0., 0., 1., 0., 0., 0.],\n",
      "        [0., 0., 0., 0., 1., 0., 0.],\n",
      "        [0., 0., 0., 0., 0., 1., 0.],\n",
      "        [0., 0., 0., 0., 0., 0., 1.]])\n",
      "tensor([[1., 0., 0., 0., 0., 0., 0.],\n",
      "        [0., 1., 0., 0., 0., 0., 0.],\n",
      "        [0., 0., 1., 0., 0., 0., 0.],\n",
      "        [0., 0., 0., 1., 0., 0., 0.],\n",
      "        [0., 0., 0., 0., 1., 0., 0.],\n",
      "        [0., 0., 0., 0., 0., 1., 0.],\n",
      "        [0., 0., 0., 0., 0., 0., 1.]])\n",
      "tensor([[1., 0., 0., 0., 0., 0., 0.],\n",
      "        [0., 1., 0., 0., 0., 0., 0.],\n",
      "        [0., 0., 1., 0., 0., 0., 0.],\n",
      "        [0., 0., 0., 1., 0., 0., 0.],\n",
      "        [0., 0., 0., 0., 1., 0., 0.],\n",
      "        [0., 0., 0., 0., 0., 1., 0.],\n",
      "        [0., 0., 0., 0., 0., 0., 1.]])\n",
      "tensor([[1., 0., 0., 0., 0., 0., 0.],\n",
      "        [0., 1., 0., 0., 0., 0., 0.],\n",
      "        [0., 0., 1., 0., 0., 0., 0.],\n",
      "        [0., 0., 0., 1., 0., 0., 0.],\n",
      "        [0., 0., 0., 0., 1., 0., 0.],\n",
      "        [0., 0., 0., 0., 0., 1., 0.],\n",
      "        [0., 0., 0., 0., 0., 0., 1.]])\n",
      "tensor([[1., 0., 0., 0., 0., 0., 0.],\n",
      "        [0., 1., 0., 0., 0., 0., 0.],\n",
      "        [0., 0., 1., 0., 0., 0., 0.],\n",
      "        [0., 0., 0., 1., 0., 0., 0.],\n",
      "        [0., 0., 0., 0., 1., 0., 0.],\n",
      "        [0., 0., 0., 0., 0., 1., 0.],\n",
      "        [0., 0., 0., 0., 0., 0., 1.]])\n",
      "tensor([[1., 0., 0., 0., 0., 0., 0.],\n",
      "        [0., 1., 0., 0., 0., 0., 0.],\n",
      "        [0., 0., 1., 0., 0., 0., 0.],\n",
      "        [0., 0., 0., 1., 0., 0., 0.],\n",
      "        [0., 0., 0., 0., 1., 0., 0.],\n",
      "        [0., 0., 0., 0., 0., 1., 0.],\n",
      "        [0., 0., 0., 0., 0., 0., 1.]])\n"
     ]
    }
   ],
   "source": [
    "for layer in model_ia.layers:\n",
    "    print(layer.weight.data)"
   ]
  },
  {
   "cell_type": "code",
   "execution_count": 209,
   "metadata": {},
   "outputs": [
    {
     "data": {
      "text/plain": [
       "tensor([1.0000, 1.0000, 1.0000,  ..., 1.0000, 1.0000, 1.0000])"
      ]
     },
     "execution_count": 209,
     "metadata": {},
     "output_type": "execute_result"
    }
   ],
   "source": [
    "torch.sum(a,dim=1)"
   ]
  },
  {
   "cell_type": "code",
   "execution_count": 210,
   "metadata": {},
   "outputs": [
    {
     "data": {
      "text/plain": [
       "tensor([[9.2121e-08, 9.3106e-01, 9.2121e-08,  ..., 6.3094e-02, 9.2121e-08,\n",
       "         9.2121e-08],\n",
       "        [1.3017e-03, 3.5224e-01, 1.1622e-01,  ..., 2.6093e-01, 4.2365e-02,\n",
       "         1.9184e-01],\n",
       "        [1.2141e-04, 6.4055e-01, 2.4761e-01,  ..., 7.4634e-02, 1.2141e-04,\n",
       "         3.9260e-04],\n",
       "        ...,\n",
       "        [6.4752e-05, 5.7427e-01, 1.9477e-01,  ..., 1.7192e-01, 6.4752e-05,\n",
       "         9.8250e-04],\n",
       "        [1.0982e-08, 1.4988e-07, 1.0982e-08,  ..., 1.4480e-03, 6.3886e-08,\n",
       "         1.1960e-06],\n",
       "        [1.4982e-05, 2.4007e-02, 9.5210e-01,  ..., 1.4659e-02, 1.4982e-05,\n",
       "         2.5381e-04]])"
      ]
     },
     "execution_count": 210,
     "metadata": {},
     "output_type": "execute_result"
    }
   ],
   "source": [
    "a"
   ]
  }
 ],
 "metadata": {
  "kernelspec": {
   "display_name": "Python 3",
   "language": "python",
   "name": "python3"
  },
  "language_info": {
   "codemirror_mode": {
    "name": "ipython",
    "version": 3
   },
   "file_extension": ".py",
   "mimetype": "text/x-python",
   "name": "python",
   "nbconvert_exporter": "python",
   "pygments_lexer": "ipython3",
   "version": "3.11.5"
  }
 },
 "nbformat": 4,
 "nbformat_minor": 2
}
