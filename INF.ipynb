{
 "cells": [
  {
   "cell_type": "code",
   "execution_count": null,
   "metadata": {},
   "outputs": [
    {
     "ename": "",
     "evalue": "",
     "output_type": "error",
     "traceback": [
      "\u001b[1;31mFailed to start the Kernel. \n",
      "\u001b[1;31mUnable to start Kernel 'env (Python 3.11.5)' due to a timeout waiting for the ports to get used. \n",
      "\u001b[1;31mView Jupyter <a href='command:jupyter.viewOutput'>log</a> for further details."
     ]
    }
   ],
   "source": [
    "import pandas as pd\n",
    "import numpy as np\n",
    "# import mplhep as hep\n",
    "from tqdm import tqdm\n",
    "import  matplotlib.pyplot as plt\n",
    "import warnings\n",
    "warnings.simplefilter(action='ignore', category=FutureWarning)\n",
    "\n",
    "pd.set_option('display.max_columns', 150)\n",
    "\n",
    "import torch\n",
    "import torch.nn as nn\n",
    "from sklearn.model_selection import train_test_split\n"
   ]
  },
  {
   "cell_type": "code",
   "execution_count": 9,
   "metadata": {},
   "outputs": [],
   "source": [
    "# filecode = '_InfAwar_test'\n",
    "oc = torch.tensor(np.load(f'/vols/cms/hw423/Data/Week14/octest_InfA_RD_DPrmvd_Bld.npy'))\n",
    "def hess_to_tensor(H):\n",
    "    hess_elements = []\n",
    "    for i in range(len(H)):\n",
    "        for j in range(len(H)):\n",
    "            hess_elements.append(H[i][j].reshape(1))\n",
    "    return torch.cat(hess_elements).reshape(len(H),len(H))\n",
    "pred =  torch.argmax(oc,dim=1)"
   ]
  },
  {
   "cell_type": "code",
   "execution_count": 15,
   "metadata": {},
   "outputs": [],
   "source": [
    "label = pd.read_pickle('/vols/cms/hw423/Data/Week14/Label_DPrmvd.pickle')"
   ]
  },
  {
   "cell_type": "code",
   "execution_count": 23,
   "metadata": {},
   "outputs": [
    {
     "data": {
      "text/plain": [
       "torch.Size([435646, 7])"
      ]
     },
     "execution_count": 23,
     "metadata": {},
     "output_type": "execute_result"
    }
   ],
   "source": [
    "oc.size()"
   ]
  },
  {
   "cell_type": "code",
   "execution_count": null,
   "metadata": {},
   "outputs": [],
   "source": []
  },
  {
   "cell_type": "code",
   "execution_count": 5,
   "metadata": {},
   "outputs": [],
   "source": [
    "#Define the Net\n",
    "class Net(nn.Module):\n",
    "    def __init__(self, n_features=40, nodes=[10,10], output_nodes=10):\n",
    "        super(Net, self).__init__()\n",
    "        # Build network\n",
    "        n_nodes = [n_features] + nodes + [output_nodes]\n",
    "        self.layers = nn.ModuleList()\n",
    "        for i in range(len(n_nodes)-1):\n",
    "            self.layers.append(nn.Linear(n_nodes[i], n_nodes[i+1]))\n",
    "            self.layers.append(nn.ReLU())\n",
    "\n",
    "    def forward(self, x):\n",
    "        out = self.layers[0](x)\n",
    "        for layer in self.layers[1:]:\n",
    "            out = layer(out)\n",
    "        # Apply softmax\n",
    "        return torch.softmax(out, dim=1)"
   ]
  },
  {
   "cell_type": "code",
   "execution_count": 6,
   "metadata": {},
   "outputs": [],
   "source": [
    "class InfAwareLoss(nn.Module):\n",
    "    def __init__(self,weight,):\n",
    "        super(InfAwareLoss, self).__init__()\n",
    "        self.weight = weight\n",
    "    \n",
    "    def forward(self,input,target):\n",
    "        # Input = torch.tensor(input)\n",
    "        # Target = torch.tensor(target,dtype=torch.int8)\n",
    "        label = torch.argmax(target,dim=1)\n",
    "        pred = torch.argmax(input,dim=1)\n",
    "        # plt.hist(pred)\n",
    "        plt.show()\n",
    "        weight = torch.tensor(self.weight.values)\n",
    "        d = input.size()[1]\n",
    "        cm = torch.zeros(7,d)\n",
    "        for t, p, w in zip(label.view(-1), pred.view(-1), weight.view(-1)):\n",
    "            cm[p,t] += w\n",
    "        cm =cm[1:, :]\n",
    "        O = cm.sum(dim=1)\n",
    "        # print(cm)\n",
    "        # print(O)\n",
    "        def NLL(mu):\n",
    "            mu0 =torch.tensor([1.0])\n",
    "            theta = torch.cat((mu0,mu))\n",
    "            return -(O@(torch.log(cm@theta))-(cm@theta).sum())\n",
    "        mu = torch.tensor([1.0,1.0,1.0,1.0,1.0,1.0],requires_grad=True)\n",
    "        hess = torch.func.hessian(NLL)(mu)\n",
    "        I = torch.inverse(hess_to_tensor(hess))\n",
    "        loss = torch.trace(I)**0.5 \n",
    "        return loss.clone().detach().requires_grad_(True)"
   ]
  },
  {
   "cell_type": "code",
   "execution_count": 7,
   "metadata": {},
   "outputs": [
    {
     "ename": "NameError",
     "evalue": "name 'pred' is not defined",
     "output_type": "error",
     "traceback": [
      "\u001b[0;31m---------------------------------------------------------------------------\u001b[0m",
      "\u001b[0;31mNameError\u001b[0m                                 Traceback (most recent call last)",
      "Cell \u001b[0;32mIn[7], line 1\u001b[0m\n\u001b[0;32m----> 1\u001b[0m \u001b[43mpred\u001b[49m\n",
      "\u001b[0;31mNameError\u001b[0m: name 'pred' is not defined"
     ]
    }
   ],
   "source": [
    "pred"
   ]
  }
 ],
 "metadata": {
  "kernelspec": {
   "display_name": "Python 3",
   "language": "python",
   "name": "python3"
  },
  "language_info": {
   "codemirror_mode": {
    "name": "ipython",
    "version": 3
   },
   "file_extension": ".py",
   "mimetype": "text/x-python",
   "name": "python",
   "nbconvert_exporter": "python",
   "pygments_lexer": "ipython3",
   "version": "3.1.0"
  }
 },
 "nbformat": 4,
 "nbformat_minor": 2
}
