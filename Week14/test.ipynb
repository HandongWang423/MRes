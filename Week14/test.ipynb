{
 "cells": [
  {
   "cell_type": "code",
   "execution_count": 51,
   "metadata": {},
   "outputs": [],
   "source": [
    "import pandas as pd\n",
    "import numpy as np\n",
    "import matplotlib.pylab as plt\n",
    "import mplhep as hep\n",
    "hep.style.use(\"CMS\")\n"
   ]
  },
  {
   "cell_type": "code",
   "execution_count": null,
   "metadata": {},
   "outputs": [],
   "source": [
    "data = pd.read_parquet(f'/vols/cms/hw423/Data/Week14/df_InfA_DPrmvd_Bld_x30x20_0.parquet').sample(n=10000)"
   ]
  },
  {
   "cell_type": "code",
   "execution_count": 53,
   "metadata": {},
   "outputs": [
    {
     "data": {
      "text/html": [
       "<div>\n",
       "<style scoped>\n",
       "    .dataframe tbody tr th:only-of-type {\n",
       "        vertical-align: middle;\n",
       "    }\n",
       "\n",
       "    .dataframe tbody tr th {\n",
       "        vertical-align: top;\n",
       "    }\n",
       "\n",
       "    .dataframe thead th {\n",
       "        text-align: right;\n",
       "    }\n",
       "</style>\n",
       "<table border=\"1\" class=\"dataframe\">\n",
       "  <thead>\n",
       "    <tr style=\"text-align: right;\">\n",
       "      <th></th>\n",
       "      <th>leadPhotonEn</th>\n",
       "      <th>leadPhotonMass</th>\n",
       "      <th>leadPhotonPt</th>\n",
       "      <th>leadPhotonEta</th>\n",
       "      <th>leadPhotonPhi</th>\n",
       "      <th>leadPhotonIDMVA</th>\n",
       "      <th>leadPhotonSigmaE</th>\n",
       "      <th>leadPhotonHoE</th>\n",
       "      <th>leadPhotonPfRelIsoAll</th>\n",
       "      <th>leadPhotonPfRelIsoChg</th>\n",
       "      <th>...</th>\n",
       "      <th>subleadJetDiphoDPhi</th>\n",
       "      <th>subleadJetDiphoDEta</th>\n",
       "      <th>nSoftJets</th>\n",
       "      <th>metPt</th>\n",
       "      <th>metPhi</th>\n",
       "      <th>metSumET</th>\n",
       "      <th>metSignificance</th>\n",
       "      <th>weight</th>\n",
       "      <th>diphotonMass</th>\n",
       "      <th>proc</th>\n",
       "    </tr>\n",
       "  </thead>\n",
       "  <tbody>\n",
       "    <tr>\n",
       "      <th>2179538</th>\n",
       "      <td>-0.068878</td>\n",
       "      <td>0.537421</td>\n",
       "      <td>-0.256915</td>\n",
       "      <td>1.155882</td>\n",
       "      <td>-0.757550</td>\n",
       "      <td>-3.245371</td>\n",
       "      <td>0.391674</td>\n",
       "      <td>0.812447</td>\n",
       "      <td>0.059522</td>\n",
       "      <td>-0.036256</td>\n",
       "      <td>...</td>\n",
       "      <td>-5.000000</td>\n",
       "      <td>-5.000000</td>\n",
       "      <td>0.21688</td>\n",
       "      <td>0.686546</td>\n",
       "      <td>0.015238</td>\n",
       "      <td>0.147924</td>\n",
       "      <td>0.132611</td>\n",
       "      <td>1.274358e-08</td>\n",
       "      <td>127.081345</td>\n",
       "      <td>3</td>\n",
       "    </tr>\n",
       "    <tr>\n",
       "      <th>3108173</th>\n",
       "      <td>0.378690</td>\n",
       "      <td>-0.030875</td>\n",
       "      <td>-0.509376</td>\n",
       "      <td>-1.701948</td>\n",
       "      <td>-1.531230</td>\n",
       "      <td>-0.813606</td>\n",
       "      <td>0.864036</td>\n",
       "      <td>-0.075469</td>\n",
       "      <td>-0.185752</td>\n",
       "      <td>-0.089488</td>\n",
       "      <td>...</td>\n",
       "      <td>1.458978</td>\n",
       "      <td>0.767650</td>\n",
       "      <td>0.21688</td>\n",
       "      <td>0.000175</td>\n",
       "      <td>0.921916</td>\n",
       "      <td>0.715512</td>\n",
       "      <td>-0.133500</td>\n",
       "      <td>-7.382087e-09</td>\n",
       "      <td>122.572235</td>\n",
       "      <td>5</td>\n",
       "    </tr>\n",
       "    <tr>\n",
       "      <th>2072771</th>\n",
       "      <td>-0.674859</td>\n",
       "      <td>0.253273</td>\n",
       "      <td>-0.704152</td>\n",
       "      <td>0.914830</td>\n",
       "      <td>1.172472</td>\n",
       "      <td>0.621224</td>\n",
       "      <td>-0.578354</td>\n",
       "      <td>-0.555274</td>\n",
       "      <td>-0.265784</td>\n",
       "      <td>-0.213802</td>\n",
       "      <td>...</td>\n",
       "      <td>-5.000000</td>\n",
       "      <td>-5.000000</td>\n",
       "      <td>0.21688</td>\n",
       "      <td>-0.262437</td>\n",
       "      <td>-1.555324</td>\n",
       "      <td>-1.454722</td>\n",
       "      <td>-0.074204</td>\n",
       "      <td>1.711313e-08</td>\n",
       "      <td>125.276764</td>\n",
       "      <td>4</td>\n",
       "    </tr>\n",
       "    <tr>\n",
       "      <th>3316839</th>\n",
       "      <td>-0.052305</td>\n",
       "      <td>0.537421</td>\n",
       "      <td>0.285554</td>\n",
       "      <td>-0.737189</td>\n",
       "      <td>-0.301337</td>\n",
       "      <td>0.486196</td>\n",
       "      <td>0.096448</td>\n",
       "      <td>0.966867</td>\n",
       "      <td>-0.084620</td>\n",
       "      <td>-0.213802</td>\n",
       "      <td>...</td>\n",
       "      <td>1.401221</td>\n",
       "      <td>0.576867</td>\n",
       "      <td>0.21688</td>\n",
       "      <td>-0.161286</td>\n",
       "      <td>0.562036</td>\n",
       "      <td>-0.124833</td>\n",
       "      <td>-0.151976</td>\n",
       "      <td>9.246365e-09</td>\n",
       "      <td>122.080093</td>\n",
       "      <td>5</td>\n",
       "    </tr>\n",
       "    <tr>\n",
       "      <th>2368067</th>\n",
       "      <td>-0.692316</td>\n",
       "      <td>-0.030875</td>\n",
       "      <td>-0.441973</td>\n",
       "      <td>0.440760</td>\n",
       "      <td>-0.789101</td>\n",
       "      <td>0.542983</td>\n",
       "      <td>-0.633182</td>\n",
       "      <td>-0.555274</td>\n",
       "      <td>-0.265784</td>\n",
       "      <td>-0.213802</td>\n",
       "      <td>...</td>\n",
       "      <td>-5.000000</td>\n",
       "      <td>-5.000000</td>\n",
       "      <td>0.21688</td>\n",
       "      <td>-0.334214</td>\n",
       "      <td>0.001222</td>\n",
       "      <td>-0.750756</td>\n",
       "      <td>-0.139140</td>\n",
       "      <td>1.830464e-08</td>\n",
       "      <td>121.587639</td>\n",
       "      <td>3</td>\n",
       "    </tr>\n",
       "    <tr>\n",
       "      <th>...</th>\n",
       "      <td>...</td>\n",
       "      <td>...</td>\n",
       "      <td>...</td>\n",
       "      <td>...</td>\n",
       "      <td>...</td>\n",
       "      <td>...</td>\n",
       "      <td>...</td>\n",
       "      <td>...</td>\n",
       "      <td>...</td>\n",
       "      <td>...</td>\n",
       "      <td>...</td>\n",
       "      <td>...</td>\n",
       "      <td>...</td>\n",
       "      <td>...</td>\n",
       "      <td>...</td>\n",
       "      <td>...</td>\n",
       "      <td>...</td>\n",
       "      <td>...</td>\n",
       "      <td>...</td>\n",
       "      <td>...</td>\n",
       "      <td>...</td>\n",
       "    </tr>\n",
       "    <tr>\n",
       "      <th>3197611</th>\n",
       "      <td>-0.856624</td>\n",
       "      <td>0.253273</td>\n",
       "      <td>-0.634805</td>\n",
       "      <td>-0.103087</td>\n",
       "      <td>-0.860698</td>\n",
       "      <td>0.598509</td>\n",
       "      <td>-0.755490</td>\n",
       "      <td>-0.555274</td>\n",
       "      <td>-0.177528</td>\n",
       "      <td>-0.076713</td>\n",
       "      <td>...</td>\n",
       "      <td>-0.693310</td>\n",
       "      <td>-0.400952</td>\n",
       "      <td>0.21688</td>\n",
       "      <td>-0.218930</td>\n",
       "      <td>0.959041</td>\n",
       "      <td>-0.589939</td>\n",
       "      <td>-0.154471</td>\n",
       "      <td>-8.855234e-09</td>\n",
       "      <td>124.098564</td>\n",
       "      <td>5</td>\n",
       "    </tr>\n",
       "    <tr>\n",
       "      <th>3284265</th>\n",
       "      <td>-0.442576</td>\n",
       "      <td>0.665142</td>\n",
       "      <td>-0.275001</td>\n",
       "      <td>0.749108</td>\n",
       "      <td>1.561065</td>\n",
       "      <td>0.516482</td>\n",
       "      <td>-0.569919</td>\n",
       "      <td>1.253647</td>\n",
       "      <td>0.279968</td>\n",
       "      <td>-0.031790</td>\n",
       "      <td>...</td>\n",
       "      <td>1.464597</td>\n",
       "      <td>-0.017209</td>\n",
       "      <td>0.21688</td>\n",
       "      <td>-0.367333</td>\n",
       "      <td>-0.885063</td>\n",
       "      <td>1.011919</td>\n",
       "      <td>-0.181299</td>\n",
       "      <td>8.304820e-09</td>\n",
       "      <td>127.313927</td>\n",
       "      <td>5</td>\n",
       "    </tr>\n",
       "    <tr>\n",
       "      <th>481420</th>\n",
       "      <td>-0.503154</td>\n",
       "      <td>0.537421</td>\n",
       "      <td>0.037431</td>\n",
       "      <td>-0.038608</td>\n",
       "      <td>0.178034</td>\n",
       "      <td>0.570746</td>\n",
       "      <td>-0.633182</td>\n",
       "      <td>-0.555274</td>\n",
       "      <td>-0.265784</td>\n",
       "      <td>-0.213802</td>\n",
       "      <td>...</td>\n",
       "      <td>-0.969281</td>\n",
       "      <td>0.090985</td>\n",
       "      <td>0.21688</td>\n",
       "      <td>-0.741929</td>\n",
       "      <td>1.459085</td>\n",
       "      <td>-0.567867</td>\n",
       "      <td>-0.207286</td>\n",
       "      <td>1.391465e-06</td>\n",
       "      <td>128.669449</td>\n",
       "      <td>0</td>\n",
       "    </tr>\n",
       "    <tr>\n",
       "      <th>2042992</th>\n",
       "      <td>0.455828</td>\n",
       "      <td>-1.422909</td>\n",
       "      <td>-0.139540</td>\n",
       "      <td>-1.426999</td>\n",
       "      <td>0.844555</td>\n",
       "      <td>0.618700</td>\n",
       "      <td>0.610985</td>\n",
       "      <td>0.560963</td>\n",
       "      <td>0.011636</td>\n",
       "      <td>-0.213802</td>\n",
       "      <td>...</td>\n",
       "      <td>1.460056</td>\n",
       "      <td>1.243839</td>\n",
       "      <td>0.21688</td>\n",
       "      <td>1.056399</td>\n",
       "      <td>0.607368</td>\n",
       "      <td>-1.893814</td>\n",
       "      <td>1.364819</td>\n",
       "      <td>1.670808e-08</td>\n",
       "      <td>126.390099</td>\n",
       "      <td>4</td>\n",
       "    </tr>\n",
       "    <tr>\n",
       "      <th>811092</th>\n",
       "      <td>-0.696715</td>\n",
       "      <td>0.370971</td>\n",
       "      <td>-0.394065</td>\n",
       "      <td>-0.321110</td>\n",
       "      <td>0.613583</td>\n",
       "      <td>-1.827144</td>\n",
       "      <td>-0.694336</td>\n",
       "      <td>-0.555274</td>\n",
       "      <td>0.609322</td>\n",
       "      <td>1.145506</td>\n",
       "      <td>...</td>\n",
       "      <td>-0.354754</td>\n",
       "      <td>-0.554134</td>\n",
       "      <td>0.21688</td>\n",
       "      <td>-0.202928</td>\n",
       "      <td>1.209568</td>\n",
       "      <td>-0.096454</td>\n",
       "      <td>-0.134802</td>\n",
       "      <td>9.803176e-08</td>\n",
       "      <td>123.815704</td>\n",
       "      <td>1</td>\n",
       "    </tr>\n",
       "  </tbody>\n",
       "</table>\n",
       "<p>10000 rows × 143 columns</p>\n",
       "</div>"
      ],
      "text/plain": [
       "         leadPhotonEn  leadPhotonMass  leadPhotonPt  leadPhotonEta  \\\n",
       "2179538     -0.068878        0.537421     -0.256915       1.155882   \n",
       "3108173      0.378690       -0.030875     -0.509376      -1.701948   \n",
       "2072771     -0.674859        0.253273     -0.704152       0.914830   \n",
       "3316839     -0.052305        0.537421      0.285554      -0.737189   \n",
       "2368067     -0.692316       -0.030875     -0.441973       0.440760   \n",
       "...               ...             ...           ...            ...   \n",
       "3197611     -0.856624        0.253273     -0.634805      -0.103087   \n",
       "3284265     -0.442576        0.665142     -0.275001       0.749108   \n",
       "481420      -0.503154        0.537421      0.037431      -0.038608   \n",
       "2042992      0.455828       -1.422909     -0.139540      -1.426999   \n",
       "811092      -0.696715        0.370971     -0.394065      -0.321110   \n",
       "\n",
       "         leadPhotonPhi  leadPhotonIDMVA  leadPhotonSigmaE  leadPhotonHoE  \\\n",
       "2179538      -0.757550        -3.245371          0.391674       0.812447   \n",
       "3108173      -1.531230        -0.813606          0.864036      -0.075469   \n",
       "2072771       1.172472         0.621224         -0.578354      -0.555274   \n",
       "3316839      -0.301337         0.486196          0.096448       0.966867   \n",
       "2368067      -0.789101         0.542983         -0.633182      -0.555274   \n",
       "...                ...              ...               ...            ...   \n",
       "3197611      -0.860698         0.598509         -0.755490      -0.555274   \n",
       "3284265       1.561065         0.516482         -0.569919       1.253647   \n",
       "481420        0.178034         0.570746         -0.633182      -0.555274   \n",
       "2042992       0.844555         0.618700          0.610985       0.560963   \n",
       "811092        0.613583        -1.827144         -0.694336      -0.555274   \n",
       "\n",
       "         leadPhotonPfRelIsoAll  leadPhotonPfRelIsoChg  ...  \\\n",
       "2179538               0.059522              -0.036256  ...   \n",
       "3108173              -0.185752              -0.089488  ...   \n",
       "2072771              -0.265784              -0.213802  ...   \n",
       "3316839              -0.084620              -0.213802  ...   \n",
       "2368067              -0.265784              -0.213802  ...   \n",
       "...                        ...                    ...  ...   \n",
       "3197611              -0.177528              -0.076713  ...   \n",
       "3284265               0.279968              -0.031790  ...   \n",
       "481420               -0.265784              -0.213802  ...   \n",
       "2042992               0.011636              -0.213802  ...   \n",
       "811092                0.609322               1.145506  ...   \n",
       "\n",
       "         subleadJetDiphoDPhi  subleadJetDiphoDEta  nSoftJets     metPt  \\\n",
       "2179538            -5.000000            -5.000000    0.21688  0.686546   \n",
       "3108173             1.458978             0.767650    0.21688  0.000175   \n",
       "2072771            -5.000000            -5.000000    0.21688 -0.262437   \n",
       "3316839             1.401221             0.576867    0.21688 -0.161286   \n",
       "2368067            -5.000000            -5.000000    0.21688 -0.334214   \n",
       "...                      ...                  ...        ...       ...   \n",
       "3197611            -0.693310            -0.400952    0.21688 -0.218930   \n",
       "3284265             1.464597            -0.017209    0.21688 -0.367333   \n",
       "481420             -0.969281             0.090985    0.21688 -0.741929   \n",
       "2042992             1.460056             1.243839    0.21688  1.056399   \n",
       "811092             -0.354754            -0.554134    0.21688 -0.202928   \n",
       "\n",
       "           metPhi  metSumET  metSignificance        weight  diphotonMass  proc  \n",
       "2179538  0.015238  0.147924         0.132611  1.274358e-08    127.081345     3  \n",
       "3108173  0.921916  0.715512        -0.133500 -7.382087e-09    122.572235     5  \n",
       "2072771 -1.555324 -1.454722        -0.074204  1.711313e-08    125.276764     4  \n",
       "3316839  0.562036 -0.124833        -0.151976  9.246365e-09    122.080093     5  \n",
       "2368067  0.001222 -0.750756        -0.139140  1.830464e-08    121.587639     3  \n",
       "...           ...       ...              ...           ...           ...   ...  \n",
       "3197611  0.959041 -0.589939        -0.154471 -8.855234e-09    124.098564     5  \n",
       "3284265 -0.885063  1.011919        -0.181299  8.304820e-09    127.313927     5  \n",
       "481420   1.459085 -0.567867        -0.207286  1.391465e-06    128.669449     0  \n",
       "2042992  0.607368 -1.893814         1.364819  1.670808e-08    126.390099     4  \n",
       "811092   1.209568 -0.096454        -0.134802  9.803176e-08    123.815704     1  \n",
       "\n",
       "[10000 rows x 143 columns]"
      ]
     },
     "execution_count": 53,
     "metadata": {},
     "output_type": "execute_result"
    }
   ],
   "source": [
    "dfy = pd.DataFrame(data.iloc[:,-7:].idxmax(axis=1).astype('int'),columns=['proc'])\n",
    "dfb = data.iloc[:,:-7]\n",
    "df = pd.concat([dfb,dfy],axis=1)\n",
    "df"
   ]
  },
  {
   "cell_type": "code",
   "execution_count": 44,
   "metadata": {},
   "outputs": [
    {
     "data": {
      "text/plain": [
       "1038228   -1.144177\n",
       "2470916   -1.144177\n",
       "97452     -1.144177\n",
       "3299925    0.524727\n",
       "1571611    0.676139\n",
       "             ...   \n",
       "954201    -1.144177\n",
       "1799803   -1.144177\n",
       "1618111    0.879767\n",
       "1007666    1.229241\n",
       "796504    -1.144177\n",
       "Name: dijetDPhi, Length: 10000, dtype: float32"
      ]
     },
     "execution_count": 44,
     "metadata": {},
     "output_type": "execute_result"
    }
   ],
   "source": [
    "dfY = data.iloc[:,-7:]\n",
    "\n",
    "df[dfY['0']]['diphotonMass'].hist()"
   ]
  },
  {
   "cell_type": "code",
   "execution_count": 15,
   "metadata": {},
   "outputs": [
    {
     "data": {
      "text/plain": [
       "proc\n",
       "6       3764\n",
       "2       2608\n",
       "1       2350\n",
       "0        684\n",
       "5        476\n",
       "3         73\n",
       "4         45\n",
       "Name: count, dtype: int64"
      ]
     },
     "execution_count": 15,
     "metadata": {},
     "output_type": "execute_result"
    }
   ],
   "source": [
    "dfy.astype('int').value_counts()"
   ]
  },
  {
   "cell_type": "code",
   "execution_count": 17,
   "metadata": {},
   "outputs": [
    {
     "data": {
      "text/html": [
       "<div>\n",
       "<style scoped>\n",
       "    .dataframe tbody tr th:only-of-type {\n",
       "        vertical-align: middle;\n",
       "    }\n",
       "\n",
       "    .dataframe tbody tr th {\n",
       "        vertical-align: top;\n",
       "    }\n",
       "\n",
       "    .dataframe thead th {\n",
       "        text-align: right;\n",
       "    }\n",
       "</style>\n",
       "<table border=\"1\" class=\"dataframe\">\n",
       "  <thead>\n",
       "    <tr style=\"text-align: right;\">\n",
       "      <th></th>\n",
       "      <th>leadPhotonEn</th>\n",
       "      <th>leadPhotonMass</th>\n",
       "      <th>leadPhotonPt</th>\n",
       "      <th>leadPhotonEta</th>\n",
       "      <th>leadPhotonPhi</th>\n",
       "      <th>leadPhotonIDMVA</th>\n",
       "      <th>leadPhotonSigmaE</th>\n",
       "      <th>leadPhotonHoE</th>\n",
       "      <th>leadPhotonPfRelIsoAll</th>\n",
       "      <th>leadPhotonPfRelIsoChg</th>\n",
       "      <th>...</th>\n",
       "      <th>subleadJetDiphoDPhi</th>\n",
       "      <th>subleadJetDiphoDEta</th>\n",
       "      <th>nSoftJets</th>\n",
       "      <th>metPt</th>\n",
       "      <th>metPhi</th>\n",
       "      <th>metSumET</th>\n",
       "      <th>metSignificance</th>\n",
       "      <th>weight</th>\n",
       "      <th>diphotonMass</th>\n",
       "      <th>proc</th>\n",
       "    </tr>\n",
       "  </thead>\n",
       "  <tbody>\n",
       "    <tr>\n",
       "      <th>169006</th>\n",
       "      <td>-0.319460</td>\n",
       "      <td>-0.030875</td>\n",
       "      <td>-0.062682</td>\n",
       "      <td>0.708120</td>\n",
       "      <td>-1.281786</td>\n",
       "      <td>0.036944</td>\n",
       "      <td>0.130188</td>\n",
       "      <td>2.144871</td>\n",
       "      <td>0.195709</td>\n",
       "      <td>-0.213802</td>\n",
       "      <td>...</td>\n",
       "      <td>-0.339052</td>\n",
       "      <td>-0.830124</td>\n",
       "      <td>0.21688</td>\n",
       "      <td>-0.320001</td>\n",
       "      <td>0.874942</td>\n",
       "      <td>0.251982</td>\n",
       "      <td>-0.176779</td>\n",
       "      <td>0.000003</td>\n",
       "      <td>127.894974</td>\n",
       "      <td>0</td>\n",
       "    </tr>\n",
       "    <tr>\n",
       "      <th>167215</th>\n",
       "      <td>-0.746222</td>\n",
       "      <td>0.370971</td>\n",
       "      <td>-0.422526</td>\n",
       "      <td>0.049896</td>\n",
       "      <td>0.226507</td>\n",
       "      <td>0.578318</td>\n",
       "      <td>-0.709097</td>\n",
       "      <td>-0.555274</td>\n",
       "      <td>-0.265784</td>\n",
       "      <td>-0.213802</td>\n",
       "      <td>...</td>\n",
       "      <td>-5.000000</td>\n",
       "      <td>-5.000000</td>\n",
       "      <td>0.21688</td>\n",
       "      <td>0.465299</td>\n",
       "      <td>1.232045</td>\n",
       "      <td>-0.105913</td>\n",
       "      <td>-0.001312</td>\n",
       "      <td>0.000014</td>\n",
       "      <td>127.584221</td>\n",
       "      <td>0</td>\n",
       "    </tr>\n",
       "    <tr>\n",
       "      <th>127314</th>\n",
       "      <td>-1.031729</td>\n",
       "      <td>-0.030875</td>\n",
       "      <td>-0.981703</td>\n",
       "      <td>0.267116</td>\n",
       "      <td>-0.404148</td>\n",
       "      <td>0.055873</td>\n",
       "      <td>-0.719641</td>\n",
       "      <td>-0.555274</td>\n",
       "      <td>0.262150</td>\n",
       "      <td>0.362680</td>\n",
       "      <td>...</td>\n",
       "      <td>-5.000000</td>\n",
       "      <td>-5.000000</td>\n",
       "      <td>0.21688</td>\n",
       "      <td>-0.752942</td>\n",
       "      <td>-1.624270</td>\n",
       "      <td>-1.749552</td>\n",
       "      <td>-0.199024</td>\n",
       "      <td>0.000013</td>\n",
       "      <td>121.315613</td>\n",
       "      <td>0</td>\n",
       "    </tr>\n",
       "    <tr>\n",
       "      <th>69105</th>\n",
       "      <td>-0.691134</td>\n",
       "      <td>0.253273</td>\n",
       "      <td>-0.429550</td>\n",
       "      <td>0.419878</td>\n",
       "      <td>-0.159120</td>\n",
       "      <td>0.609866</td>\n",
       "      <td>-0.696444</td>\n",
       "      <td>-0.555274</td>\n",
       "      <td>-0.265784</td>\n",
       "      <td>-0.213802</td>\n",
       "      <td>...</td>\n",
       "      <td>1.289467</td>\n",
       "      <td>-0.566842</td>\n",
       "      <td>0.21688</td>\n",
       "      <td>-0.613745</td>\n",
       "      <td>0.892115</td>\n",
       "      <td>-0.719223</td>\n",
       "      <td>-0.193303</td>\n",
       "      <td>0.000001</td>\n",
       "      <td>125.746231</td>\n",
       "      <td>0</td>\n",
       "    </tr>\n",
       "    <tr>\n",
       "      <th>176692</th>\n",
       "      <td>-0.525638</td>\n",
       "      <td>0.370971</td>\n",
       "      <td>-0.328668</td>\n",
       "      <td>-0.673936</td>\n",
       "      <td>0.673180</td>\n",
       "      <td>0.585889</td>\n",
       "      <td>-0.485569</td>\n",
       "      <td>0.684499</td>\n",
       "      <td>-0.265784</td>\n",
       "      <td>-0.213802</td>\n",
       "      <td>...</td>\n",
       "      <td>0.446032</td>\n",
       "      <td>-0.160633</td>\n",
       "      <td>0.21688</td>\n",
       "      <td>-0.463700</td>\n",
       "      <td>0.847414</td>\n",
       "      <td>-0.542640</td>\n",
       "      <td>-0.163221</td>\n",
       "      <td>0.000001</td>\n",
       "      <td>126.708359</td>\n",
       "      <td>0</td>\n",
       "    </tr>\n",
       "    <tr>\n",
       "      <th>...</th>\n",
       "      <td>...</td>\n",
       "      <td>...</td>\n",
       "      <td>...</td>\n",
       "      <td>...</td>\n",
       "      <td>...</td>\n",
       "      <td>...</td>\n",
       "      <td>...</td>\n",
       "      <td>...</td>\n",
       "      <td>...</td>\n",
       "      <td>...</td>\n",
       "      <td>...</td>\n",
       "      <td>...</td>\n",
       "      <td>...</td>\n",
       "      <td>...</td>\n",
       "      <td>...</td>\n",
       "      <td>...</td>\n",
       "      <td>...</td>\n",
       "      <td>...</td>\n",
       "      <td>...</td>\n",
       "      <td>...</td>\n",
       "      <td>...</td>\n",
       "    </tr>\n",
       "    <tr>\n",
       "      <th>206291</th>\n",
       "      <td>0.505960</td>\n",
       "      <td>1.105716</td>\n",
       "      <td>-0.476005</td>\n",
       "      <td>1.736132</td>\n",
       "      <td>-0.930947</td>\n",
       "      <td>-0.173801</td>\n",
       "      <td>1.066476</td>\n",
       "      <td>0.006154</td>\n",
       "      <td>-0.265784</td>\n",
       "      <td>-0.213802</td>\n",
       "      <td>...</td>\n",
       "      <td>-5.000000</td>\n",
       "      <td>-5.000000</td>\n",
       "      <td>0.21688</td>\n",
       "      <td>-0.306200</td>\n",
       "      <td>1.266391</td>\n",
       "      <td>-0.246234</td>\n",
       "      <td>-0.170235</td>\n",
       "      <td>0.000001</td>\n",
       "      <td>125.661652</td>\n",
       "      <td>0</td>\n",
       "    </tr>\n",
       "    <tr>\n",
       "      <th>130895</th>\n",
       "      <td>-0.665580</td>\n",
       "      <td>-0.432720</td>\n",
       "      <td>-0.270296</td>\n",
       "      <td>-0.052469</td>\n",
       "      <td>0.002444</td>\n",
       "      <td>0.089945</td>\n",
       "      <td>-0.681683</td>\n",
       "      <td>-0.555274</td>\n",
       "      <td>-0.192695</td>\n",
       "      <td>-0.213802</td>\n",
       "      <td>...</td>\n",
       "      <td>-0.502921</td>\n",
       "      <td>-1.072007</td>\n",
       "      <td>0.21688</td>\n",
       "      <td>0.071981</td>\n",
       "      <td>-1.111724</td>\n",
       "      <td>1.418690</td>\n",
       "      <td>-0.164703</td>\n",
       "      <td>0.000014</td>\n",
       "      <td>120.612106</td>\n",
       "      <td>0</td>\n",
       "    </tr>\n",
       "    <tr>\n",
       "      <th>170394</th>\n",
       "      <td>-0.285580</td>\n",
       "      <td>0.772817</td>\n",
       "      <td>-0.580677</td>\n",
       "      <td>1.280174</td>\n",
       "      <td>0.674528</td>\n",
       "      <td>-0.137204</td>\n",
       "      <td>0.222974</td>\n",
       "      <td>1.377183</td>\n",
       "      <td>0.006766</td>\n",
       "      <td>0.209553</td>\n",
       "      <td>...</td>\n",
       "      <td>-5.000000</td>\n",
       "      <td>-5.000000</td>\n",
       "      <td>0.21688</td>\n",
       "      <td>-0.102321</td>\n",
       "      <td>-0.714593</td>\n",
       "      <td>-0.258847</td>\n",
       "      <td>-0.125546</td>\n",
       "      <td>0.000003</td>\n",
       "      <td>128.602142</td>\n",
       "      <td>0</td>\n",
       "    </tr>\n",
       "    <tr>\n",
       "      <th>288477</th>\n",
       "      <td>-0.142119</td>\n",
       "      <td>0.537421</td>\n",
       "      <td>-0.614989</td>\n",
       "      <td>1.453207</td>\n",
       "      <td>0.823116</td>\n",
       "      <td>-0.665959</td>\n",
       "      <td>0.627855</td>\n",
       "      <td>0.953631</td>\n",
       "      <td>-0.122169</td>\n",
       "      <td>0.009276</td>\n",
       "      <td>...</td>\n",
       "      <td>0.155410</td>\n",
       "      <td>-0.740365</td>\n",
       "      <td>0.21688</td>\n",
       "      <td>-0.552499</td>\n",
       "      <td>-1.541182</td>\n",
       "      <td>0.206260</td>\n",
       "      <td>-0.199088</td>\n",
       "      <td>0.000010</td>\n",
       "      <td>124.875404</td>\n",
       "      <td>0</td>\n",
       "    </tr>\n",
       "    <tr>\n",
       "      <th>64725</th>\n",
       "      <td>0.714828</td>\n",
       "      <td>-1.167466</td>\n",
       "      <td>-0.505874</td>\n",
       "      <td>1.868622</td>\n",
       "      <td>1.581021</td>\n",
       "      <td>0.559388</td>\n",
       "      <td>0.543505</td>\n",
       "      <td>0.470517</td>\n",
       "      <td>-0.143151</td>\n",
       "      <td>-0.023316</td>\n",
       "      <td>...</td>\n",
       "      <td>-5.000000</td>\n",
       "      <td>-5.000000</td>\n",
       "      <td>0.21688</td>\n",
       "      <td>-0.323223</td>\n",
       "      <td>1.466914</td>\n",
       "      <td>0.479017</td>\n",
       "      <td>-0.177810</td>\n",
       "      <td>0.000002</td>\n",
       "      <td>122.940865</td>\n",
       "      <td>0</td>\n",
       "    </tr>\n",
       "  </tbody>\n",
       "</table>\n",
       "<p>684 rows × 143 columns</p>\n",
       "</div>"
      ],
      "text/plain": [
       "        leadPhotonEn  leadPhotonMass  leadPhotonPt  leadPhotonEta  \\\n",
       "169006     -0.319460       -0.030875     -0.062682       0.708120   \n",
       "167215     -0.746222        0.370971     -0.422526       0.049896   \n",
       "127314     -1.031729       -0.030875     -0.981703       0.267116   \n",
       "69105      -0.691134        0.253273     -0.429550       0.419878   \n",
       "176692     -0.525638        0.370971     -0.328668      -0.673936   \n",
       "...              ...             ...           ...            ...   \n",
       "206291      0.505960        1.105716     -0.476005       1.736132   \n",
       "130895     -0.665580       -0.432720     -0.270296      -0.052469   \n",
       "170394     -0.285580        0.772817     -0.580677       1.280174   \n",
       "288477     -0.142119        0.537421     -0.614989       1.453207   \n",
       "64725       0.714828       -1.167466     -0.505874       1.868622   \n",
       "\n",
       "        leadPhotonPhi  leadPhotonIDMVA  leadPhotonSigmaE  leadPhotonHoE  \\\n",
       "169006      -1.281786         0.036944          0.130188       2.144871   \n",
       "167215       0.226507         0.578318         -0.709097      -0.555274   \n",
       "127314      -0.404148         0.055873         -0.719641      -0.555274   \n",
       "69105       -0.159120         0.609866         -0.696444      -0.555274   \n",
       "176692       0.673180         0.585889         -0.485569       0.684499   \n",
       "...               ...              ...               ...            ...   \n",
       "206291      -0.930947        -0.173801          1.066476       0.006154   \n",
       "130895       0.002444         0.089945         -0.681683      -0.555274   \n",
       "170394       0.674528        -0.137204          0.222974       1.377183   \n",
       "288477       0.823116        -0.665959          0.627855       0.953631   \n",
       "64725        1.581021         0.559388          0.543505       0.470517   \n",
       "\n",
       "        leadPhotonPfRelIsoAll  leadPhotonPfRelIsoChg  ...  \\\n",
       "169006               0.195709              -0.213802  ...   \n",
       "167215              -0.265784              -0.213802  ...   \n",
       "127314               0.262150               0.362680  ...   \n",
       "69105               -0.265784              -0.213802  ...   \n",
       "176692              -0.265784              -0.213802  ...   \n",
       "...                       ...                    ...  ...   \n",
       "206291              -0.265784              -0.213802  ...   \n",
       "130895              -0.192695              -0.213802  ...   \n",
       "170394               0.006766               0.209553  ...   \n",
       "288477              -0.122169               0.009276  ...   \n",
       "64725               -0.143151              -0.023316  ...   \n",
       "\n",
       "        subleadJetDiphoDPhi  subleadJetDiphoDEta  nSoftJets     metPt  \\\n",
       "169006            -0.339052            -0.830124    0.21688 -0.320001   \n",
       "167215            -5.000000            -5.000000    0.21688  0.465299   \n",
       "127314            -5.000000            -5.000000    0.21688 -0.752942   \n",
       "69105              1.289467            -0.566842    0.21688 -0.613745   \n",
       "176692             0.446032            -0.160633    0.21688 -0.463700   \n",
       "...                     ...                  ...        ...       ...   \n",
       "206291            -5.000000            -5.000000    0.21688 -0.306200   \n",
       "130895            -0.502921            -1.072007    0.21688  0.071981   \n",
       "170394            -5.000000            -5.000000    0.21688 -0.102321   \n",
       "288477             0.155410            -0.740365    0.21688 -0.552499   \n",
       "64725             -5.000000            -5.000000    0.21688 -0.323223   \n",
       "\n",
       "          metPhi  metSumET  metSignificance    weight  diphotonMass  proc  \n",
       "169006  0.874942  0.251982        -0.176779  0.000003    127.894974     0  \n",
       "167215  1.232045 -0.105913        -0.001312  0.000014    127.584221     0  \n",
       "127314 -1.624270 -1.749552        -0.199024  0.000013    121.315613     0  \n",
       "69105   0.892115 -0.719223        -0.193303  0.000001    125.746231     0  \n",
       "176692  0.847414 -0.542640        -0.163221  0.000001    126.708359     0  \n",
       "...          ...       ...              ...       ...           ...   ...  \n",
       "206291  1.266391 -0.246234        -0.170235  0.000001    125.661652     0  \n",
       "130895 -1.111724  1.418690        -0.164703  0.000014    120.612106     0  \n",
       "170394 -0.714593 -0.258847        -0.125546  0.000003    128.602142     0  \n",
       "288477 -1.541182  0.206260        -0.199088  0.000010    124.875404     0  \n",
       "64725   1.466914  0.479017        -0.177810  0.000002    122.940865     0  \n",
       "\n",
       "[684 rows x 143 columns]"
      ]
     },
     "execution_count": 17,
     "metadata": {},
     "output_type": "execute_result"
    }
   ],
   "source": [
    "df[df['proc']==0]"
   ]
  },
  {
   "cell_type": "code",
   "execution_count": 5,
   "metadata": {},
   "outputs": [],
   "source": [
    "batch = []\n",
    "for i in range(10):\n",
    "    batch.append(torch.ones(3))"
   ]
  },
  {
   "cell_type": "code",
   "execution_count": 15,
   "metadata": {},
   "outputs": [
    {
     "data": {
      "text/plain": [
       "tensor([[1., 1., 1., 1., 1., 1., 1., 1., 1., 1.],\n",
       "        [1., 1., 1., 1., 1., 1., 1., 1., 1., 1.],\n",
       "        [1., 1., 1., 1., 1., 1., 1., 1., 1., 1.]])"
      ]
     },
     "execution_count": 15,
     "metadata": {},
     "output_type": "execute_result"
    }
   ],
   "source": [
    "torch.tensor(np.array(batch)).T"
   ]
  },
  {
   "cell_type": "code",
   "execution_count": 2,
   "metadata": {},
   "outputs": [
    {
     "ename": "",
     "evalue": "",
     "output_type": "error",
     "traceback": [
      "\u001b[1;31mThe Kernel crashed while executing code in the current cell or a previous cell. \n",
      "\u001b[1;31mPlease review the code in the cell(s) to identify a possible cause of the failure. \n",
      "\u001b[1;31mClick <a href='https://aka.ms/vscodeJupyterKernelCrash'>here</a> for more info. \n",
      "\u001b[1;31mView Jupyter <a href='command:jupyter.viewOutput'>log</a> for further details."
     ]
    }
   ],
   "source": [
    "data = pd.read_parquet(f'/vols/cms/hw423/Data/Week14/df_InfA_RD_DPrmvd.parquet')"
   ]
  },
  {
   "cell_type": "code",
   "execution_count": 2,
   "metadata": {},
   "outputs": [],
   "source": [
    "parquetcode = 'InfA_RD_DPrmvd_Bld_x10'\n",
    "df = pd.read_parquet(f'/vols/cms/hw423/Data/Week14/df_{parquetcode}.parquet')\n",
    "df = df.dropna().reset_index(drop=True)\n",
    "mask = (df['diphotonMass']<127) & (df['diphotonMass']>123)\n",
    "df = df[mask]\n",
    "dfx = df.iloc[:,:-9]"
   ]
  },
  {
   "cell_type": "code",
   "execution_count": 6,
   "metadata": {},
   "outputs": [
    {
     "data": {
      "text/plain": [
       "<Axes: >"
      ]
     },
     "execution_count": 6,
     "metadata": {},
     "output_type": "execute_result"
    },
    {
     "data": {
      "image/png": "[encoded data removed]",
      "text/plain": [
       "<Figure size 1000x1000 with 1 Axes>"
      ]
     },
     "metadata": {},
     "output_type": "display_data"
    }
   ],
   "source": [
    "dfx['leadPhotonEn'].hist(density = True, bins=100)"
   ]
  },
  {
   "cell_type": "code",
   "execution_count": 7,
   "metadata": {},
   "outputs": [],
   "source": [
    "dfx_new = pd.DataFrame(columns = dfx.columns)\n",
    "for col in dfx.columns:\n",
    "    x = dfx[col]\n",
    "    x9 = x[x!=-999]\n",
    "    mean = x9.mean()\n",
    "    sigma = x9.std()\n",
    "    if sigma !=0:\n",
    "        x9z = (x9-mean)/sigma\n",
    "    else:\n",
    "        x9z = x9-mean\n",
    "    x_new = x\n",
    "    x_new[x!=-999] = x9z.values.astype('float32')\n",
    "    x_new[x==-999] = -10\n",
    "    dfx_new[col]=x_new\n",
    "dfx_new = dfx_new.dropna()"
   ]
  },
  {
   "cell_type": "code",
   "execution_count": 3,
   "metadata": {},
   "outputs": [],
   "source": [
    "C = A(1,2)"
   ]
  },
  {
   "cell_type": "code",
   "execution_count": 5,
   "metadata": {},
   "outputs": [],
   "source": [
    "import iminuit"
   ]
  },
  {
   "cell_type": "code",
   "execution_count": null,
   "metadata": {},
   "outputs": [],
   "source": []
  },
  {
   "cell_type": "code",
   "execution_count": 9,
   "metadata": {},
   "outputs": [],
   "source": [
    "# df = pd.read_parquet('/vols/cms/hw423/Data/Week14/df_InfA_RD_DPrmvd_Bld_x50x40.parquet')\n",
    "oc = np.load('/vols/cms/hw423/Data/Week14/octest_InfA_xgb_AJF.npy')"
   ]
  },
  {
   "cell_type": "code",
   "execution_count": 10,
   "metadata": {},
   "outputs": [
    {
     "data": {
      "text/plain": [
       "(2914423, 7)"
      ]
     },
     "execution_count": 10,
     "metadata": {},
     "output_type": "execute_result"
    }
   ],
   "source": [
    "oc.shape"
   ]
  },
  {
   "cell_type": "code",
   "execution_count": 2,
   "metadata": {},
   "outputs": [
    {
     "name": "stdout",
     "output_type": "stream",
     "text": [
      "\u001b[H\u001b[2J a blinking text!This is a blinking text!This is a blinking text!This is a blinking text!This is a blinking text!This is a blinking text!This is a blinking text!This is a blinking text!This is a blinking text!This is a blinking text!"
     ]
    }
   ],
   "source": [
    "import time\n",
    "import os\n",
    "\n",
    "def clear_screen():\n",
    "    # Clear screen command for Windows and Unix-based systems\n",
    "    os.system('cls' if os.name == 'nt' else 'clear')\n",
    "\n",
    "def blink_print(text, duration, interval):\n",
    "    end_time = time.time() + duration\n",
    "    while time.time() < end_time:\n",
    "        # Print text\n",
    "        print(text, end='\\r', flush=True)\n",
    "        time.sleep(interval)\n",
    "        # Clear text\n",
    "        clear_screen()\n",
    "        time.sleep(interval)\n",
    "\n",
    "if __name__ == \"__main__\":\n",
    "    blink_print(\"This is a blinking text!\", duration=10, interval=0.5)\n"
   ]
  },
  {
   "cell_type": "code",
   "execution_count": 21,
   "metadata": {},
   "outputs": [
    {
     "data": {
      "text/plain": [
       "1    750383\n",
       "5    638508\n",
       "6    634362\n",
       "2    611797\n",
       "4    148337\n",
       "3    131036\n",
       "Name: count, dtype: int64"
      ]
     },
     "execution_count": 21,
     "metadata": {},
     "output_type": "execute_result"
    }
   ],
   "source": [
    "df= np.load('/vols/cms/hw423/Data/Week14/octest_InfA_RD_DPrmvd.npy')\n",
    "pd.DataFrame(df.argmax(axis=1)).value_counts()"
   ]
  },
  {
   "cell_type": "code",
   "execution_count": 34,
   "metadata": {},
   "outputs": [
    {
     "ename": "KeyboardInterrupt",
     "evalue": "",
     "output_type": "error",
     "traceback": [
      "\u001b[0;31m---------------------------------------------------------------------------\u001b[0m",
      "\u001b[0;31mKeyboardInterrupt\u001b[0m                         Traceback (most recent call last)",
      "Cell \u001b[0;32mIn[34], line 1\u001b[0m\n\u001b[0;32m----> 1\u001b[0m df \u001b[38;5;241m=\u001b[39m \u001b[43mpd\u001b[49m\u001b[38;5;241;43m.\u001b[39;49m\u001b[43mread_parquet\u001b[49m\u001b[43m(\u001b[49m\u001b[38;5;124;43m'\u001b[39;49m\u001b[38;5;124;43m/vols/cms/hw423/Data/Week14/df_InfA_RD_DPrmvd.parquet\u001b[39;49m\u001b[38;5;124;43m'\u001b[39;49m\u001b[43m)\u001b[49m\n",
      "File \u001b[0;32m/vols/cms/hw423/env/envs/env/lib/python3.11/site-packages/pandas/io/parquet.py:670\u001b[0m, in \u001b[0;36mread_parquet\u001b[0;34m(path, engine, columns, storage_options, use_nullable_dtypes, dtype_backend, filesystem, filters, **kwargs)\u001b[0m\n\u001b[1;32m    667\u001b[0m     use_nullable_dtypes \u001b[38;5;241m=\u001b[39m \u001b[38;5;28;01mFalse\u001b[39;00m\n\u001b[1;32m    668\u001b[0m check_dtype_backend(dtype_backend)\n\u001b[0;32m--> 670\u001b[0m \u001b[38;5;28;01mreturn\u001b[39;00m \u001b[43mimpl\u001b[49m\u001b[38;5;241;43m.\u001b[39;49m\u001b[43mread\u001b[49m\u001b[43m(\u001b[49m\n\u001b[1;32m    671\u001b[0m \u001b[43m    \u001b[49m\u001b[43mpath\u001b[49m\u001b[43m,\u001b[49m\n\u001b[1;32m    672\u001b[0m \u001b[43m    \u001b[49m\u001b[43mcolumns\u001b[49m\u001b[38;5;241;43m=\u001b[39;49m\u001b[43mcolumns\u001b[49m\u001b[43m,\u001b[49m\n\u001b[1;32m    673\u001b[0m \u001b[43m    \u001b[49m\u001b[43mfilters\u001b[49m\u001b[38;5;241;43m=\u001b[39;49m\u001b[43mfilters\u001b[49m\u001b[43m,\u001b[49m\n\u001b[1;32m    674\u001b[0m \u001b[43m    \u001b[49m\u001b[43mstorage_options\u001b[49m\u001b[38;5;241;43m=\u001b[39;49m\u001b[43mstorage_options\u001b[49m\u001b[43m,\u001b[49m\n\u001b[1;32m    675\u001b[0m \u001b[43m    \u001b[49m\u001b[43muse_nullable_dtypes\u001b[49m\u001b[38;5;241;43m=\u001b[39;49m\u001b[43muse_nullable_dtypes\u001b[49m\u001b[43m,\u001b[49m\n\u001b[1;32m    676\u001b[0m \u001b[43m    \u001b[49m\u001b[43mdtype_backend\u001b[49m\u001b[38;5;241;43m=\u001b[39;49m\u001b[43mdtype_backend\u001b[49m\u001b[43m,\u001b[49m\n\u001b[1;32m    677\u001b[0m \u001b[43m    \u001b[49m\u001b[43mfilesystem\u001b[49m\u001b[38;5;241;43m=\u001b[39;49m\u001b[43mfilesystem\u001b[49m\u001b[43m,\u001b[49m\n\u001b[1;32m    678\u001b[0m \u001b[43m    \u001b[49m\u001b[38;5;241;43m*\u001b[39;49m\u001b[38;5;241;43m*\u001b[39;49m\u001b[43mkwargs\u001b[49m\u001b[43m,\u001b[49m\n\u001b[1;32m    679\u001b[0m \u001b[43m\u001b[49m\u001b[43m)\u001b[49m\n",
      "File \u001b[0;32m/vols/cms/hw423/env/envs/env/lib/python3.11/site-packages/pandas/io/parquet.py:272\u001b[0m, in \u001b[0;36mPyArrowImpl.read\u001b[0;34m(self, path, columns, filters, use_nullable_dtypes, dtype_backend, storage_options, filesystem, **kwargs)\u001b[0m\n\u001b[1;32m    265\u001b[0m path_or_handle, handles, filesystem \u001b[38;5;241m=\u001b[39m _get_path_or_handle(\n\u001b[1;32m    266\u001b[0m     path,\n\u001b[1;32m    267\u001b[0m     filesystem,\n\u001b[1;32m    268\u001b[0m     storage_options\u001b[38;5;241m=\u001b[39mstorage_options,\n\u001b[1;32m    269\u001b[0m     mode\u001b[38;5;241m=\u001b[39m\u001b[38;5;124m\"\u001b[39m\u001b[38;5;124mrb\u001b[39m\u001b[38;5;124m\"\u001b[39m,\n\u001b[1;32m    270\u001b[0m )\n\u001b[1;32m    271\u001b[0m \u001b[38;5;28;01mtry\u001b[39;00m:\n\u001b[0;32m--> 272\u001b[0m     pa_table \u001b[38;5;241m=\u001b[39m \u001b[38;5;28;43mself\u001b[39;49m\u001b[38;5;241;43m.\u001b[39;49m\u001b[43mapi\u001b[49m\u001b[38;5;241;43m.\u001b[39;49m\u001b[43mparquet\u001b[49m\u001b[38;5;241;43m.\u001b[39;49m\u001b[43mread_table\u001b[49m\u001b[43m(\u001b[49m\n\u001b[1;32m    273\u001b[0m \u001b[43m        \u001b[49m\u001b[43mpath_or_handle\u001b[49m\u001b[43m,\u001b[49m\n\u001b[1;32m    274\u001b[0m \u001b[43m        \u001b[49m\u001b[43mcolumns\u001b[49m\u001b[38;5;241;43m=\u001b[39;49m\u001b[43mcolumns\u001b[49m\u001b[43m,\u001b[49m\n\u001b[1;32m    275\u001b[0m \u001b[43m        \u001b[49m\u001b[43mfilesystem\u001b[49m\u001b[38;5;241;43m=\u001b[39;49m\u001b[43mfilesystem\u001b[49m\u001b[43m,\u001b[49m\n\u001b[1;32m    276\u001b[0m \u001b[43m        \u001b[49m\u001b[43mfilters\u001b[49m\u001b[38;5;241;43m=\u001b[39;49m\u001b[43mfilters\u001b[49m\u001b[43m,\u001b[49m\n\u001b[1;32m    277\u001b[0m \u001b[43m        \u001b[49m\u001b[38;5;241;43m*\u001b[39;49m\u001b[38;5;241;43m*\u001b[39;49m\u001b[43mkwargs\u001b[49m\u001b[43m,\u001b[49m\n\u001b[1;32m    278\u001b[0m \u001b[43m    \u001b[49m\u001b[43m)\u001b[49m\n\u001b[1;32m    279\u001b[0m     result \u001b[38;5;241m=\u001b[39m pa_table\u001b[38;5;241m.\u001b[39mto_pandas(\u001b[38;5;241m*\u001b[39m\u001b[38;5;241m*\u001b[39mto_pandas_kwargs)\n\u001b[1;32m    281\u001b[0m     \u001b[38;5;28;01mif\u001b[39;00m manager \u001b[38;5;241m==\u001b[39m \u001b[38;5;124m\"\u001b[39m\u001b[38;5;124marray\u001b[39m\u001b[38;5;124m\"\u001b[39m:\n",
      "File \u001b[0;32m/vols/cms/hw423/env/envs/env/lib/python3.11/site-packages/pyarrow/parquet/core.py:2973\u001b[0m, in \u001b[0;36mread_table\u001b[0;34m(source, columns, use_threads, metadata, schema, use_pandas_metadata, read_dictionary, memory_map, buffer_size, partitioning, filesystem, filters, use_legacy_dataset, ignore_prefixes, pre_buffer, coerce_int96_timestamp_unit, decryption_properties, thrift_string_size_limit, thrift_container_size_limit)\u001b[0m\n\u001b[1;32m   2962\u001b[0m         \u001b[38;5;66;03m# TODO test that source is not a directory or a list\u001b[39;00m\n\u001b[1;32m   2963\u001b[0m         dataset \u001b[38;5;241m=\u001b[39m ParquetFile(\n\u001b[1;32m   2964\u001b[0m             source, metadata\u001b[38;5;241m=\u001b[39mmetadata, read_dictionary\u001b[38;5;241m=\u001b[39mread_dictionary,\n\u001b[1;32m   2965\u001b[0m             memory_map\u001b[38;5;241m=\u001b[39mmemory_map, buffer_size\u001b[38;5;241m=\u001b[39mbuffer_size,\n\u001b[0;32m   (...)\u001b[0m\n\u001b[1;32m   2970\u001b[0m             thrift_container_size_limit\u001b[38;5;241m=\u001b[39mthrift_container_size_limit,\n\u001b[1;32m   2971\u001b[0m         )\n\u001b[0;32m-> 2973\u001b[0m     \u001b[38;5;28;01mreturn\u001b[39;00m \u001b[43mdataset\u001b[49m\u001b[38;5;241;43m.\u001b[39;49m\u001b[43mread\u001b[49m\u001b[43m(\u001b[49m\u001b[43mcolumns\u001b[49m\u001b[38;5;241;43m=\u001b[39;49m\u001b[43mcolumns\u001b[49m\u001b[43m,\u001b[49m\u001b[43m \u001b[49m\u001b[43muse_threads\u001b[49m\u001b[38;5;241;43m=\u001b[39;49m\u001b[43muse_threads\u001b[49m\u001b[43m,\u001b[49m\n\u001b[1;32m   2974\u001b[0m \u001b[43m                        \u001b[49m\u001b[43muse_pandas_metadata\u001b[49m\u001b[38;5;241;43m=\u001b[39;49m\u001b[43muse_pandas_metadata\u001b[49m\u001b[43m)\u001b[49m\n\u001b[1;32m   2976\u001b[0m warnings\u001b[38;5;241m.\u001b[39mwarn(\n\u001b[1;32m   2977\u001b[0m     \u001b[38;5;124m\"\u001b[39m\u001b[38;5;124mPassing \u001b[39m\u001b[38;5;124m'\u001b[39m\u001b[38;5;124muse_legacy_dataset=True\u001b[39m\u001b[38;5;124m'\u001b[39m\u001b[38;5;124m to get the legacy behaviour is \u001b[39m\u001b[38;5;124m\"\u001b[39m\n\u001b[1;32m   2978\u001b[0m     \u001b[38;5;124m\"\u001b[39m\u001b[38;5;124mdeprecated as of pyarrow 8.0.0, and the legacy implementation will \u001b[39m\u001b[38;5;124m\"\u001b[39m\n\u001b[1;32m   2979\u001b[0m     \u001b[38;5;124m\"\u001b[39m\u001b[38;5;124mbe removed in a future version.\u001b[39m\u001b[38;5;124m\"\u001b[39m,\n\u001b[1;32m   2980\u001b[0m     \u001b[38;5;167;01mFutureWarning\u001b[39;00m, stacklevel\u001b[38;5;241m=\u001b[39m\u001b[38;5;241m2\u001b[39m)\n\u001b[1;32m   2982\u001b[0m \u001b[38;5;28;01mif\u001b[39;00m ignore_prefixes \u001b[38;5;129;01mis\u001b[39;00m \u001b[38;5;129;01mnot\u001b[39;00m \u001b[38;5;28;01mNone\u001b[39;00m:\n",
      "File \u001b[0;32m/vols/cms/hw423/env/envs/env/lib/python3.11/site-packages/pyarrow/parquet/core.py:2601\u001b[0m, in \u001b[0;36m_ParquetDatasetV2.read\u001b[0;34m(self, columns, use_threads, use_pandas_metadata)\u001b[0m\n\u001b[1;32m   2593\u001b[0m         index_columns \u001b[38;5;241m=\u001b[39m [\n\u001b[1;32m   2594\u001b[0m             col \u001b[38;5;28;01mfor\u001b[39;00m col \u001b[38;5;129;01min\u001b[39;00m _get_pandas_index_columns(metadata)\n\u001b[1;32m   2595\u001b[0m             \u001b[38;5;28;01mif\u001b[39;00m \u001b[38;5;129;01mnot\u001b[39;00m \u001b[38;5;28misinstance\u001b[39m(col, \u001b[38;5;28mdict\u001b[39m)\n\u001b[1;32m   2596\u001b[0m         ]\n\u001b[1;32m   2597\u001b[0m         columns \u001b[38;5;241m=\u001b[39m (\n\u001b[1;32m   2598\u001b[0m             \u001b[38;5;28mlist\u001b[39m(columns) \u001b[38;5;241m+\u001b[39m \u001b[38;5;28mlist\u001b[39m(\u001b[38;5;28mset\u001b[39m(index_columns) \u001b[38;5;241m-\u001b[39m \u001b[38;5;28mset\u001b[39m(columns))\n\u001b[1;32m   2599\u001b[0m         )\n\u001b[0;32m-> 2601\u001b[0m table \u001b[38;5;241m=\u001b[39m \u001b[38;5;28;43mself\u001b[39;49m\u001b[38;5;241;43m.\u001b[39;49m\u001b[43m_dataset\u001b[49m\u001b[38;5;241;43m.\u001b[39;49m\u001b[43mto_table\u001b[49m\u001b[43m(\u001b[49m\n\u001b[1;32m   2602\u001b[0m \u001b[43m    \u001b[49m\u001b[43mcolumns\u001b[49m\u001b[38;5;241;43m=\u001b[39;49m\u001b[43mcolumns\u001b[49m\u001b[43m,\u001b[49m\u001b[43m \u001b[49m\u001b[38;5;28;43mfilter\u001b[39;49m\u001b[38;5;241;43m=\u001b[39;49m\u001b[38;5;28;43mself\u001b[39;49m\u001b[38;5;241;43m.\u001b[39;49m\u001b[43m_filter_expression\u001b[49m\u001b[43m,\u001b[49m\n\u001b[1;32m   2603\u001b[0m \u001b[43m    \u001b[49m\u001b[43muse_threads\u001b[49m\u001b[38;5;241;43m=\u001b[39;49m\u001b[43muse_threads\u001b[49m\n\u001b[1;32m   2604\u001b[0m \u001b[43m\u001b[49m\u001b[43m)\u001b[49m\n\u001b[1;32m   2606\u001b[0m \u001b[38;5;66;03m# if use_pandas_metadata, restore the pandas metadata (which gets\u001b[39;00m\n\u001b[1;32m   2607\u001b[0m \u001b[38;5;66;03m# lost if doing a specific `columns` selection in to_table)\u001b[39;00m\n\u001b[1;32m   2608\u001b[0m \u001b[38;5;28;01mif\u001b[39;00m use_pandas_metadata:\n",
      "\u001b[0;31mKeyboardInterrupt\u001b[0m: "
     ]
    }
   ],
   "source": [
    "df = pd.read_parquet('/vols/cms/hw423/Data/Week14/df_InfA_RD_DPrmvd.parquet')"
   ]
  },
  {
   "cell_type": "code",
   "execution_count": 3,
   "metadata": {},
   "outputs": [
    {
     "data": {
      "text/plain": [
       "6    1147151\n",
       "2     777865\n",
       "1     680134\n",
       "5     149657\n",
       "0     117350\n",
       "3      27709\n",
       "4      14557\n",
       "Name: count, dtype: int64"
      ]
     },
     "execution_count": 3,
     "metadata": {},
     "output_type": "execute_result"
    }
   ],
   "source": [
    "df = pd.read_parquet('/vols/cms/hw423/Data/Week14/df_InfAwar_test_CE_.parquet')\n",
    "col = ['$\\gamma\\gamma$','ggH','qqH','WH','ZH','ttH','tH']\n",
    "lb = pd.DataFrame(df.iloc[:,-7:].values).idxmax(axis=1)\n",
    "lb.value_counts()\n"
   ]
  },
  {
   "cell_type": "code",
   "execution_count": 40,
   "metadata": {},
   "outputs": [],
   "source": [
    "df['weight'].to_pickle('/vols/cms/hw423/Data/Week14/weight.pkl')"
   ]
  },
  {
   "cell_type": "code",
   "execution_count": 38,
   "metadata": {},
   "outputs": [],
   "source": [
    "lb.to_pickle('/vols/cms/hw423/Data/Week14/Label.pkl')"
   ]
  },
  {
   "cell_type": "code",
   "execution_count": 19,
   "metadata": {},
   "outputs": [
    {
     "data": {
      "text/plain": [
       "0\n",
       "$\\gamma\\gamma$    0.323157\n",
       "WH                0.000576\n",
       "ZH                0.000590\n",
       "ggH               0.003746\n",
       "qqH               0.000357\n",
       "tH                0.000004\n",
       "ttH               0.000156\n",
       "Name: weight, dtype: float32"
      ]
     },
     "execution_count": 19,
     "metadata": {},
     "output_type": "execute_result"
    }
   ],
   "source": [
    "pd.concat([df['weight'],lb],axis=1).groupby([0])['weight'].sum()"
   ]
  },
  {
   "cell_type": "code",
   "execution_count": 15,
   "metadata": {},
   "outputs": [],
   "source": [
    "oc = np.load(f'/vols/cms/hw423/Data/Week14/octest_DPrmvd_100_200.npy')\n",
    "label = pd.read_pickle(f'/vols/cms/hw423/Data/Week14/label_InfA_RD_DPrmvd.pkl').astype(int)\n",
    "label = pd.DataFrame(label.values,columns=['true'])\n",
    "pred = pd.DataFrame(oc.argmax(axis=1),columns=['pred'])"
   ]
  },
  {
   "cell_type": "code",
   "execution_count": 19,
   "metadata": {},
   "outputs": [
    {
     "data": {
      "text/plain": [
       "true\n",
       "6       1147151\n",
       "2        777865\n",
       "1        680134\n",
       "5        149657\n",
       "0        117350\n",
       "3         27709\n",
       "4         14557\n",
       "Name: count, dtype: int64"
      ]
     },
     "execution_count": 19,
     "metadata": {},
     "output_type": "execute_result"
    }
   ],
   "source": [
    "label.value_counts()"
   ]
  },
  {
   "cell_type": "code",
   "execution_count": 22,
   "metadata": {},
   "outputs": [
    {
     "ename": "IndexError",
     "evalue": "single positional indexer is out-of-bounds",
     "output_type": "error",
     "traceback": [
      "\u001b[0;31m---------------------------------------------------------------------------\u001b[0m",
      "\u001b[0;31mIndexError\u001b[0m                                Traceback (most recent call last)",
      "Cell \u001b[0;32mIn[22], line 8\u001b[0m\n\u001b[1;32m      6\u001b[0m CM \u001b[38;5;241m=\u001b[39m []\n\u001b[1;32m      7\u001b[0m \u001b[38;5;28;01mfor\u001b[39;00m i \u001b[38;5;129;01min\u001b[39;00m \u001b[38;5;28mrange\u001b[39m(\u001b[38;5;241m6\u001b[39m):\n\u001b[0;32m----> 8\u001b[0m     cl \u001b[38;5;241m=\u001b[39m \u001b[43mcm_w\u001b[49m\u001b[38;5;241;43m.\u001b[39;49m\u001b[43miloc\u001b[49m\u001b[43m[\u001b[49m\u001b[43m:\u001b[49m\u001b[43m,\u001b[49m\u001b[43mi\u001b[49m\u001b[43m]\u001b[49m\u001b[38;5;241m/\u001b[39mcm_w\u001b[38;5;241m.\u001b[39miloc[:,i]\u001b[38;5;241m.\u001b[39msum()\n\u001b[1;32m      9\u001b[0m     CM\u001b[38;5;241m.\u001b[39mappend(cl)\n\u001b[1;32m     10\u001b[0m cm \u001b[38;5;241m=\u001b[39m pd\u001b[38;5;241m.\u001b[39mDataFrame(CM)\n",
      "File \u001b[0;32m/vols/cms/hw423/env/envs/env/lib/python3.11/site-packages/pandas/core/indexing.py:1147\u001b[0m, in \u001b[0;36m_LocationIndexer.__getitem__\u001b[0;34m(self, key)\u001b[0m\n\u001b[1;32m   1145\u001b[0m     \u001b[38;5;28;01mif\u001b[39;00m \u001b[38;5;28mself\u001b[39m\u001b[38;5;241m.\u001b[39m_is_scalar_access(key):\n\u001b[1;32m   1146\u001b[0m         \u001b[38;5;28;01mreturn\u001b[39;00m \u001b[38;5;28mself\u001b[39m\u001b[38;5;241m.\u001b[39mobj\u001b[38;5;241m.\u001b[39m_get_value(\u001b[38;5;241m*\u001b[39mkey, takeable\u001b[38;5;241m=\u001b[39m\u001b[38;5;28mself\u001b[39m\u001b[38;5;241m.\u001b[39m_takeable)\n\u001b[0;32m-> 1147\u001b[0m     \u001b[38;5;28;01mreturn\u001b[39;00m \u001b[38;5;28;43mself\u001b[39;49m\u001b[38;5;241;43m.\u001b[39;49m\u001b[43m_getitem_tuple\u001b[49m\u001b[43m(\u001b[49m\u001b[43mkey\u001b[49m\u001b[43m)\u001b[49m\n\u001b[1;32m   1148\u001b[0m \u001b[38;5;28;01melse\u001b[39;00m:\n\u001b[1;32m   1149\u001b[0m     \u001b[38;5;66;03m# we by definition only have the 0th axis\u001b[39;00m\n\u001b[1;32m   1150\u001b[0m     axis \u001b[38;5;241m=\u001b[39m \u001b[38;5;28mself\u001b[39m\u001b[38;5;241m.\u001b[39maxis \u001b[38;5;129;01mor\u001b[39;00m \u001b[38;5;241m0\u001b[39m\n",
      "File \u001b[0;32m/vols/cms/hw423/env/envs/env/lib/python3.11/site-packages/pandas/core/indexing.py:1652\u001b[0m, in \u001b[0;36m_iLocIndexer._getitem_tuple\u001b[0;34m(self, tup)\u001b[0m\n\u001b[1;32m   1651\u001b[0m \u001b[38;5;28;01mdef\u001b[39;00m \u001b[38;5;21m_getitem_tuple\u001b[39m(\u001b[38;5;28mself\u001b[39m, tup: \u001b[38;5;28mtuple\u001b[39m):\n\u001b[0;32m-> 1652\u001b[0m     tup \u001b[38;5;241m=\u001b[39m \u001b[38;5;28;43mself\u001b[39;49m\u001b[38;5;241;43m.\u001b[39;49m\u001b[43m_validate_tuple_indexer\u001b[49m\u001b[43m(\u001b[49m\u001b[43mtup\u001b[49m\u001b[43m)\u001b[49m\n\u001b[1;32m   1653\u001b[0m     \u001b[38;5;28;01mwith\u001b[39;00m suppress(IndexingError):\n\u001b[1;32m   1654\u001b[0m         \u001b[38;5;28;01mreturn\u001b[39;00m \u001b[38;5;28mself\u001b[39m\u001b[38;5;241m.\u001b[39m_getitem_lowerdim(tup)\n",
      "File \u001b[0;32m/vols/cms/hw423/env/envs/env/lib/python3.11/site-packages/pandas/core/indexing.py:940\u001b[0m, in \u001b[0;36m_LocationIndexer._validate_tuple_indexer\u001b[0;34m(self, key)\u001b[0m\n\u001b[1;32m    938\u001b[0m \u001b[38;5;28;01mfor\u001b[39;00m i, k \u001b[38;5;129;01min\u001b[39;00m \u001b[38;5;28menumerate\u001b[39m(key):\n\u001b[1;32m    939\u001b[0m     \u001b[38;5;28;01mtry\u001b[39;00m:\n\u001b[0;32m--> 940\u001b[0m         \u001b[38;5;28;43mself\u001b[39;49m\u001b[38;5;241;43m.\u001b[39;49m\u001b[43m_validate_key\u001b[49m\u001b[43m(\u001b[49m\u001b[43mk\u001b[49m\u001b[43m,\u001b[49m\u001b[43m \u001b[49m\u001b[43mi\u001b[49m\u001b[43m)\u001b[49m\n\u001b[1;32m    941\u001b[0m     \u001b[38;5;28;01mexcept\u001b[39;00m \u001b[38;5;167;01mValueError\u001b[39;00m \u001b[38;5;28;01mas\u001b[39;00m err:\n\u001b[1;32m    942\u001b[0m         \u001b[38;5;28;01mraise\u001b[39;00m \u001b[38;5;167;01mValueError\u001b[39;00m(\n\u001b[1;32m    943\u001b[0m             \u001b[38;5;124m\"\u001b[39m\u001b[38;5;124mLocation based indexing can only have \u001b[39m\u001b[38;5;124m\"\u001b[39m\n\u001b[1;32m    944\u001b[0m             \u001b[38;5;124mf\u001b[39m\u001b[38;5;124m\"\u001b[39m\u001b[38;5;124m[\u001b[39m\u001b[38;5;132;01m{\u001b[39;00m\u001b[38;5;28mself\u001b[39m\u001b[38;5;241m.\u001b[39m_valid_types\u001b[38;5;132;01m}\u001b[39;00m\u001b[38;5;124m] types\u001b[39m\u001b[38;5;124m\"\u001b[39m\n\u001b[1;32m    945\u001b[0m         ) \u001b[38;5;28;01mfrom\u001b[39;00m \u001b[38;5;21;01merr\u001b[39;00m\n",
      "File \u001b[0;32m/vols/cms/hw423/env/envs/env/lib/python3.11/site-packages/pandas/core/indexing.py:1554\u001b[0m, in \u001b[0;36m_iLocIndexer._validate_key\u001b[0;34m(self, key, axis)\u001b[0m\n\u001b[1;32m   1552\u001b[0m     \u001b[38;5;28;01mreturn\u001b[39;00m\n\u001b[1;32m   1553\u001b[0m \u001b[38;5;28;01melif\u001b[39;00m is_integer(key):\n\u001b[0;32m-> 1554\u001b[0m     \u001b[38;5;28;43mself\u001b[39;49m\u001b[38;5;241;43m.\u001b[39;49m\u001b[43m_validate_integer\u001b[49m\u001b[43m(\u001b[49m\u001b[43mkey\u001b[49m\u001b[43m,\u001b[49m\u001b[43m \u001b[49m\u001b[43maxis\u001b[49m\u001b[43m)\u001b[49m\n\u001b[1;32m   1555\u001b[0m \u001b[38;5;28;01melif\u001b[39;00m \u001b[38;5;28misinstance\u001b[39m(key, \u001b[38;5;28mtuple\u001b[39m):\n\u001b[1;32m   1556\u001b[0m     \u001b[38;5;66;03m# a tuple should already have been caught by this point\u001b[39;00m\n\u001b[1;32m   1557\u001b[0m     \u001b[38;5;66;03m# so don't treat a tuple as a valid indexer\u001b[39;00m\n\u001b[1;32m   1558\u001b[0m     \u001b[38;5;28;01mraise\u001b[39;00m IndexingError(\u001b[38;5;124m\"\u001b[39m\u001b[38;5;124mToo many indexers\u001b[39m\u001b[38;5;124m\"\u001b[39m)\n",
      "File \u001b[0;32m/vols/cms/hw423/env/envs/env/lib/python3.11/site-packages/pandas/core/indexing.py:1647\u001b[0m, in \u001b[0;36m_iLocIndexer._validate_integer\u001b[0;34m(self, key, axis)\u001b[0m\n\u001b[1;32m   1645\u001b[0m len_axis \u001b[38;5;241m=\u001b[39m \u001b[38;5;28mlen\u001b[39m(\u001b[38;5;28mself\u001b[39m\u001b[38;5;241m.\u001b[39mobj\u001b[38;5;241m.\u001b[39m_get_axis(axis))\n\u001b[1;32m   1646\u001b[0m \u001b[38;5;28;01mif\u001b[39;00m key \u001b[38;5;241m>\u001b[39m\u001b[38;5;241m=\u001b[39m len_axis \u001b[38;5;129;01mor\u001b[39;00m key \u001b[38;5;241m<\u001b[39m \u001b[38;5;241m-\u001b[39mlen_axis:\n\u001b[0;32m-> 1647\u001b[0m     \u001b[38;5;28;01mraise\u001b[39;00m \u001b[38;5;167;01mIndexError\u001b[39;00m(\u001b[38;5;124m\"\u001b[39m\u001b[38;5;124msingle positional indexer is out-of-bounds\u001b[39m\u001b[38;5;124m\"\u001b[39m)\n",
      "\u001b[0;31mIndexError\u001b[0m: single positional indexer is out-of-bounds"
     ]
    },
    {
     "ename": "",
     "evalue": "",
     "output_type": "error",
     "traceback": [
      "\u001b[1;31mThe Kernel crashed while executing code in the current cell or a previous cell. \n",
      "\u001b[1;31mPlease review the code in the cell(s) to identify a possible cause of the failure. \n",
      "\u001b[1;31mClick <a href='https://aka.ms/vscodeJupyterKernelCrash'>here</a> for more info. \n",
      "\u001b[1;31mView Jupyter <a href='command:jupyter.viewOutput'>log</a> for further details."
     ]
    }
   ],
   "source": [
    "df = pd.read_parquet('/vols/cms/hw423/Data/Week14/df_InfA_RD_DPrmvd_proc.parquet')\n",
    "dfw = df['weight']*138000\n",
    "result=pd.concat([label,pred,dfw],axis=1)\n",
    "\n",
    "cm_w = result.groupby(['pred','true'])['weight'].sum().unstack(fill_value=0).reindex(fill_value=0).iloc[1:,1:].T\n",
    "CM = []\n",
    "for i in range(6):\n",
    "    cl = cm_w.iloc[:,i]/cm_w.iloc[:,i].sum()\n",
    "    CM.append(cl)\n",
    "cm = pd.DataFrame(CM)"
   ]
  },
  {
   "cell_type": "code",
   "execution_count": 73,
   "metadata": {},
   "outputs": [
    {
     "data": {
      "text/html": [
       "<div>\n",
       "<style scoped>\n",
       "    .dataframe tbody tr th:only-of-type {\n",
       "        vertical-align: middle;\n",
       "    }\n",
       "\n",
       "    .dataframe tbody tr th {\n",
       "        vertical-align: top;\n",
       "    }\n",
       "\n",
       "    .dataframe thead th {\n",
       "        text-align: right;\n",
       "    }\n",
       "</style>\n",
       "<table border=\"1\" class=\"dataframe\">\n",
       "  <thead>\n",
       "    <tr style=\"text-align: right;\">\n",
       "      <th>pred</th>\n",
       "      <th>1</th>\n",
       "      <th>2</th>\n",
       "      <th>3</th>\n",
       "      <th>4</th>\n",
       "      <th>5</th>\n",
       "      <th>6</th>\n",
       "    </tr>\n",
       "    <tr>\n",
       "      <th>true</th>\n",
       "      <th></th>\n",
       "      <th></th>\n",
       "      <th></th>\n",
       "      <th></th>\n",
       "      <th></th>\n",
       "      <th></th>\n",
       "    </tr>\n",
       "  </thead>\n",
       "  <tbody>\n",
       "    <tr>\n",
       "      <th>1</th>\n",
       "      <td>4320.935059</td>\n",
       "      <td>247.829346</td>\n",
       "      <td>190.513718</td>\n",
       "      <td>123.694794</td>\n",
       "      <td>32.729897</td>\n",
       "      <td>109.978294</td>\n",
       "    </tr>\n",
       "    <tr>\n",
       "      <th>2</th>\n",
       "      <td>209.752731</td>\n",
       "      <td>226.546707</td>\n",
       "      <td>37.112221</td>\n",
       "      <td>15.487483</td>\n",
       "      <td>11.929755</td>\n",
       "      <td>37.046764</td>\n",
       "    </tr>\n",
       "    <tr>\n",
       "      <th>3</th>\n",
       "      <td>5.987568</td>\n",
       "      <td>0.679123</td>\n",
       "      <td>23.612085</td>\n",
       "      <td>6.850401</td>\n",
       "      <td>0.940221</td>\n",
       "      <td>1.595397</td>\n",
       "    </tr>\n",
       "    <tr>\n",
       "      <th>4</th>\n",
       "      <td>4.731200</td>\n",
       "      <td>0.343364</td>\n",
       "      <td>2.983854</td>\n",
       "      <td>11.273941</td>\n",
       "      <td>0.407441</td>\n",
       "      <td>0.568714</td>\n",
       "    </tr>\n",
       "    <tr>\n",
       "      <th>5</th>\n",
       "      <td>0.554065</td>\n",
       "      <td>0.344098</td>\n",
       "      <td>1.236874</td>\n",
       "      <td>0.784846</td>\n",
       "      <td>44.815948</td>\n",
       "      <td>9.965633</td>\n",
       "    </tr>\n",
       "    <tr>\n",
       "      <th>6</th>\n",
       "      <td>0.718375</td>\n",
       "      <td>0.680696</td>\n",
       "      <td>0.754586</td>\n",
       "      <td>0.347652</td>\n",
       "      <td>3.222960</td>\n",
       "      <td>5.534750</td>\n",
       "    </tr>\n",
       "  </tbody>\n",
       "</table>\n",
       "</div>"
      ],
      "text/plain": [
       "pred            1           2           3           4          5           6\n",
       "true                                                                        \n",
       "1     4320.935059  247.829346  190.513718  123.694794  32.729897  109.978294\n",
       "2      209.752731  226.546707   37.112221   15.487483  11.929755   37.046764\n",
       "3        5.987568    0.679123   23.612085    6.850401   0.940221    1.595397\n",
       "4        4.731200    0.343364    2.983854   11.273941   0.407441    0.568714\n",
       "5        0.554065    0.344098    1.236874    0.784846  44.815948    9.965633\n",
       "6        0.718375    0.680696    0.754586    0.347652   3.222960    5.534750"
      ]
     },
     "execution_count": 73,
     "metadata": {},
     "output_type": "execute_result"
    },
    {
     "ename": "",
     "evalue": "",
     "output_type": "error",
     "traceback": [
      "\u001b[1;31mThe Kernel crashed while executing code in the current cell or a previous cell. \n",
      "\u001b[1;31mPlease review the code in the cell(s) to identify a possible cause of the failure. \n",
      "\u001b[1;31mClick <a href='https://aka.ms/vscodeJupyterKernelCrash'>here</a> for more info. \n",
      "\u001b[1;31mView Jupyter <a href='command:jupyter.viewOutput'>log</a> for further details."
     ]
    }
   ],
   "source": [
    "cm_w"
   ]
  },
  {
   "cell_type": "code",
   "execution_count": 63,
   "metadata": {},
   "outputs": [
    {
     "data": {
      "text/plain": [
       "true\n",
       "1    16.145853\n",
       "2     5.732046\n",
       "3     0.052588\n",
       "4     0.060934\n",
       "5     0.098109\n",
       "6     0.038813\n",
       "Name: 0, dtype: float32"
      ]
     },
     "execution_count": 63,
     "metadata": {},
     "output_type": "execute_result"
    }
   ],
   "source": [
    "cm_w.iloc[:,0]"
   ]
  },
  {
   "cell_type": "code",
   "execution_count": 60,
   "metadata": {},
   "outputs": [
    {
     "data": {
      "text/html": [
       "<div>\n",
       "<style scoped>\n",
       "    .dataframe tbody tr th:only-of-type {\n",
       "        vertical-align: middle;\n",
       "    }\n",
       "\n",
       "    .dataframe tbody tr th {\n",
       "        vertical-align: top;\n",
       "    }\n",
       "\n",
       "    .dataframe thead th {\n",
       "        text-align: right;\n",
       "    }\n",
       "</style>\n",
       "<table border=\"1\" class=\"dataframe\">\n",
       "  <thead>\n",
       "    <tr style=\"text-align: right;\">\n",
       "      <th>true</th>\n",
       "      <th>1</th>\n",
       "      <th>2</th>\n",
       "      <th>3</th>\n",
       "      <th>4</th>\n",
       "      <th>5</th>\n",
       "      <th>6</th>\n",
       "    </tr>\n",
       "  </thead>\n",
       "  <tbody>\n",
       "    <tr>\n",
       "      <th>0</th>\n",
       "      <td>0.729646</td>\n",
       "      <td>0.259036</td>\n",
       "      <td>0.002377</td>\n",
       "      <td>0.002754</td>\n",
       "      <td>0.004434</td>\n",
       "      <td>0.001754</td>\n",
       "    </tr>\n",
       "    <tr>\n",
       "      <th>1</th>\n",
       "      <td>0.951186</td>\n",
       "      <td>0.046174</td>\n",
       "      <td>0.001318</td>\n",
       "      <td>0.001041</td>\n",
       "      <td>0.000122</td>\n",
       "      <td>0.000158</td>\n",
       "    </tr>\n",
       "    <tr>\n",
       "      <th>2</th>\n",
       "      <td>0.520187</td>\n",
       "      <td>0.475516</td>\n",
       "      <td>0.001425</td>\n",
       "      <td>0.000721</td>\n",
       "      <td>0.000722</td>\n",
       "      <td>0.001429</td>\n",
       "    </tr>\n",
       "    <tr>\n",
       "      <th>3</th>\n",
       "      <td>0.743575</td>\n",
       "      <td>0.144849</td>\n",
       "      <td>0.092158</td>\n",
       "      <td>0.011646</td>\n",
       "      <td>0.004828</td>\n",
       "      <td>0.002945</td>\n",
       "    </tr>\n",
       "    <tr>\n",
       "      <th>4</th>\n",
       "      <td>0.780709</td>\n",
       "      <td>0.097750</td>\n",
       "      <td>0.043237</td>\n",
       "      <td>0.071156</td>\n",
       "      <td>0.004954</td>\n",
       "      <td>0.002194</td>\n",
       "    </tr>\n",
       "    <tr>\n",
       "      <th>5</th>\n",
       "      <td>0.348019</td>\n",
       "      <td>0.126850</td>\n",
       "      <td>0.009997</td>\n",
       "      <td>0.004332</td>\n",
       "      <td>0.476531</td>\n",
       "      <td>0.034270</td>\n",
       "    </tr>\n",
       "  </tbody>\n",
       "</table>\n",
       "</div>"
      ],
      "text/plain": [
       "true         1         2         3         4         5         6\n",
       "0     0.729646  0.259036  0.002377  0.002754  0.004434  0.001754\n",
       "1     0.951186  0.046174  0.001318  0.001041  0.000122  0.000158\n",
       "2     0.520187  0.475516  0.001425  0.000721  0.000722  0.001429\n",
       "3     0.743575  0.144849  0.092158  0.011646  0.004828  0.002945\n",
       "4     0.780709  0.097750  0.043237  0.071156  0.004954  0.002194\n",
       "5     0.348019  0.126850  0.009997  0.004332  0.476531  0.034270"
      ]
     },
     "execution_count": 60,
     "metadata": {},
     "output_type": "execute_result"
    }
   ],
   "source": [
    "cm"
   ]
  },
  {
   "cell_type": "code",
   "execution_count": 43,
   "metadata": {},
   "outputs": [
    {
     "data": {
      "text/plain": [
       "true\n",
       "0    0.542183\n",
       "1    0.036535\n",
       "2    0.003939\n",
       "3    0.000288\n",
       "4    0.000148\n",
       "5    0.000419\n",
       "6    0.000082\n",
       "Name: weight, dtype: float32"
      ]
     },
     "execution_count": 43,
     "metadata": {},
     "output_type": "execute_result"
    }
   ],
   "source": [
    "result.groupby(['true'])['weight'].sum()"
   ]
  },
  {
   "cell_type": "code",
   "execution_count": 55,
   "metadata": {},
   "outputs": [],
   "source": [
    "cm = pd.DataFrame(CM)"
   ]
  },
  {
   "cell_type": "code",
   "execution_count": 57,
   "metadata": {},
   "outputs": [],
   "source": [
    "import seaborn as sns\n",
    "col = ['$\\gamma\\gamma$','ggH','qqH','WH','ZH','ttH','tH']\n",
    "def plot_confusion_matrix(cm, title='Confusion Matrix', cmap=plt.cm.Blues, filename='confusion_matrix_narc.pdf'):\n",
    "    fig, ax = plt.subplots(figsize=(10,8))\n",
    "    ax = sns.heatmap(cm, annot=True, fmt='.2f', cmap=cmap)  # Using '.2f' for floating point format\n",
    "    ax.set_xlabel('Predicted')\n",
    "    ax.set_ylabel('True')\n",
    "    ax.set_title(title)\n",
    "    ax.set_xticklabels(col[1:])\n",
    "    ax.set_yticklabels(col[1:])\n",
    "    return fig "
   ]
  },
  {
   "cell_type": "code",
   "execution_count": 70,
   "metadata": {},
   "outputs": [
    {
     "data": {
      "image/png": "[encoded data removed]",
      "text/plain": [
       "<Figure size 1000x800 with 2 Axes>"
      ]
     },
     "execution_count": 70,
     "metadata": {},
     "output_type": "execute_result"
    },
    {
     "data": {
      "image/png": "[encoded data removed]",
      "text/plain": [
       "<Figure size 1000x800 with 2 Axes>"
      ]
     },
     "metadata": {},
     "output_type": "display_data"
    }
   ],
   "source": [
    "plot_confusion_matrix(cm.T,cmap='Oranges',filename='confusion_matrix_narc.pdf')\n"
   ]
  },
  {
   "cell_type": "code",
   "execution_count": 29,
   "metadata": {},
   "outputs": [],
   "source": [
    "df = pd.read_parquet('/vols/cms/hw423/Data/Week14/df_InfA_RD_DPrmvd_proc.parquet')"
   ]
  },
  {
   "cell_type": "code",
   "execution_count": 31,
   "metadata": {},
   "outputs": [
    {
     "data": {
      "text/plain": [
       "0          1.026104e-05\n",
       "1          2.839050e-06\n",
       "2          1.184555e-06\n",
       "3          2.860377e-06\n",
       "4          2.077187e-06\n",
       "               ...     \n",
       "2914418    9.387862e-11\n",
       "2914419    9.846524e-11\n",
       "2914420    8.756236e-11\n",
       "2914421    6.371580e-11\n",
       "2914422    8.610738e-11\n",
       "Name: weight, Length: 2914423, dtype: float32"
      ]
     },
     "execution_count": 31,
     "metadata": {},
     "output_type": "execute_result"
    }
   ],
   "source": [
    "dfw = df['weight']\n",
    "dfw"
   ]
  },
  {
   "cell_type": "code",
   "execution_count": 8,
   "metadata": {},
   "outputs": [
    {
     "data": {
      "text/plain": [
       "proc\n",
       "0    64739.195312\n",
       "1      752.694885\n",
       "2       70.958908\n",
       "3      145.541000\n",
       "4      142.080002\n",
       "5       39.215080\n",
       "6        1.000000\n",
       "Name: weight, dtype: float32"
      ]
     },
     "execution_count": 8,
     "metadata": {},
     "output_type": "execute_result"
    }
   ],
   "source": [
    "df.groupby(['proc'])['weight'].mean()/df.groupby(['proc'])['weight'].mean().min()"
   ]
  },
  {
   "cell_type": "code",
   "execution_count": 4,
   "metadata": {},
   "outputs": [],
   "source": [
    "df = pd.read_parquet('/vols/cms/hw423/Data/Week14/df_InfA_RD_DPrmvd.parquet')\n",
    "y = pd.DataFrame(df.iloc[:,-7:].idxmax(axis=1),columns=['proc'])\n",
    "DF = pd.concat([df.iloc[:,:-7],y])\n",
    "DF.to_parquet('/vols/cms/hw423/Data/Week14/df_InfA_RD_DPrmvd_proc.parquet')\n",
    "# df = pd.read_parquet('/vols/cms/hw423/Week4/datas/sampledf.parquet')\n",
    "# df\n"
   ]
  },
  {
   "cell_type": "code",
   "execution_count": null,
   "metadata": {},
   "outputs": [],
   "source": [
    "y = pd.DataFrame(df.iloc[:,-7:].idxmax(axis=1),columns=['proc'])\n",
    "DF = pd.concat([df.iloc[:,:-7],y])\n",
    "DF.to_parquet('/vols/cms/hw423/Data/Week14/df_InfA_RD_DPrmvd_proc.parquet')"
   ]
  },
  {
   "cell_type": "code",
   "execution_count": 6,
   "metadata": {},
   "outputs": [
    {
     "ename": "",
     "evalue": "",
     "output_type": "error",
     "traceback": [
      "\u001b[1;31mThe Kernel crashed while executing code in the current cell or a previous cell. \n",
      "\u001b[1;31mPlease review the code in the cell(s) to identify a possible cause of the failure. \n",
      "\u001b[1;31mClick <a href='https://aka.ms/vscodeJupyterKernelCrash'>here</a> for more info. \n",
      "\u001b[1;31mView Jupyter <a href='command:jupyter.viewOutput'>log</a> for further details."
     ]
    }
   ],
   "source": []
  },
  {
   "cell_type": "code",
   "execution_count": 3,
   "metadata": {},
   "outputs": [],
   "source": [
    "dfy = pd.read_pickle('/vols/cms/hw423/Data/Week14/label_InfA_RD_DPrmvd.pkl')\n",
    "col = ['$\\gamma\\gamma$','ggH','qqH','WH','ZH','ttH','tH']"
   ]
  },
  {
   "cell_type": "code",
   "execution_count": 5,
   "metadata": {},
   "outputs": [],
   "source": [
    "label = pd.DataFrame([col[yi] for yi in dfy],columns=['label'])"
   ]
  },
  {
   "cell_type": "code",
   "execution_count": 6,
   "metadata": {},
   "outputs": [
    {
     "data": {
      "text/plain": [
       "label         \n",
       "tH                1147151\n",
       "qqH                777865\n",
       "ggH                680134\n",
       "ttH                149657\n",
       "$\\gamma\\gamma$     117350\n",
       "WH                  27709\n",
       "ZH                  14557\n",
       "Name: count, dtype: int64"
      ]
     },
     "execution_count": 6,
     "metadata": {},
     "output_type": "execute_result"
    }
   ],
   "source": [
    "label.value_counts()"
   ]
  },
  {
   "cell_type": "code",
   "execution_count": 21,
   "metadata": {},
   "outputs": [
    {
     "data": {
      "text/html": [
       "<div>\n",
       "<style scoped>\n",
       "    .dataframe tbody tr th:only-of-type {\n",
       "        vertical-align: middle;\n",
       "    }\n",
       "\n",
       "    .dataframe tbody tr th {\n",
       "        vertical-align: top;\n",
       "    }\n",
       "\n",
       "    .dataframe thead th {\n",
       "        text-align: right;\n",
       "    }\n",
       "</style>\n",
       "<table border=\"1\" class=\"dataframe\">\n",
       "  <thead>\n",
       "    <tr style=\"text-align: right;\">\n",
       "      <th></th>\n",
       "      <th>weight</th>\n",
       "      <th>proc</th>\n",
       "    </tr>\n",
       "  </thead>\n",
       "  <tbody>\n",
       "    <tr>\n",
       "      <th>0</th>\n",
       "      <td>1.026104e-05</td>\n",
       "      <td>0</td>\n",
       "    </tr>\n",
       "    <tr>\n",
       "      <th>1</th>\n",
       "      <td>2.839050e-06</td>\n",
       "      <td>0</td>\n",
       "    </tr>\n",
       "    <tr>\n",
       "      <th>2</th>\n",
       "      <td>1.184555e-06</td>\n",
       "      <td>0</td>\n",
       "    </tr>\n",
       "    <tr>\n",
       "      <th>3</th>\n",
       "      <td>2.860377e-06</td>\n",
       "      <td>0</td>\n",
       "    </tr>\n",
       "    <tr>\n",
       "      <th>4</th>\n",
       "      <td>2.077187e-06</td>\n",
       "      <td>0</td>\n",
       "    </tr>\n",
       "    <tr>\n",
       "      <th>...</th>\n",
       "      <td>...</td>\n",
       "      <td>...</td>\n",
       "    </tr>\n",
       "    <tr>\n",
       "      <th>2914418</th>\n",
       "      <td>9.387862e-11</td>\n",
       "      <td>6</td>\n",
       "    </tr>\n",
       "    <tr>\n",
       "      <th>2914419</th>\n",
       "      <td>9.846524e-11</td>\n",
       "      <td>6</td>\n",
       "    </tr>\n",
       "    <tr>\n",
       "      <th>2914420</th>\n",
       "      <td>8.756236e-11</td>\n",
       "      <td>6</td>\n",
       "    </tr>\n",
       "    <tr>\n",
       "      <th>2914421</th>\n",
       "      <td>6.371580e-11</td>\n",
       "      <td>6</td>\n",
       "    </tr>\n",
       "    <tr>\n",
       "      <th>2914422</th>\n",
       "      <td>8.610738e-11</td>\n",
       "      <td>6</td>\n",
       "    </tr>\n",
       "  </tbody>\n",
       "</table>\n",
       "<p>2914423 rows × 2 columns</p>\n",
       "</div>"
      ],
      "text/plain": [
       "               weight proc\n",
       "0        1.026104e-05    0\n",
       "1        2.839050e-06    0\n",
       "2        1.184555e-06    0\n",
       "3        2.860377e-06    0\n",
       "4        2.077187e-06    0\n",
       "...               ...  ...\n",
       "2914418  9.387862e-11    6\n",
       "2914419  9.846524e-11    6\n",
       "2914420  8.756236e-11    6\n",
       "2914421  6.371580e-11    6\n",
       "2914422  8.610738e-11    6\n",
       "\n",
       "[2914423 rows x 2 columns]"
      ]
     },
     "execution_count": 21,
     "metadata": {},
     "output_type": "execute_result"
    }
   ],
   "source": [
    "wy = pd.concat([df['weight'],y],axis=1)\n",
    "wy"
   ]
  },
  {
   "cell_type": "code",
   "execution_count": 22,
   "metadata": {},
   "outputs": [
    {
     "data": {
      "text/plain": [
       "proc\n",
       "0    0.542183\n",
       "1    0.036535\n",
       "2    0.003939\n",
       "3    0.000288\n",
       "4    0.000148\n",
       "5    0.000419\n",
       "6    0.000082\n",
       "Name: weight, dtype: float32"
      ]
     },
     "execution_count": 22,
     "metadata": {},
     "output_type": "execute_result"
    }
   ],
   "source": [
    "wy.groupby('proc')['weight'].sum()"
   ]
  },
  {
   "cell_type": "code",
   "execution_count": 2,
   "metadata": {},
   "outputs": [
    {
     "ename": "NameError",
     "evalue": "name 'dfy' is not defined",
     "output_type": "error",
     "traceback": [
      "\u001b[0;31m---------------------------------------------------------------------------\u001b[0m",
      "\u001b[0;31mNameError\u001b[0m                                 Traceback (most recent call last)",
      "Cell \u001b[0;32mIn[2], line 1\u001b[0m\n\u001b[0;32m----> 1\u001b[0m y \u001b[38;5;241m=\u001b[39m pd\u001b[38;5;241m.\u001b[39mDataFrame([col[l] \u001b[38;5;28;01mfor\u001b[39;00m l \u001b[38;5;129;01min\u001b[39;00m \u001b[43mdfy\u001b[49m])\n\u001b[1;32m      2\u001b[0m mask \u001b[38;5;241m=\u001b[39m dfy \u001b[38;5;241m!=\u001b[39m\u001b[38;5;241m0\u001b[39m\n",
      "\u001b[0;31mNameError\u001b[0m: name 'dfy' is not defined"
     ]
    }
   ],
   "source": [
    "y = pd.DataFrame([col[l] for l in dfy])\n",
    "mask = dfy !=0"
   ]
  },
  {
   "cell_type": "code",
   "execution_count": 6,
   "metadata": {},
   "outputs": [],
   "source": [
    "dfw = df['weight']"
   ]
  },
  {
   "cell_type": "code",
   "execution_count": 16,
   "metadata": {},
   "outputs": [],
   "source": [
    "oc = np.load(f'/vols/cms/hw423/Data/Week14/octest_InfA_RD_DPrmvd.npy')\n",
    "OC = pd.DataFrame(oc,columns=col)\n",
    "dfw = df['weight']\n",
    "y_pred = OC.idxmax(axis=1)"
   ]
  },
  {
   "cell_type": "code",
   "execution_count": 18,
   "metadata": {},
   "outputs": [
    {
     "data": {
      "text/plain": [
       "117350     qqH\n",
       "117351     ggH\n",
       "117352     ggH\n",
       "117353     ggH\n",
       "117354     ggH\n",
       "          ... \n",
       "2914418    ttH\n",
       "2914419    ttH\n",
       "2914420    ggH\n",
       "2914421     WH\n",
       "2914422    qqH\n",
       "Length: 2797073, dtype: object"
      ]
     },
     "execution_count": 18,
     "metadata": {},
     "output_type": "execute_result"
    }
   ],
   "source": [
    "y_pred[mask.values]"
   ]
  },
  {
   "cell_type": "code",
   "execution_count": 66,
   "metadata": {},
   "outputs": [
    {
     "name": "stderr",
     "output_type": "stream",
     "text": [
      "/vols/cms/hw423/env/envs/env/lib/python3.11/site-packages/sklearn/utils/validation.py:767: FutureWarning: is_sparse is deprecated and will be removed in a future version. Check `isinstance(dtype, pd.SparseDtype)` instead.\n",
      "  if not hasattr(array, \"sparse\") and array.dtypes.apply(is_sparse).any():\n",
      "/vols/cms/hw423/env/envs/env/lib/python3.11/site-packages/sklearn/utils/validation.py:605: FutureWarning: is_sparse is deprecated and will be removed in a future version. Check `isinstance(dtype, pd.SparseDtype)` instead.\n",
      "  if is_sparse(pd_dtype):\n",
      "/vols/cms/hw423/env/envs/env/lib/python3.11/site-packages/sklearn/utils/validation.py:614: FutureWarning: is_sparse is deprecated and will be removed in a future version. Check `isinstance(dtype, pd.SparseDtype)` instead.\n",
      "  if is_sparse(pd_dtype) or not is_extension_array_dtype(pd_dtype):\n",
      "/vols/cms/hw423/env/envs/env/lib/python3.11/site-packages/sklearn/utils/validation.py:767: FutureWarning: is_sparse is deprecated and will be removed in a future version. Check `isinstance(dtype, pd.SparseDtype)` instead.\n",
      "  if not hasattr(array, \"sparse\") and array.dtypes.apply(is_sparse).any():\n",
      "/vols/cms/hw423/env/envs/env/lib/python3.11/site-packages/sklearn/utils/validation.py:605: FutureWarning: is_sparse is deprecated and will be removed in a future version. Check `isinstance(dtype, pd.SparseDtype)` instead.\n",
      "  if is_sparse(pd_dtype):\n",
      "/vols/cms/hw423/env/envs/env/lib/python3.11/site-packages/sklearn/utils/validation.py:614: FutureWarning: is_sparse is deprecated and will be removed in a future version. Check `isinstance(dtype, pd.SparseDtype)` instead.\n",
      "  if is_sparse(pd_dtype) or not is_extension_array_dtype(pd_dtype):\n",
      "/vols/cms/hw423/env/envs/env/lib/python3.11/site-packages/sklearn/utils/validation.py:605: FutureWarning: is_sparse is deprecated and will be removed in a future version. Check `isinstance(dtype, pd.SparseDtype)` instead.\n",
      "  if is_sparse(pd_dtype):\n",
      "/vols/cms/hw423/env/envs/env/lib/python3.11/site-packages/sklearn/utils/validation.py:614: FutureWarning: is_sparse is deprecated and will be removed in a future version. Check `isinstance(dtype, pd.SparseDtype)` instead.\n",
      "  if is_sparse(pd_dtype) or not is_extension_array_dtype(pd_dtype):\n",
      "/vols/cms/hw423/env/envs/env/lib/python3.11/site-packages/sklearn/utils/validation.py:605: FutureWarning: is_sparse is deprecated and will be removed in a future version. Check `isinstance(dtype, pd.SparseDtype)` instead.\n",
      "  if is_sparse(pd_dtype):\n",
      "/vols/cms/hw423/env/envs/env/lib/python3.11/site-packages/sklearn/utils/validation.py:614: FutureWarning: is_sparse is deprecated and will be removed in a future version. Check `isinstance(dtype, pd.SparseDtype)` instead.\n",
      "  if is_sparse(pd_dtype) or not is_extension_array_dtype(pd_dtype):\n",
      "/vols/cms/hw423/env/envs/env/lib/python3.11/site-packages/sklearn/utils/validation.py:767: FutureWarning: is_sparse is deprecated and will be removed in a future version. Check `isinstance(dtype, pd.SparseDtype)` instead.\n",
      "  if not hasattr(array, \"sparse\") and array.dtypes.apply(is_sparse).any():\n",
      "/vols/cms/hw423/env/envs/env/lib/python3.11/site-packages/sklearn/utils/validation.py:605: FutureWarning: is_sparse is deprecated and will be removed in a future version. Check `isinstance(dtype, pd.SparseDtype)` instead.\n",
      "  if is_sparse(pd_dtype):\n",
      "/vols/cms/hw423/env/envs/env/lib/python3.11/site-packages/sklearn/utils/validation.py:614: FutureWarning: is_sparse is deprecated and will be removed in a future version. Check `isinstance(dtype, pd.SparseDtype)` instead.\n",
      "  if is_sparse(pd_dtype) or not is_extension_array_dtype(pd_dtype):\n",
      "/vols/cms/hw423/env/envs/env/lib/python3.11/site-packages/sklearn/utils/validation.py:605: FutureWarning: is_sparse is deprecated and will be removed in a future version. Check `isinstance(dtype, pd.SparseDtype)` instead.\n",
      "  if is_sparse(pd_dtype):\n",
      "/vols/cms/hw423/env/envs/env/lib/python3.11/site-packages/sklearn/utils/validation.py:614: FutureWarning: is_sparse is deprecated and will be removed in a future version. Check `isinstance(dtype, pd.SparseDtype)` instead.\n",
      "  if is_sparse(pd_dtype) or not is_extension_array_dtype(pd_dtype):\n"
     ]
    }
   ],
   "source": [
    "from sklearn.metrics import confusion_matrix\n",
    "cm2 = confusion_matrix(y[mask.values],y_pred[mask.values],sample_weight=dfw[mask.values])"
   ]
  },
  {
   "cell_type": "code",
   "execution_count": 70,
   "metadata": {},
   "outputs": [
    {
     "data": {
      "text/plain": [
       "[Text(0, 0.5, 'ggH'),\n",
       " Text(0, 1.5, 'qqH'),\n",
       " Text(0, 2.5, 'WH'),\n",
       " Text(0, 3.5, 'ZH'),\n",
       " Text(0, 4.5, 'ttH'),\n",
       " Text(0, 5.5, 'tH')]"
      ]
     },
     "execution_count": 70,
     "metadata": {},
     "output_type": "execute_result"
    },
    {
     "data": {
      "image/png": "[encoded data removed]",
      "text/plain": [
       "<Figure size 1000x800 with 2 Axes>"
      ]
     },
     "metadata": {},
     "output_type": "display_data"
    }
   ],
   "source": [
    "import seaborn as sns\n",
    "cm = cm2.astype('float') / cm2.sum(axis=0)[np.newaxis,:]\n",
    "cmap = 'Greens'\n",
    "fig, ax = plt.subplots(figsize=(10,8))\n",
    "ax = sns.heatmap(cm, annot=True, fmt='.2f', cmap=cmap)  # Using '.2f' for floating point format\n",
    "ax.set_xlabel('Predicted')\n",
    "ax.set_ylabel('True')\n",
    "ax.set_xticklabels(col[1:])\n",
    "ax.set_yticklabels(col[1:])\n",
    "# fig.savefig(filename, bbox_inches='tight')  "
   ]
  },
  {
   "cell_type": "code",
   "execution_count": 65,
   "metadata": {},
   "outputs": [
    {
     "data": {
      "text/plain": [
       "<Axes: >"
      ]
     },
     "execution_count": 65,
     "metadata": {},
     "output_type": "execute_result"
    },
    {
     "data": {
      "image/png": "[encoded data removed]",
      "text/plain": [
       "<Figure size 640x480 with 1 Axes>"
      ]
     },
     "metadata": {},
     "output_type": "display_data"
    }
   ],
   "source": [
    "# dfw[(dfy == 1).values].hist(bins=200)\n",
    "# dfw[(dfy == 2).values].hist(bins=200)\n",
    "bin = np.linspace(0,2e-8,100)\n",
    "dfw[(dfy == 3).values].hist(bins=bin,density=True)\n",
    "dfw[(dfy == 4).values].hist(bins=bin,density=True)\n",
    "dfw[(dfy == 5).values].hist(bins=bin,density=True)\n",
    "dfw[(dfy == 6).values].hist(bins=bin,color = 'red',density=True)\n"
   ]
  }
 ],
 "metadata": {
  "kernelspec": {
   "display_name": "Python 3",
   "language": "python",
   "name": "python3"
  },
  "language_info": {
   "codemirror_mode": {
    "name": "ipython",
    "version": 3
   },
   "file_extension": ".py",
   "mimetype": "text/x-python",
   "name": "python",
   "nbconvert_exporter": "python",
   "pygments_lexer": "ipython3",
   "version": "3.11.5"
  }
 },
 "nbformat": 4,
 "nbformat_minor": 2
}
