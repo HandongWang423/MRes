{
 "cells": [
  {
   "cell_type": "code",
   "execution_count": 1,
   "metadata": {},
   "outputs": [],
   "source": [
    "import pandas as pd\n",
    "import numpy as np\n",
    "import torch\n",
    "import torch.nn as nn\n",
    "import torch.nn.functional as F\n",
    "from sklearn.model_selection import train_test_split"
   ]
  },
  {
   "cell_type": "code",
   "execution_count": 2,
   "metadata": {},
   "outputs": [],
   "source": [
    "def hess_to_tensor(H):\n",
    "    hess_elements = []\n",
    "    for i in range(len(H)):\n",
    "        for j in range(len(H)):\n",
    "            hess_elements.append(H[i][j].reshape(1))\n",
    "    return torch.cat(hess_elements).reshape(len(H),len(H))"
   ]
  },
  {
   "cell_type": "code",
   "execution_count": 3,
   "metadata": {},
   "outputs": [],
   "source": [
    "class Net(nn.Module):\n",
    "    def __init__(self, n_features=7, nodes=[7,7], output_nodes=7,temp=0.0001):\n",
    "        super(Net, self).__init__()\n",
    "        self.temperature = temp\n",
    "        # Build network\n",
    "        n_nodes = [n_features] + nodes + [output_nodes]\n",
    "        self.layers = nn.ModuleList()\n",
    "        for i in range(len(n_nodes) - 1):\n",
    "            linear_layer = nn.Linear(n_nodes[i], n_nodes[i+1])\n",
    "\n",
    "            with torch.no_grad():\n",
    "                linear_layer.weight.copy_(torch.eye(n_nodes[i+1], n_nodes[i]))\n",
    "            with torch.no_grad():\n",
    "                linear_layer.bias.zero_()\n",
    "            self.layers.append(linear_layer)\n",
    "            \n",
    "            self.layers.append(nn.ReLU())\n",
    "        \n",
    "        \n",
    "    # def _init_weights(self, module):\n",
    "    #     if isinstance(module, nn.Linear):\n",
    "    #         module.weight.data.copy_(torch.eye(7))\n",
    "    #         if module.bias is not None:\n",
    "    #             module.bias.data.zero_()\n",
    "    #     print('INITIALED')\n",
    "\n",
    "\n",
    "    def forward(self, x):\n",
    "        out = self.layers[0](x)\n",
    "        for layer in self.layers[1:]:\n",
    "            out = layer(out)\n",
    "        return out\n",
    "        # out = out / self.temperature\n",
    "        # return torch.softmax(out, dim=1)\n",
    "        \n",
    "    def set_temperature(self, temp):\n",
    "        self.temperature = temp\n"
   ]
  },
  {
   "cell_type": "code",
   "execution_count": 4,
   "metadata": {},
   "outputs": [],
   "source": [
    "filecode = 'InfA_RD_DPrmvd'\n",
    "oc = np.load(f'/vols/cms/hw423/Data/Week14/octest_{filecode}.npy')\n",
    "Lb = pd.read_pickle('/vols/cms/hw423/Data/Week14/Label.pkl')\n",
    "dfy = pd.get_dummies(Lb)\n",
    "dfw = pd.read_pickle('/vols/cms/hw423/Data/Week14/weight.pkl')\n",
    "true = torch.tensor(np.array(dfy).astype(int))\n",
    "labels = torch.tensor(np.array(Lb))\n",
    "OC = torch.tensor(oc)\n",
    "weight = torch.tensor(np.array(dfw))"
   ]
  },
  {
   "cell_type": "code",
   "execution_count": 5,
   "metadata": {},
   "outputs": [],
   "source": [
    "labels = torch.tensor(np.array(Lb))\n",
    "OC = torch.tensor(oc)\n",
    "weight = torch.tensor(np.array(dfw))"
   ]
  },
  {
   "cell_type": "code",
   "execution_count": 6,
   "metadata": {},
   "outputs": [],
   "source": [
    "model = Net()"
   ]
  },
  {
   "cell_type": "code",
   "execution_count": 7,
   "metadata": {},
   "outputs": [
    {
     "data": {
      "text/plain": [
       "tensor([[8.7100e-05, 7.8175e-01, 1.2887e-04,  ..., 1.9565e-01, 8.7100e-05,\n",
       "         8.7100e-05],\n",
       "        [1.1084e-02, 1.1598e-01, 2.5034e-01,  ..., 6.3189e-02, 3.5022e-01,\n",
       "         1.9810e-01],\n",
       "        [5.3004e-03, 3.0203e-01, 4.8681e-01,  ..., 1.6075e-01, 5.3004e-03,\n",
       "         5.7316e-03],\n",
       "        ...,\n",
       "        [2.9180e-03, 4.4153e-01, 3.2937e-01,  ..., 1.9386e-01, 2.9180e-03,\n",
       "         4.1305e-03],\n",
       "        [3.6110e-05, 3.0695e-04, 3.6110e-05,  ..., 2.4619e-02, 3.9593e-05,\n",
       "         1.0144e-04],\n",
       "        [2.4696e-03, 1.0350e-01, 7.7559e-01,  ..., 9.2150e-02, 2.4696e-03,\n",
       "         3.4909e-03]], grad_fn=<ReluBackward0>)"
      ]
     },
     "execution_count": 7,
     "metadata": {},
     "output_type": "execute_result"
    }
   ],
   "source": [
    "model(OC)"
   ]
  },
  {
   "cell_type": "code",
   "execution_count": 644,
   "metadata": {},
   "outputs": [],
   "source": [
    "def test(x,n1,n2,label,model,weight):\n",
    "    y = torch.argmax(model(x[label==1]),axis=1)\n",
    "    # y = torch.argmax(x,axis=1)[label==1]\n",
    "    n1=torch.tensor(n1,requires_grad=True)\n",
    "    n2=torch.tensor(n2,requires_grad=True)\n",
    "    print(y)\n",
    "    def NLL(n1,n2,y):\n",
    "        n0 = torch.tensor(1.0).view(-1)\n",
    "        # N = torch.cat([n0,n])\n",
    "        return n1**2*n2*n0*torch.sum(y**2)\n",
    "    \n",
    "    hess = torch.func.hessian(NLL,(0,1))(n1,n2,y)\n",
    "    return torch.trace(hess_to_tensor(hess))"
   ]
  },
  {
   "cell_type": "code",
   "execution_count": 663,
   "metadata": {},
   "outputs": [],
   "source": [
    "def test(x,n,label,model,weight):\n",
    "    # y = torch.argmax(model(x[label==1]),axis=1)\n",
    "    n0 = torch.tensor(1.0).view(-1)\n",
    "    N = torch.cat([n0,n.view(-1)])\n",
    "    print(N)\n",
    "    def NLL(x,n,label,model,weight):\n",
    "        outcome = model(x)\n",
    "        weight = weight*13800\n",
    "        pred = torch.argmax(outcome,dim=1)\n",
    "        cm = torch.ones(7,7)\n",
    "        # up = pred.unique()\n",
    "        # ul = label.unique()\n",
    "        # for p in up:\n",
    "        #     for l in ul:\n",
    "        #         cm[p,l] = torch.sum(weight[pred==p][label[pred==p]==l])\n",
    "        cm =cm[1:, :]\n",
    "        return (cm.sum(dim=0)*torch.sum(n**2)).sum()*outcome()\n",
    "    hess = torch.func.hessian(NLL,(1))(x,N,label,model,weight)\n",
    "    return torch.trace(hess_to_tensor(hess))"
   ]
  },
  {
   "cell_type": "code",
   "execution_count": 664,
   "metadata": {},
   "outputs": [
    {
     "name": "stdout",
     "output_type": "stream",
     "text": [
      "tensor([1., 1.])\n"
     ]
    },
    {
     "ename": "",
     "evalue": "",
     "output_type": "error",
     "traceback": [
      "\u001b[1;31mThe Kernel crashed while executing code in the current cell or a previous cell. \n",
      "\u001b[1;31mPlease review the code in the cell(s) to identify a possible cause of the failure. \n",
      "\u001b[1;31mClick <a href='https://aka.ms/vscodeJupyterKernelCrash'>here</a> for more info. \n",
      "\u001b[1;31mView Jupyter <a href='command:jupyter.viewOutput'>log</a> for further details."
     ]
    }
   ],
   "source": [
    "model = Net()\n",
    "# n = torch.tensor([1.0,1.0,1.0,1.0,1.0,1.0],requires_grad=True)\n",
    "n1 = torch.tensor([1.0])\n",
    "n2 = torch.tensor([1.0])\n",
    "model.train()\n",
    "optimiser = torch.optim.Adam(model.parameters(), lr=0.001)\n",
    "optimiser.zero_grad()\n",
    "test_y = test(OC,n1,labels,model,weight)\n",
    "test_y.backward()\n",
    "test_y"
   ]
  },
  {
   "cell_type": "code",
   "execution_count": 648,
   "metadata": {},
   "outputs": [
    {
     "name": "stdout",
     "output_type": "stream",
     "text": [
      "None\n",
      "梯度 layers.0.weight: None\n",
      "梯度 layers.0.bias: None\n",
      "梯度 layers.2.weight: None\n",
      "梯度 layers.2.bias: None\n",
      "梯度 layers.4.weight: None\n",
      "梯度 layers.4.bias: None\n"
     ]
    }
   ],
   "source": [
    "print(n2.grad)\n",
    "for name, param in model.named_parameters():\n",
    "    print(f\"梯度 {name}: {param.grad}\")"
   ]
  },
  {
   "cell_type": "code",
   "execution_count": 162,
   "metadata": {},
   "outputs": [
    {
     "data": {
      "text/plain": [
       "tensor([1., 1.], grad_fn=<CatBackward0>)"
      ]
     },
     "execution_count": 162,
     "metadata": {},
     "output_type": "execute_result"
    }
   ],
   "source": [
    "torch.cat([input[0].view(-1),input[1].view(-1)],dim=0)"
   ]
  },
  {
   "cell_type": "code",
   "execution_count": 283,
   "metadata": {},
   "outputs": [],
   "source": [
    "def test(x,n,label):\n",
    "    # y = torch.argmax(model(x[label==1]),axis=1)\n",
    "    y = torch.argmax(x,axis=1)[label==1]\n",
    "    \n",
    "    print(y)\n",
    "    def NLL(nn,y):\n",
    "        n = nn.view(-1)\n",
    "        n0 = torch.tensor(1.0).view(-1)\n",
    "        N = torch.cat([n0,n])\n",
    "        return N[1]**2*N[2]*N[0]*torch.sum(y**2)\n",
    "    hess = torch.func.hessian(NLL,(0))(n,y)\n",
    "    print(hess)\n",
    "    return torch.trace(hess_to_tensor(hess))"
   ]
  },
  {
   "cell_type": "code",
   "execution_count": 41,
   "metadata": {},
   "outputs": [],
   "source": [
    "def smooth_argmax(tensor, dim=-1, temperature=1.0):\n",
    "    softmax_tensor =F.softmax(tensor / temperature, dim=dim)\n",
    "    return softmax_tensor\n",
    "def confusion_matrix(OC,label,weight,model):\n",
    "    label_w = weight.unsqueeze(1)*label\n",
    "    pred_matrix = smooth_argmax(model(OC),temperature=.01,dim=1)\n",
    "    confusion_matrix = torch.matmul(pred_matrix.t(),label_w)[:,1:]\n",
    "    return confusion_matrix.t()\n",
    "\n",
    "def NLL(mu1,mu2,mu3,mu4,mu5,mu6,input,target,model,weight):\n",
    "    cm = confusion_matrix(input,target,weight,model)\n",
    "    O = torch.sum(cm,dim=1)\n",
    "    mu1 = mu1.view(-1)\n",
    "    mu2 = mu2.view(-1)\n",
    "    mu3 = mu3.view(-1)\n",
    "    mu4 = mu4.view(-1)\n",
    "    mu5 = mu5.view(-1)\n",
    "    mu6 = mu6.view(-1)\n",
    "    mu0 =torch.tensor([1.0]).view(-1)\n",
    "    theta = torch.cat([mu0,mu1,mu2,mu3,mu4,mu5,mu6])\n",
    "    return -(O@(torch.log(cm@theta))-torch.sum((cm@theta)))\n",
    "\n",
    "def InfAwareLoss(input,target,weight,model,mu_init):\n",
    "\n",
    "    mu1 = torch.tensor(mu_init['mu1'], requires_grad=True)\n",
    "    mu2 = torch.tensor(mu_init['mu2'], requires_grad=True)\n",
    "    mu3 = torch.tensor(mu_init['mu3'], requires_grad=True)\n",
    "    mu4 = torch.tensor(mu_init['mu4'], requires_grad=True)\n",
    "    mu5 = torch.tensor(mu_init['mu5'], requires_grad=True)\n",
    "    mu6 = torch.tensor(mu_init['mu6'], requires_grad=True)\n",
    "\n",
    "    hess = torch.func.hessian(NLL,(0,1,2,3,4,5))(mu1,mu2,mu3,mu4,mu5,mu6,input,target,model,weight)\n",
    "    H = hess_to_tensor(hess)\n",
    "    I = -torch.inverse(H)\n",
    "    loss = torch.trace(I**0.5)\n",
    "    \n",
    "    return loss\n"
   ]
  },
  {
   "cell_type": "code",
   "execution_count": 32,
   "metadata": {},
   "outputs": [],
   "source": [
    "def NLL(mu1,mu2,mu3,mu4,mu5,mu6,input,target,model,weight):\n",
    "    outcome = model(input)\n",
    "    # input = torch.tensor(input).view(-1)\n",
    "    # label =label.view(-1)\n",
    "  \n",
    "    label = torch.argmax(target,dim=1)\n",
    "    pred = torch.argmax(outcome,dim=1)\n",
    "    cm = torch.zeros(7,7)\n",
    "    up = pred.unique()\n",
    "    ul = label.unique()\n",
    "    for p in up:\n",
    "        for l in ul:\n",
    "            cm[p,l] = torch.sum(weight[pred==p][label[pred==p]==l]*138000)\n",
    "    cm =cm[1:, :]\n",
    "    O = torch.sum(cm,dim=1)\n",
    "    mu1 = mu1.view(-1)\n",
    "    mu2 = mu2.view(-1)\n",
    "    mu3 = mu3.view(-1)\n",
    "    mu4 = mu4.view(-1)\n",
    "    mu5 = mu5.view(-1)\n",
    "    mu6 = mu6.view(-1)\n",
    "    mu0 =torch.tensor([1.0]).view(-1)\n",
    "    theta = torch.cat([mu0,mu1,mu2,mu3,mu4,mu5,mu6])\n",
    "    return -(O@(torch.log(cm@theta))-torch.sum((cm@theta)))\n",
    "\n",
    "def InfAwareLoss(input,target,weight,model,mu_init):\n",
    "\n",
    "    mu1 = torch.tensor(mu_init['mu1'], requires_grad=True)\n",
    "    mu2 = torch.tensor(mu_init['mu2'], requires_grad=True)\n",
    "    mu3 = torch.tensor(mu_init['mu3'], requires_grad=True)\n",
    "    mu4 = torch.tensor(mu_init['mu4'], requires_grad=True)\n",
    "    mu5 = torch.tensor(mu_init['mu5'], requires_grad=True)\n",
    "    mu6 = torch.tensor(mu_init['mu6'], requires_grad=True)\n",
    "    \n",
    "\n",
    "    hess = torch.func.hessian(NLL,(0,1,2,3,4,5))(mu1,mu2,mu3,mu4,mu5,mu6,input,target,model,weight)\n",
    "    H = hess_to_tensor(hess)\n",
    "    I = torch.inverse(H)\n",
    "    loss = torch.trace(I)\n",
    "    \n",
    "    return loss\n"
   ]
  },
  {
   "cell_type": "code",
   "execution_count": 47,
   "metadata": {},
   "outputs": [],
   "source": [
    "label = torch.tensor(np.array(dfy),dtype = torch.float32)\n",
    "def confusion_matrix(OC,label,weight,model):\n",
    "    label_w = 138000*weight.unsqueeze(1)*label\n",
    "    pred_matrix = smooth_argmax(model(OC),temperature=.01,dim=1)\n",
    "    # pred_matrix_w = weight.unsqueeze(1)*pred_matrix\n",
    "    confusion_matrix = torch.matmul(pred_matrix.t(),label_w)[1:,:]\n",
    "    return confusion_matrix\n"
   ]
  },
  {
   "cell_type": "code",
   "execution_count": 48,
   "metadata": {},
   "outputs": [],
   "source": [
    "def NLL(theta,label,weight,model):\n",
    "    cm = confusion_matrix(OC,label,weight,model)\n",
    "    O = torch.sum(cm,dim=1)\n",
    "    return -(O@(torch.log(cm@theta))-torch.sum((cm@theta)))"
   ]
  },
  {
   "cell_type": "code",
   "execution_count": 49,
   "metadata": {},
   "outputs": [
    {
     "ename": "",
     "evalue": "",
     "output_type": "error",
     "traceback": [
      "\u001b[1;31mThe Kernel crashed while executing code in the current cell or a previous cell. \n",
      "\u001b[1;31mPlease review the code in the cell(s) to identify a possible cause of the failure. \n",
      "\u001b[1;31mClick <a href='https://aka.ms/vscodeJupyterKernelCrash'>here</a> for more info. \n",
      "\u001b[1;31mView Jupyter <a href='command:jupyter.viewOutput'>log</a> for further details."
     ]
    }
   ],
   "source": [
    "model = Net()\n",
    "theta = torch.ones(7)\n",
    "hess = torch.func.hessian(NLL,0)(theta,label,weight,model)\n",
    "H = hess_to_tensor(hess)\n",
    "I = torch.inverse(H)\n",
    "torch.trace(I)"
   ]
  },
  {
   "cell_type": "code",
   "execution_count": 63,
   "metadata": {},
   "outputs": [],
   "source": [
    "# label = torch.argmax(labels,dim=1)\n",
    "pred = torch.argmax(OC,dim=1)\n",
    "cm = torch.zeros(7,7)\n",
    "up = pred.unique()\n",
    "ul = labels.unique()\n",
    "for p in up:\n",
    "    for l in ul:\n",
    "        cm[p,l] = torch.sum(weight[pred==p][labels[pred==p]==l]*138000)\n",
    "# cm =cm[1:, :]\n",
    "# O = torch.sum(cm,dim=1)\n",
    "# theta = torch.ones(7)\n",
    "# -(O@(torch.log(cm@theta))-torch.sum((cm@theta)))\n"
   ]
  },
  {
   "cell_type": "code",
   "execution_count": 72,
   "metadata": {},
   "outputs": [
    {
     "data": {
      "text/plain": [
       "tensor([[5.2990e+04, 3.7661e+03, 1.5567e+02, 7.0351e+00, 6.1755e+00, 9.1034e-02,\n",
       "         2.0884e-01],\n",
       "        [9.1670e+03, 6.4205e+02, 2.6407e+02, 1.8908e+00, 1.2122e+00, 4.0618e-01,\n",
       "         9.7135e-01],\n",
       "        [1.4701e+03, 4.9133e+01, 1.4440e+01, 2.1173e+01, 2.2345e+00, 1.9410e+00,\n",
       "         8.9976e-01],\n",
       "        [4.5219e+03, 2.6751e+02, 3.6474e+01, 6.1455e+00, 9.1902e+00, 8.4212e-01,\n",
       "         3.6518e-01],\n",
       "        [3.6574e+03, 9.2775e+01, 2.1335e+01, 1.8868e+00, 8.6143e-01, 4.5226e+01,\n",
       "         4.2431e+00],\n",
       "        [3.0145e+03, 2.2421e+02, 5.1616e+01, 1.5866e+00, 6.9564e-01, 9.2929e+00,\n",
       "         4.6096e+00]])"
      ]
     },
     "execution_count": 72,
     "metadata": {},
     "output_type": "execute_result"
    }
   ],
   "source": [
    "cm[1:,:]"
   ]
  },
  {
   "cell_type": "code",
   "execution_count": 132,
   "metadata": {},
   "outputs": [],
   "source": [
    "cm_w = pd.DataFrame(confusion_matrix.t().detach().numpy())\n",
    "CM = []\n",
    "for i in range(6):\n",
    "    cl = cm_w.iloc[:,i]/cm_w.iloc[:,i].sum()\n",
    "    CM.append(cl)\n",
    "cm = pd.DataFrame(CM).T\n"
   ]
  },
  {
   "cell_type": "code",
   "execution_count": 133,
   "metadata": {},
   "outputs": [],
   "source": [
    "col = ['$\\gamma\\gamma$','ggH','qqH','WH','ZH','ttH','tH']\n",
    "import seaborn as sns\n",
    "import matplotlib.pyplot as plt\n",
    "def plot_confusion_matrix(cm, title='Confusion Matrix', cmap=plt.cm.Blues, filename='/vols/cms/hw423/Week14/plots/confusion_matrix_test.pdf'):\n",
    "    fig, ax = plt.subplots(figsize=(10,8))\n",
    "    ax = sns.heatmap(cm, annot=True, fmt='.2f', cmap=cmap)  # Using '.2f' for floating point format\n",
    "    ax.set_xlabel('Predicted')\n",
    "    ax.set_ylabel('True')\n",
    "    ax.set_title(title)\n",
    "    ax.set_xticklabels(col[1:])\n",
    "    ax.set_yticklabels(col[1:])\n",
    "    fig.savefig(filename, bbox_inches='tight')  "
   ]
  },
  {
   "cell_type": "code",
   "execution_count": 135,
   "metadata": {},
   "outputs": [
    {
     "data": {
      "image/png": "[encoded data removed]",
      "text/plain": [
       "<Figure size 1000x800 with 2 Axes>"
      ]
     },
     "metadata": {},
     "output_type": "display_data"
    }
   ],
   "source": [
    "\n",
    "import mplhep as hep\n",
    "hep.style.use(\"CMS\")\n",
    "plot_confusion_matrix(cm, cmap=plt.cm.Oranges,)"
   ]
  },
  {
   "cell_type": "code",
   "execution_count": 5,
   "metadata": {},
   "outputs": [],
   "source": [
    "# filecode = 'InfA_RD_DPrmvd'\n",
    "# oc = np.load(f'/vols/cms/hw423/Data/Week14/octest_{filecode}.npy')\n",
    "# label = pd.read_pickle('/vols/cms/hw423/Data/Week14/Label.pkl')\n",
    "# dfy = pd.get_dummies(label)\n",
    "# dfw = pd.read_pickle('/vols/cms/hw423/Data/Week14/weight.pkl')\n",
    "# true = torch.tensor(np.array(dfy).astype(int))"
   ]
  },
  {
   "cell_type": "code",
   "execution_count": 40,
   "metadata": {},
   "outputs": [
    {
     "name": "stderr",
     "output_type": "stream",
     "text": [
      "/tmp/ipykernel_781567/3867228192.py:25: UserWarning: To copy construct from a tensor, it is recommended to use sourceTensor.clone().detach() or sourceTensor.clone().detach().requires_grad_(True), rather than torch.tensor(sourceTensor).\n",
      "  mu1 = torch.tensor(mu_init['mu1'], requires_grad=True)\n",
      "/tmp/ipykernel_781567/3867228192.py:26: UserWarning: To copy construct from a tensor, it is recommended to use sourceTensor.clone().detach() or sourceTensor.clone().detach().requires_grad_(True), rather than torch.tensor(sourceTensor).\n",
      "  mu2 = torch.tensor(mu_init['mu2'], requires_grad=True)\n",
      "/tmp/ipykernel_781567/3867228192.py:27: UserWarning: To copy construct from a tensor, it is recommended to use sourceTensor.clone().detach() or sourceTensor.clone().detach().requires_grad_(True), rather than torch.tensor(sourceTensor).\n",
      "  mu3 = torch.tensor(mu_init['mu3'], requires_grad=True)\n",
      "/tmp/ipykernel_781567/3867228192.py:28: UserWarning: To copy construct from a tensor, it is recommended to use sourceTensor.clone().detach() or sourceTensor.clone().detach().requires_grad_(True), rather than torch.tensor(sourceTensor).\n",
      "  mu4 = torch.tensor(mu_init['mu4'], requires_grad=True)\n",
      "/tmp/ipykernel_781567/3867228192.py:29: UserWarning: To copy construct from a tensor, it is recommended to use sourceTensor.clone().detach() or sourceTensor.clone().detach().requires_grad_(True), rather than torch.tensor(sourceTensor).\n",
      "  mu5 = torch.tensor(mu_init['mu5'], requires_grad=True)\n",
      "/tmp/ipykernel_781567/3867228192.py:30: UserWarning: To copy construct from a tensor, it is recommended to use sourceTensor.clone().detach() or sourceTensor.clone().detach().requires_grad_(True), rather than torch.tensor(sourceTensor).\n",
      "  mu6 = torch.tensor(mu_init['mu6'], requires_grad=True)\n"
     ]
    },
    {
     "data": {
      "text/plain": [
       "tensor(nan, grad_fn=<TraceBackward0>)"
      ]
     },
     "execution_count": 40,
     "metadata": {},
     "output_type": "execute_result"
    }
   ],
   "source": [
    "loss = InfAwareLoss(OC,true,weight,model,mu_ini)\n",
    "loss"
   ]
  },
  {
   "cell_type": "code",
   "execution_count": 39,
   "metadata": {},
   "outputs": [
    {
     "name": "stderr",
     "output_type": "stream",
     "text": [
      "/tmp/ipykernel_781567/3867228192.py:25: UserWarning: To copy construct from a tensor, it is recommended to use sourceTensor.clone().detach() or sourceTensor.clone().detach().requires_grad_(True), rather than torch.tensor(sourceTensor).\n",
      "  mu1 = torch.tensor(mu_init['mu1'], requires_grad=True)\n",
      "/tmp/ipykernel_781567/3867228192.py:26: UserWarning: To copy construct from a tensor, it is recommended to use sourceTensor.clone().detach() or sourceTensor.clone().detach().requires_grad_(True), rather than torch.tensor(sourceTensor).\n",
      "  mu2 = torch.tensor(mu_init['mu2'], requires_grad=True)\n",
      "/tmp/ipykernel_781567/3867228192.py:27: UserWarning: To copy construct from a tensor, it is recommended to use sourceTensor.clone().detach() or sourceTensor.clone().detach().requires_grad_(True), rather than torch.tensor(sourceTensor).\n",
      "  mu3 = torch.tensor(mu_init['mu3'], requires_grad=True)\n",
      "/tmp/ipykernel_781567/3867228192.py:28: UserWarning: To copy construct from a tensor, it is recommended to use sourceTensor.clone().detach() or sourceTensor.clone().detach().requires_grad_(True), rather than torch.tensor(sourceTensor).\n",
      "  mu4 = torch.tensor(mu_init['mu4'], requires_grad=True)\n",
      "/tmp/ipykernel_781567/3867228192.py:29: UserWarning: To copy construct from a tensor, it is recommended to use sourceTensor.clone().detach() or sourceTensor.clone().detach().requires_grad_(True), rather than torch.tensor(sourceTensor).\n",
      "  mu5 = torch.tensor(mu_init['mu5'], requires_grad=True)\n",
      "/tmp/ipykernel_781567/3867228192.py:30: UserWarning: To copy construct from a tensor, it is recommended to use sourceTensor.clone().detach() or sourceTensor.clone().detach().requires_grad_(True), rather than torch.tensor(sourceTensor).\n",
      "  mu6 = torch.tensor(mu_init['mu6'], requires_grad=True)\n"
     ]
    },
    {
     "name": "stdout",
     "output_type": "stream",
     "text": [
      "Gradient layers.0.weight: tensor([[nan, nan, nan, nan, nan, nan, nan],\n",
      "        [nan, nan, nan, nan, nan, nan, nan],\n",
      "        [nan, nan, nan, nan, nan, nan, nan],\n",
      "        [nan, nan, nan, nan, nan, nan, nan],\n",
      "        [nan, nan, nan, nan, nan, nan, nan],\n",
      "        [nan, nan, nan, nan, nan, nan, nan],\n",
      "        [nan, nan, nan, nan, nan, nan, nan]])\n",
      "Gradient layers.0.bias: tensor([nan, nan, nan, nan, nan, nan, nan])\n",
      "Gradient layers.2.weight: tensor([[nan, nan, nan, nan, nan, nan, nan],\n",
      "        [nan, nan, nan, nan, nan, nan, nan],\n",
      "        [nan, nan, nan, nan, nan, nan, nan],\n",
      "        [nan, nan, nan, nan, nan, nan, nan],\n",
      "        [nan, nan, nan, nan, nan, nan, nan],\n",
      "        [nan, nan, nan, nan, nan, nan, nan],\n",
      "        [nan, nan, nan, nan, nan, nan, nan]])\n",
      "Gradient layers.2.bias: tensor([nan, nan, nan, nan, nan, nan, nan])\n",
      "Gradient layers.4.weight: tensor([[nan, nan, nan, nan, nan, nan, nan],\n",
      "        [nan, nan, nan, nan, nan, nan, nan],\n",
      "        [nan, nan, nan, nan, nan, nan, nan],\n",
      "        [nan, nan, nan, nan, nan, nan, nan],\n",
      "        [nan, nan, nan, nan, nan, nan, nan],\n",
      "        [nan, nan, nan, nan, nan, nan, nan],\n",
      "        [nan, nan, nan, nan, nan, nan, nan]])\n",
      "Gradient layers.4.bias: tensor([nan, nan, nan, nan, nan, nan, nan])\n",
      "layers.0.weight: True\n",
      "layers.0.bias: True\n",
      "layers.2.weight: True\n",
      "layers.2.bias: True\n",
      "layers.4.weight: True\n",
      "layers.4.bias: True\n"
     ]
    }
   ],
   "source": [
    "model = Net()\n",
    "model.train()\n",
    "mu_ini_ex = {'mu1': 1.0, 'mu2': 1.0, 'mu3': 1.0, 'mu4': 1.0, 'mu5': 1.0, 'mu6': 1.0}\n",
    "mu_ini = {key: torch.tensor(value,requires_grad=True) for key, value in mu_ini_ex.items()}\n",
    "optimiser = torch.optim.Adam(model.parameters(), lr=0.001)\n",
    "optimiser.zero_grad()\n",
    "true = label\n",
    "\n",
    "loss = InfAwareLoss(OC,true,weight,model,mu_ini)\n",
    "loss.retain_grad\n",
    "loss.backward()\n",
    "for name, param in model.named_parameters():\n",
    "    print(f\"Gradient {name}: {param.grad}\")\n",
    "for name, param in model.named_parameters():\n",
    "    print(f\"{name}: {param.requires_grad}\")"
   ]
  },
  {
   "cell_type": "code",
   "execution_count": 641,
   "metadata": {},
   "outputs": [
    {
     "name": "stdout",
     "output_type": "stream",
     "text": [
      "None\n"
     ]
    },
    {
     "name": "stderr",
     "output_type": "stream",
     "text": [
      "/tmp/ipykernel_2100582/2657634666.py:1: UserWarning: The .grad attribute of a Tensor that is not a leaf Tensor is being accessed. Its .grad attribute won't be populated during autograd.backward(). If you indeed want the .grad field to be populated for a non-leaf Tensor, use .retain_grad() on the non-leaf Tensor. If you access the non-leaf Tensor by mistake, make sure you access the leaf Tensor instead. See github.com/pytorch/pytorch/pull/30531 for more informations. (Triggered internally at /croot/pytorch_1686931851744/work/build/aten/src/ATen/core/TensorBody.h:486.)\n",
      "  print(loss.grad)\n"
     ]
    }
   ],
   "source": [
    "print(loss.grad)"
   ]
  },
  {
   "cell_type": "code",
   "execution_count": 626,
   "metadata": {},
   "outputs": [
    {
     "name": "stdout",
     "output_type": "stream",
     "text": [
      "layers.0.weight: True\n",
      "layers.0.bias: True\n",
      "layers.2.weight: True\n",
      "layers.2.bias: True\n",
      "layers.4.weight: True\n",
      "layers.4.bias: True\n"
     ]
    }
   ],
   "source": [
    "for name, param in model.named_parameters():\n",
    "    print(f\"{name}: {param.requires_grad}\")"
   ]
  },
  {
   "cell_type": "code",
   "execution_count": 138,
   "metadata": {},
   "outputs": [
    {
     "ename": "NameError",
     "evalue": "name 'mu_ini' is not defined",
     "output_type": "error",
     "traceback": [
      "\u001b[0;31m---------------------------------------------------------------------------\u001b[0m",
      "\u001b[0;31mNameError\u001b[0m                                 Traceback (most recent call last)",
      "Cell \u001b[0;32mIn[138], line 1\u001b[0m\n\u001b[0;32m----> 1\u001b[0m \u001b[38;5;28;01mfor\u001b[39;00m name, param \u001b[38;5;129;01min\u001b[39;00m \u001b[43mmu_ini\u001b[49m\u001b[38;5;241m.\u001b[39mitems():\n\u001b[1;32m      2\u001b[0m     \u001b[38;5;28;01mif\u001b[39;00m param\u001b[38;5;241m.\u001b[39mgrad \u001b[38;5;129;01mis\u001b[39;00m \u001b[38;5;129;01mnot\u001b[39;00m \u001b[38;5;28;01mNone\u001b[39;00m:\n\u001b[1;32m      3\u001b[0m         \u001b[38;5;28mprint\u001b[39m(\u001b[38;5;124mf\u001b[39m\u001b[38;5;124m'\u001b[39m\u001b[38;5;124mGradient for \u001b[39m\u001b[38;5;132;01m{\u001b[39;00mname\u001b[38;5;132;01m}\u001b[39;00m\u001b[38;5;124m: \u001b[39m\u001b[38;5;132;01m{\u001b[39;00mparam\u001b[38;5;241m.\u001b[39mgrad\u001b[38;5;132;01m}\u001b[39;00m\u001b[38;5;124m'\u001b[39m)\n",
      "\u001b[0;31mNameError\u001b[0m: name 'mu_ini' is not defined"
     ]
    }
   ],
   "source": [
    "for name, param in mu_ini.items():\n",
    "    if param.grad is not None:\n",
    "        print(f'Gradient for {name}: {param.grad}')\n",
    "    else:\n",
    "        print(f'No gradient for {name}')"
   ]
  }
 ],
 "metadata": {
  "kernelspec": {
   "display_name": "Python 3",
   "language": "python",
   "name": "python3"
  },
  "language_info": {
   "codemirror_mode": {
    "name": "ipython",
    "version": 3
   },
   "file_extension": ".py",
   "mimetype": "text/x-python",
   "name": "python",
   "nbconvert_exporter": "python",
   "pygments_lexer": "ipython3",
   "version": "3.11.5"
  }
 },
 "nbformat": 4,
 "nbformat_minor": 2
}
